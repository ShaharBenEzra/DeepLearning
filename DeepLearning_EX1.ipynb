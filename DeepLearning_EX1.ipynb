{
 "cells": [
  {
   "cell_type": "code",
   "execution_count": 13,
   "id": "45101032",
   "metadata": {},
   "outputs": [
    {
     "name": "stdout",
     "output_type": "stream",
     "text": [
      "Requirement already satisfied: tensorflow in c:\\users\\benez\\anaconda3\\lib\\site-packages (2.7.0)\n",
      "Requirement already satisfied: flatbuffers<3.0,>=1.12 in c:\\users\\benez\\anaconda3\\lib\\site-packages (from tensorflow) (2.0)\n",
      "Requirement already satisfied: tensorflow-io-gcs-filesystem>=0.21.0 in c:\\users\\benez\\anaconda3\\lib\\site-packages (from tensorflow) (0.22.0)\n",
      "Requirement already satisfied: tensorboard~=2.6 in c:\\users\\benez\\anaconda3\\lib\\site-packages (from tensorflow) (2.7.0)\n",
      "Requirement already satisfied: gast<0.5.0,>=0.2.1 in c:\\users\\benez\\anaconda3\\lib\\site-packages (from tensorflow) (0.4.0)\n",
      "Requirement already satisfied: termcolor>=1.1.0 in c:\\users\\benez\\anaconda3\\lib\\site-packages (from tensorflow) (1.1.0)\n",
      "Requirement already satisfied: typing-extensions>=3.6.6 in c:\\users\\benez\\anaconda3\\lib\\site-packages (from tensorflow) (3.7.4.3)\n",
      "Requirement already satisfied: h5py>=2.9.0 in c:\\users\\benez\\anaconda3\\lib\\site-packages (from tensorflow) (2.10.0)\n",
      "Requirement already satisfied: grpcio<2.0,>=1.24.3 in c:\\users\\benez\\anaconda3\\lib\\site-packages (from tensorflow) (1.42.0)\n",
      "Requirement already satisfied: keras-preprocessing>=1.1.1 in c:\\users\\benez\\anaconda3\\lib\\site-packages (from tensorflow) (1.1.2)\n",
      "Requirement already satisfied: libclang>=9.0.1 in c:\\users\\benez\\anaconda3\\lib\\site-packages (from tensorflow) (12.0.0)\n",
      "Requirement already satisfied: opt-einsum>=2.3.2 in c:\\users\\benez\\anaconda3\\lib\\site-packages (from tensorflow) (3.3.0)\n",
      "Requirement already satisfied: keras<2.8,>=2.7.0rc0 in c:\\users\\benez\\anaconda3\\lib\\site-packages (from tensorflow) (2.7.0)\n",
      "Requirement already satisfied: wrapt>=1.11.0 in c:\\users\\benez\\anaconda3\\lib\\site-packages (from tensorflow) (1.12.1)\n",
      "Requirement already satisfied: google-pasta>=0.1.1 in c:\\users\\benez\\anaconda3\\lib\\site-packages (from tensorflow) (0.2.0)\n",
      "Requirement already satisfied: protobuf>=3.9.2 in c:\\users\\benez\\anaconda3\\lib\\site-packages (from tensorflow) (3.19.1)\n",
      "Requirement already satisfied: tensorflow-estimator<2.8,~=2.7.0rc0 in c:\\users\\benez\\anaconda3\\lib\\site-packages (from tensorflow) (2.7.0)\n",
      "Requirement already satisfied: wheel<1.0,>=0.32.0 in c:\\users\\benez\\anaconda3\\lib\\site-packages (from tensorflow) (0.36.2)\n",
      "Requirement already satisfied: six>=1.12.0 in c:\\users\\benez\\anaconda3\\lib\\site-packages (from tensorflow) (1.15.0)\n",
      "Requirement already satisfied: numpy>=1.14.5 in c:\\users\\benez\\anaconda3\\lib\\site-packages (from tensorflow) (1.20.1)\n",
      "Requirement already satisfied: astunparse>=1.6.0 in c:\\users\\benez\\anaconda3\\lib\\site-packages (from tensorflow) (1.6.3)\n",
      "Requirement already satisfied: absl-py>=0.4.0 in c:\\users\\benez\\anaconda3\\lib\\site-packages (from tensorflow) (1.0.0)\n",
      "Requirement already satisfied: setuptools>=41.0.0 in c:\\users\\benez\\anaconda3\\lib\\site-packages (from tensorboard~=2.6->tensorflow) (52.0.0.post20210125)\n",
      "Requirement already satisfied: google-auth<3,>=1.6.3 in c:\\users\\benez\\anaconda3\\lib\\site-packages (from tensorboard~=2.6->tensorflow) (2.3.3)\n",
      "Requirement already satisfied: markdown>=2.6.8 in c:\\users\\benez\\anaconda3\\lib\\site-packages (from tensorboard~=2.6->tensorflow) (3.3.6)\n",
      "Requirement already satisfied: tensorboard-plugin-wit>=1.6.0 in c:\\users\\benez\\anaconda3\\lib\\site-packages (from tensorboard~=2.6->tensorflow) (1.8.0)\n",
      "Requirement already satisfied: google-auth-oauthlib<0.5,>=0.4.1 in c:\\users\\benez\\anaconda3\\lib\\site-packages (from tensorboard~=2.6->tensorflow) (0.4.6)\n",
      "Requirement already satisfied: tensorboard-data-server<0.7.0,>=0.6.0 in c:\\users\\benez\\anaconda3\\lib\\site-packages (from tensorboard~=2.6->tensorflow) (0.6.1)\n",
      "Requirement already satisfied: werkzeug>=0.11.15 in c:\\users\\benez\\anaconda3\\lib\\site-packages (from tensorboard~=2.6->tensorflow) (1.0.1)\n",
      "Requirement already satisfied: requests<3,>=2.21.0 in c:\\users\\benez\\anaconda3\\lib\\site-packages (from tensorboard~=2.6->tensorflow) (2.25.1)\n",
      "Requirement already satisfied: pyasn1-modules>=0.2.1 in c:\\users\\benez\\anaconda3\\lib\\site-packages (from google-auth<3,>=1.6.3->tensorboard~=2.6->tensorflow) (0.2.8)\n",
      "Requirement already satisfied: rsa<5,>=3.1.4 in c:\\users\\benez\\anaconda3\\lib\\site-packages (from google-auth<3,>=1.6.3->tensorboard~=2.6->tensorflow) (4.8)\n",
      "Requirement already satisfied: cachetools<5.0,>=2.0.0 in c:\\users\\benez\\anaconda3\\lib\\site-packages (from google-auth<3,>=1.6.3->tensorboard~=2.6->tensorflow) (4.2.4)\n",
      "Requirement already satisfied: requests-oauthlib>=0.7.0 in c:\\users\\benez\\anaconda3\\lib\\site-packages (from google-auth-oauthlib<0.5,>=0.4.1->tensorboard~=2.6->tensorflow) (1.3.0)\n",
      "Requirement already satisfied: importlib-metadata>=4.4 in c:\\users\\benez\\anaconda3\\lib\\site-packages (from markdown>=2.6.8->tensorboard~=2.6->tensorflow) (4.8.2)\n",
      "Requirement already satisfied: zipp>=0.5 in c:\\users\\benez\\anaconda3\\lib\\site-packages (from importlib-metadata>=4.4->markdown>=2.6.8->tensorboard~=2.6->tensorflow) (3.4.1)\n",
      "Requirement already satisfied: pyasn1<0.5.0,>=0.4.6 in c:\\users\\benez\\anaconda3\\lib\\site-packages (from pyasn1-modules>=0.2.1->google-auth<3,>=1.6.3->tensorboard~=2.6->tensorflow) (0.4.8)\n",
      "Requirement already satisfied: certifi>=2017.4.17 in c:\\users\\benez\\anaconda3\\lib\\site-packages (from requests<3,>=2.21.0->tensorboard~=2.6->tensorflow) (2020.12.5)\n",
      "Requirement already satisfied: idna<3,>=2.5 in c:\\users\\benez\\anaconda3\\lib\\site-packages (from requests<3,>=2.21.0->tensorboard~=2.6->tensorflow) (2.10)\n",
      "Requirement already satisfied: chardet<5,>=3.0.2 in c:\\users\\benez\\anaconda3\\lib\\site-packages (from requests<3,>=2.21.0->tensorboard~=2.6->tensorflow) (4.0.0)\n",
      "Requirement already satisfied: urllib3<1.27,>=1.21.1 in c:\\users\\benez\\anaconda3\\lib\\site-packages (from requests<3,>=2.21.0->tensorboard~=2.6->tensorflow) (1.26.4)\n",
      "Requirement already satisfied: oauthlib>=3.0.0 in c:\\users\\benez\\anaconda3\\lib\\site-packages (from requests-oauthlib>=0.7.0->google-auth-oauthlib<0.5,>=0.4.1->tensorboard~=2.6->tensorflow) (3.1.1)\n"
     ]
    }
   ],
   "source": [
    "!pip install tensorflow"
   ]
  },
  {
   "cell_type": "code",
   "execution_count": 14,
   "id": "b4d24141",
   "metadata": {},
   "outputs": [
    {
     "name": "stderr",
     "output_type": "stream",
     "text": [
      "ERROR: Could not find a version that satisfies the requirement os\n",
      "ERROR: No matching distribution found for os\n"
     ]
    }
   ],
   "source": [
    "!pip install os"
   ]
  },
  {
   "cell_type": "code",
   "execution_count": 15,
   "id": "1e45e05f",
   "metadata": {
    "scrolled": true
   },
   "outputs": [
    {
     "name": "stdout",
     "output_type": "stream",
     "text": [
      "Requirement already satisfied: matplotlib in c:\\users\\benez\\anaconda3\\lib\\site-packages (3.3.4)\n",
      "Requirement already satisfied: numpy>=1.15 in c:\\users\\benez\\anaconda3\\lib\\site-packages (from matplotlib) (1.20.1)\n",
      "Requirement already satisfied: pillow>=6.2.0 in c:\\users\\benez\\anaconda3\\lib\\site-packages (from matplotlib) (8.2.0)\n",
      "Requirement already satisfied: cycler>=0.10 in c:\\users\\benez\\anaconda3\\lib\\site-packages (from matplotlib) (0.10.0)\n",
      "Requirement already satisfied: kiwisolver>=1.0.1 in c:\\users\\benez\\anaconda3\\lib\\site-packages (from matplotlib) (1.3.1)\n",
      "Requirement already satisfied: python-dateutil>=2.1 in c:\\users\\benez\\anaconda3\\lib\\site-packages (from matplotlib) (2.8.1)\n",
      "Requirement already satisfied: pyparsing!=2.0.4,!=2.1.2,!=2.1.6,>=2.0.3 in c:\\users\\benez\\anaconda3\\lib\\site-packages (from matplotlib) (2.4.7)\n",
      "Requirement already satisfied: six in c:\\users\\benez\\anaconda3\\lib\\site-packages (from cycler>=0.10->matplotlib) (1.15.0)\n"
     ]
    }
   ],
   "source": [
    "!pip install matplotlib"
   ]
  },
  {
   "cell_type": "code",
   "execution_count": 16,
   "id": "e185d3c9",
   "metadata": {},
   "outputs": [
    {
     "name": "stdout",
     "output_type": "stream",
     "text": [
      "Requirement already satisfied: sklearn in c:\\users\\benez\\anaconda3\\lib\\site-packages (0.0)\n",
      "Requirement already satisfied: scikit-learn in c:\\users\\benez\\anaconda3\\lib\\site-packages (from sklearn) (0.24.1)\n",
      "Requirement already satisfied: joblib>=0.11 in c:\\users\\benez\\anaconda3\\lib\\site-packages (from scikit-learn->sklearn) (1.0.1)\n",
      "Requirement already satisfied: numpy>=1.13.3 in c:\\users\\benez\\anaconda3\\lib\\site-packages (from scikit-learn->sklearn) (1.20.1)\n",
      "Requirement already satisfied: scipy>=0.19.1 in c:\\users\\benez\\anaconda3\\lib\\site-packages (from scikit-learn->sklearn) (1.6.2)\n",
      "Requirement already satisfied: threadpoolctl>=2.0.0 in c:\\users\\benez\\anaconda3\\lib\\site-packages (from scikit-learn->sklearn) (2.1.0)\n"
     ]
    }
   ],
   "source": [
    "!pip install sklearn"
   ]
  },
  {
   "cell_type": "markdown",
   "id": "31abfcef",
   "metadata": {},
   "source": [
    "### import "
   ]
  },
  {
   "cell_type": "code",
   "execution_count": 17,
   "id": "7e07c3db",
   "metadata": {},
   "outputs": [],
   "source": [
    "import tensorflow as tf\n",
    "import numpy as np\n",
    "import matplotlib.pyplot as plt\n",
    "import os\n",
    "from tensorflow.keras.models import Sequential\n",
    "from tensorflow.keras.layers import Dense, Flatten\n",
    "from tensorflow.keras.preprocessing.image import ImageDataGenerator\n",
    "from tensorflow.keras.optimizers import Adam\n"
   ]
  },
  {
   "cell_type": "markdown",
   "id": "d4a4777f",
   "metadata": {},
   "source": [
    "### Import Keras Libraries"
   ]
  },
  {
   "cell_type": "code",
   "execution_count": 18,
   "id": "7b4c2586",
   "metadata": {},
   "outputs": [],
   "source": [
    "import keras\n",
    "from keras import optimizers\n",
    "import matplotlib.pyplot as plt\n",
    "from tensorflow.keras import datasets, layers, models\n",
    "from keras.layers import Activation\n",
    "from keras.models import Sequential\n",
    "from keras.layers import Conv2D\n",
    "from keras.layers import MaxPooling2D\n",
    "from keras.layers import Flatten\n",
    "from keras.layers import Dense\n",
    "from keras.preprocessing.image import ImageDataGenerator, load_img\n",
    "from sklearn.metrics import classification_report, confusion_matrix"
   ]
  },
  {
   "cell_type": "markdown",
   "id": "47bf9a41",
   "metadata": {},
   "source": [
    "### Read flle"
   ]
  },
  {
   "cell_type": "code",
   "execution_count": 19,
   "id": "4d340c64",
   "metadata": {},
   "outputs": [
    {
     "name": "stdout",
     "output_type": "stream",
     "text": [
      "Accout train normal is : 1341 and Accout train PNEUMONIA is 3875\n",
      "Accout test normal is : 234 and Accout test PNEUMONIA is 390\n",
      "Total images in the training set:  5216\n",
      "Total images in the test set:  624\n"
     ]
    }
   ],
   "source": [
    "Read_folder = r'C:\\Users\\benez\\Desktop\\EX1 - deep learning\\chest_xray\\chest_xray'\n",
    "train_Read_folder = os.path.join(Read_folder, 'train')\n",
    "test_Read_folder = os.path.join(Read_folder, 'test')\n",
    "val_Read_folder = os.path.join(Read_folder, 'val')\n",
    "train_p_Read_folder = os.path.join(train_Read_folder, 'PNEUMONIA')\n",
    "train_n_Read_folder = os.path.join(train_Read_folder, 'NORMAL')\n",
    "test_p_Read_folder = os.path.join(test_Read_folder, 'PNEUMONIA')\n",
    "test_n_Read_folder = os.path.join(test_Read_folder, 'NORMAL')\n",
    "\n",
    "# Extracting all file names \n",
    "train_PNEUMONIA_files = os.listdir(train_p_Read_folder)\n",
    "train_NORMAL_files = os.listdir(train_n_Read_folder)\n",
    "test_PNEUMONIA_files = os.listdir(test_p_Read_folder)\n",
    "test_NORMAL_files = os.listdir(test_n_Read_folder)\n",
    "\n",
    "# test to show hwo mach fiile we have\n",
    "print (\"Accout train normal is :\",len(train_NORMAL_files), \"and Accout train PNEUMONIA is\" , len(train_PNEUMONIA_files))\n",
    "print (\"Accout test normal is :\",len(test_NORMAL_files), \"and Accout test PNEUMONIA is\" , len(test_PNEUMONIA_files))\n",
    "print(\"Total images in the training set: \", len(train_PNEUMONIA_files+train_NORMAL_files))\n",
    "print(\"Total images in the test set: \", len(test_PNEUMONIA_files+test_NORMAL_files))"
   ]
  },
  {
   "cell_type": "markdown",
   "id": "598d6188",
   "metadata": {},
   "source": [
    "### Section number A"
   ]
  },
  {
   "cell_type": "code",
   "execution_count": 20,
   "id": "5efad043",
   "metadata": {},
   "outputs": [
    {
     "name": "stdout",
     "output_type": "stream",
     "text": [
      "Found 5216 files belonging to 2 classes.\n",
      "Using 4695 files for training.\n",
      "Found 5216 files belonging to 2 classes.\n",
      "Using 521 files for validation.\n",
      "Found 5216 images belonging to 2 classes.\n",
      "Found 624 images belonging to 2 classes.\n",
      "Found 16 images belonging to 2 classes.\n",
      "The shape of image is :  (224, 224, 1)\n",
      "train data BATCH SIZE is 87\n",
      "test data BATCH SIZE is 11\n",
      "the kind of classes model is :  {'NORMAL': 0, 'PNEUMONIA': 1}\n",
      "the number of classes model is :  2\n"
     ]
    }
   ],
   "source": [
    "BATCH_SIZE=60\n",
    "\n",
    "# Normalization\n",
    "\n",
    "train_normalization = ImageDataGenerator(rescale=1./255)\n",
    "test_normalization = ImageDataGenerator(rescale=1./255)\n",
    "val_normalization = ImageDataGenerator(rescale=1./255)\n",
    "\n",
    "# Redefine names\n",
    "train_directory=train_Read_folder\n",
    "test_directory=test_Read_folder\n",
    "val_directory=val_Read_folder\n",
    "\n",
    "\n",
    "\n",
    "# File deviding to train and val\n",
    "train_data = tf.keras.utils.image_dataset_from_directory(\n",
    "    train_directory, seed=3, validation_split=0.1, subset='training')\n",
    "    \n",
    "val_data = tf.keras.utils.image_dataset_from_directory(\n",
    "    train_directory, seed=3, validation_split=0.1, subset='validation')\n",
    "\n",
    "# resizing and dividing to batches\n",
    "train_data=train_normalization.flow_from_directory(train_directory, target_size=(224,224),class_mode='binary', batch_size= BATCH_SIZE, color_mode='grayscale')\n",
    "test_data=test_normalization.flow_from_directory(test_directory, target_size=(224,224),class_mode='binary',batch_size= BATCH_SIZE, color_mode='grayscale')\n",
    "val_data=val_normalization.flow_from_directory(val_directory, target_size=(224,224),class_mode='binary', batch_size= 2, color_mode='grayscale')\n",
    "\n",
    "# data\n",
    "print('The shape of image is : ',test_data.image_shape)\n",
    "print('train data BATCH SIZE is',len(train_data))\n",
    "print('test data BATCH SIZE is',len(test_data))\n",
    "print(\"the kind of classes model is : \",train_data.class_indices)\n",
    "print(\"the number of classes model is : \",train_data.num_classes)"
   ]
  },
  {
   "cell_type": "markdown",
   "id": "b5e7c612",
   "metadata": {},
   "source": [
    "### Model settings"
   ]
  },
  {
   "cell_type": "code",
   "execution_count": 21,
   "id": "b7f160ec",
   "metadata": {},
   "outputs": [
    {
     "name": "stdout",
     "output_type": "stream",
     "text": [
      "Model: \"my_sequential\"\n",
      "_________________________________________________________________\n",
      " Layer (type)                Output Shape              Param #   \n",
      "=================================================================\n",
      " flatten_1 (Flatten)         (None, 50176)             0         \n",
      "                                                                 \n",
      " Dense1 (Dense)              (None, 64)                3211328   \n",
      "                                                                 \n",
      " Dense2 (Dense)              (None, 64)                4160      \n",
      "                                                                 \n",
      " Dense3 (Dense)              (None, 32)                2080      \n",
      "                                                                 \n",
      " Dense4 (Dense)              (None, 1)                 33        \n",
      "                                                                 \n",
      "=================================================================\n",
      "Total params: 3,217,601\n",
      "Trainable params: 3,217,601\n",
      "Non-trainable params: 0\n",
      "_________________________________________________________________\n"
     ]
    }
   ],
   "source": [
    "model = keras.Sequential(name=\"my_sequential\")\n",
    "model.add(layers.Flatten(input_shape=(224,224,1)))\n",
    "model.add(layers.Dense(64, activation='relu', name='Dense1'))\n",
    "model.add(layers.Dense(64, activation='relu', name='Dense2'))\n",
    "model.add(layers.Dense(32, activation='relu', name='Dense3'))\n",
    "model.add(layers.Dense(1, activation='sigmoid', name='Dense4'))\n",
    "model.summary()"
   ]
  },
  {
   "cell_type": "code",
   "execution_count": 22,
   "id": "d7cff7b8",
   "metadata": {},
   "outputs": [],
   "source": [
    "model.compile(loss='binary_crossentropy', optimizer = Adam(learning_rate=1e-4), metrics=['accuracy'])"
   ]
  },
  {
   "cell_type": "markdown",
   "id": "428c115c",
   "metadata": {},
   "source": [
    "### Section number B"
   ]
  },
  {
   "cell_type": "code",
   "execution_count": 23,
   "id": "33ff0245",
   "metadata": {},
   "outputs": [
    {
     "name": "stdout",
     "output_type": "stream",
     "text": [
      "Epoch 1/50\n",
      "87/87 [==============================] - 42s 485ms/step - loss: 0.3683 - accuracy: 0.8428 - val_loss: 0.6587 - val_accuracy: 0.6875\n",
      "Epoch 2/50\n",
      "87/87 [==============================] - 42s 478ms/step - loss: 0.1812 - accuracy: 0.9346 - val_loss: 0.5061 - val_accuracy: 0.8125\n",
      "Epoch 3/50\n",
      "87/87 [==============================] - 42s 488ms/step - loss: 0.1577 - accuracy: 0.9427 - val_loss: 0.2647 - val_accuracy: 0.9375\n",
      "Epoch 4/50\n",
      "87/87 [==============================] - 42s 480ms/step - loss: 0.1364 - accuracy: 0.9473 - val_loss: 0.6010 - val_accuracy: 0.7500\n",
      "Epoch 5/50\n",
      "87/87 [==============================] - 42s 481ms/step - loss: 0.1386 - accuracy: 0.9456 - val_loss: 0.4447 - val_accuracy: 0.8125\n",
      "Epoch 6/50\n",
      "87/87 [==============================] - 42s 481ms/step - loss: 0.1287 - accuracy: 0.9505 - val_loss: 0.2698 - val_accuracy: 0.9375\n",
      "Epoch 7/50\n",
      "87/87 [==============================] - 49s 569ms/step - loss: 0.1323 - accuracy: 0.9480 - val_loss: 0.5197 - val_accuracy: 0.7500\n",
      "Epoch 8/50\n",
      "87/87 [==============================] - 43s 492ms/step - loss: 0.1151 - accuracy: 0.9561 - val_loss: 0.2367 - val_accuracy: 0.9375\n",
      "Epoch 9/50\n",
      "87/87 [==============================] - 43s 491ms/step - loss: 0.1090 - accuracy: 0.9605 - val_loss: 0.2081 - val_accuracy: 0.9375\n",
      "Epoch 10/50\n",
      "87/87 [==============================] - 43s 490ms/step - loss: 0.0990 - accuracy: 0.9649 - val_loss: 0.3167 - val_accuracy: 0.8750\n",
      "Epoch 11/50\n",
      "87/87 [==============================] - 43s 490ms/step - loss: 0.1100 - accuracy: 0.9571 - val_loss: 0.3164 - val_accuracy: 0.8750\n",
      "Epoch 12/50\n",
      "87/87 [==============================] - 42s 481ms/step - loss: 0.0937 - accuracy: 0.9655 - val_loss: 0.3047 - val_accuracy: 0.8750\n",
      "Epoch 13/50\n",
      "87/87 [==============================] - 43s 498ms/step - loss: 0.1070 - accuracy: 0.9588 - val_loss: 0.2528 - val_accuracy: 0.9375\n",
      "Epoch 14/50\n",
      "87/87 [==============================] - 42s 485ms/step - loss: 0.1006 - accuracy: 0.9609 - val_loss: 0.2295 - val_accuracy: 0.9375\n",
      "Epoch 15/50\n",
      "87/87 [==============================] - 44s 502ms/step - loss: 0.0946 - accuracy: 0.9613 - val_loss: 0.3525 - val_accuracy: 0.8750\n",
      "Epoch 16/50\n",
      "87/87 [==============================] - 44s 504ms/step - loss: 0.0898 - accuracy: 0.9661 - val_loss: 0.4920 - val_accuracy: 0.7500\n",
      "Epoch 17/50\n",
      "87/87 [==============================] - 43s 494ms/step - loss: 0.1197 - accuracy: 0.9528 - val_loss: 0.7881 - val_accuracy: 0.7500\n",
      "Epoch 18/50\n",
      "87/87 [==============================] - 41s 476ms/step - loss: 0.0940 - accuracy: 0.9651 - val_loss: 0.4565 - val_accuracy: 0.7500\n",
      "Epoch 19/50\n",
      "87/87 [==============================] - 46s 530ms/step - loss: 0.0845 - accuracy: 0.9684 - val_loss: 0.2106 - val_accuracy: 0.9375\n",
      "Epoch 20/50\n",
      "87/87 [==============================] - 47s 538ms/step - loss: 0.1095 - accuracy: 0.9565 - val_loss: 0.3467 - val_accuracy: 0.8750\n",
      "Epoch 21/50\n",
      "87/87 [==============================] - 47s 538ms/step - loss: 0.0792 - accuracy: 0.9697 - val_loss: 0.2095 - val_accuracy: 0.9375\n",
      "Epoch 22/50\n",
      "87/87 [==============================] - 44s 502ms/step - loss: 0.0735 - accuracy: 0.9722 - val_loss: 0.2907 - val_accuracy: 0.8750\n",
      "Epoch 23/50\n",
      "87/87 [==============================] - 42s 484ms/step - loss: 0.0895 - accuracy: 0.9636 - val_loss: 0.1070 - val_accuracy: 1.0000\n",
      "Epoch 24/50\n",
      "87/87 [==============================] - 48s 554ms/step - loss: 0.0949 - accuracy: 0.9630 - val_loss: 0.2056 - val_accuracy: 0.9375\n",
      "Epoch 25/50\n",
      "87/87 [==============================] - 46s 526ms/step - loss: 0.0867 - accuracy: 0.9686 - val_loss: 0.1325 - val_accuracy: 0.9375\n",
      "Epoch 26/50\n",
      "87/87 [==============================] - 46s 529ms/step - loss: 0.0694 - accuracy: 0.9751 - val_loss: 0.5313 - val_accuracy: 0.7500\n",
      "Epoch 27/50\n",
      "87/87 [==============================] - 45s 516ms/step - loss: 0.0742 - accuracy: 0.9703 - val_loss: 0.1040 - val_accuracy: 1.0000\n",
      "Epoch 28/50\n",
      "87/87 [==============================] - 46s 530ms/step - loss: 0.0772 - accuracy: 0.9712 - val_loss: 0.1786 - val_accuracy: 0.8750\n",
      "Epoch 29/50\n",
      "87/87 [==============================] - 55s 628ms/step - loss: 0.0731 - accuracy: 0.9735 - val_loss: 0.1865 - val_accuracy: 0.8750\n",
      "Epoch 30/50\n",
      "87/87 [==============================] - 65s 747ms/step - loss: 0.0567 - accuracy: 0.9799 - val_loss: 0.1740 - val_accuracy: 0.8750\n",
      "Epoch 31/50\n",
      "87/87 [==============================] - 48s 547ms/step - loss: 0.0615 - accuracy: 0.9764 - val_loss: 0.4494 - val_accuracy: 0.8125\n",
      "Epoch 32/50\n",
      "87/87 [==============================] - 43s 497ms/step - loss: 0.0602 - accuracy: 0.9776 - val_loss: 0.3035 - val_accuracy: 0.8750\n",
      "Epoch 33/50\n",
      "87/87 [==============================] - 43s 493ms/step - loss: 0.0627 - accuracy: 0.9753 - val_loss: 0.8118 - val_accuracy: 0.7500\n",
      "Epoch 34/50\n",
      "87/87 [==============================] - 44s 501ms/step - loss: 0.0687 - accuracy: 0.9747 - val_loss: 0.3575 - val_accuracy: 0.8750\n",
      "Epoch 35/50\n",
      "87/87 [==============================] - 44s 508ms/step - loss: 0.0653 - accuracy: 0.9753 - val_loss: 0.1450 - val_accuracy: 0.9375\n",
      "Epoch 36/50\n",
      "87/87 [==============================] - 42s 487ms/step - loss: 0.0546 - accuracy: 0.9791 - val_loss: 0.1032 - val_accuracy: 1.0000\n",
      "Epoch 37/50\n",
      "87/87 [==============================] - 42s 484ms/step - loss: 0.0639 - accuracy: 0.9757 - val_loss: 0.1295 - val_accuracy: 0.9375\n",
      "Epoch 38/50\n",
      "87/87 [==============================] - 43s 489ms/step - loss: 0.0540 - accuracy: 0.9801 - val_loss: 0.7270 - val_accuracy: 0.7500\n",
      "Epoch 39/50\n",
      "87/87 [==============================] - 45s 519ms/step - loss: 0.0460 - accuracy: 0.9847 - val_loss: 0.1627 - val_accuracy: 0.8750\n",
      "Epoch 40/50\n",
      "87/87 [==============================] - 42s 488ms/step - loss: 0.0884 - accuracy: 0.9651 - val_loss: 0.1805 - val_accuracy: 0.8750\n",
      "Epoch 41/50\n",
      "87/87 [==============================] - 42s 483ms/step - loss: 0.0464 - accuracy: 0.9833 - val_loss: 0.4901 - val_accuracy: 0.8125\n",
      "Epoch 42/50\n",
      "87/87 [==============================] - 42s 482ms/step - loss: 0.0552 - accuracy: 0.9791 - val_loss: 0.1304 - val_accuracy: 0.8750\n",
      "Epoch 43/50\n",
      "87/87 [==============================] - 42s 482ms/step - loss: 0.0437 - accuracy: 0.9822 - val_loss: 0.3982 - val_accuracy: 0.8125\n",
      "Epoch 44/50\n",
      "87/87 [==============================] - 42s 486ms/step - loss: 0.0429 - accuracy: 0.9843 - val_loss: 0.2816 - val_accuracy: 0.8750\n",
      "Epoch 45/50\n",
      "87/87 [==============================] - 42s 484ms/step - loss: 0.0548 - accuracy: 0.9789 - val_loss: 2.0946 - val_accuracy: 0.5625\n",
      "Epoch 46/50\n",
      "87/87 [==============================] - 42s 485ms/step - loss: 0.0570 - accuracy: 0.9778 - val_loss: 0.3777 - val_accuracy: 0.8125\n",
      "Epoch 47/50\n",
      "87/87 [==============================] - 42s 481ms/step - loss: 0.0453 - accuracy: 0.9835 - val_loss: 0.1185 - val_accuracy: 0.9375\n",
      "Epoch 48/50\n",
      "87/87 [==============================] - 42s 481ms/step - loss: 0.0377 - accuracy: 0.9856 - val_loss: 0.1945 - val_accuracy: 0.8750\n",
      "Epoch 49/50\n",
      "87/87 [==============================] - 42s 482ms/step - loss: 0.0360 - accuracy: 0.9872 - val_loss: 0.5508 - val_accuracy: 0.7500\n",
      "Epoch 50/50\n",
      "87/87 [==============================] - 45s 513ms/step - loss: 0.0478 - accuracy: 0.9810 - val_loss: 0.3066 - val_accuracy: 0.8750\n"
     ]
    }
   ],
   "source": [
    "epochs = 50\n",
    "model_fit = model.fit(train_data,validation_data = val_data, epochs=epochs, batch_size=BATCH_SIZE )"
   ]
  },
  {
   "cell_type": "code",
   "execution_count": 24,
   "id": "b926e6d6",
   "metadata": {},
   "outputs": [
    {
     "name": "stdout",
     "output_type": "stream",
     "text": [
      "dict_keys(['loss', 'accuracy', 'val_loss', 'val_accuracy'])\n"
     ]
    },
    {
     "data": {
      "image/png": "[encoded data removed]",
      "text/plain": [
       "<Figure size 432x288 with 1 Axes>"
      ]
     },
     "metadata": {
      "needs_background": "light"
     },
     "output_type": "display_data"
    },
    {
     "data": {
      "image/png": "[encoded data removed]",
      "text/plain": [
       "<Figure size 432x288 with 1 Axes>"
      ]
     },
     "metadata": {
      "needs_background": "light"
     },
     "output_type": "display_data"
    }
   ],
   "source": [
    "print(model_fit.history.keys())\n",
    "plt.plot(model_fit.history['accuracy'])\n",
    "plt.plot(model_fit.history['val_accuracy'])\n",
    "plt.title('model accuracy')\n",
    "plt.ylabel('accuracy')\n",
    "plt.xlabel('epoch')\n",
    "plt.legend(['train', 'Val'], loc='upper left')\n",
    "plt.show()\n",
    "# summarize history for loss\n",
    "plt.plot(model_fit.history['loss'])\n",
    "plt.plot(model_fit.history['val_loss'])\n",
    "plt.title('model loss')\n",
    "plt.ylabel('loss')\n",
    "plt.xlabel('epoch')\n",
    "plt.legend(['train', 'Val'], loc='upper left')\n",
    "plt.show()"
   ]
  },
  {
   "cell_type": "markdown",
   "id": "5f4b010e",
   "metadata": {},
   "source": [
    "### Section number C"
   ]
  },
  {
   "cell_type": "code",
   "execution_count": 25,
   "id": "db552126",
   "metadata": {},
   "outputs": [],
   "source": [
    "predictions_DNN = model.predict(test_data) \n",
    "y_pred_Adam = predictions_DNN > 0.5\n",
    "y_true_Adam = test_data.classes "
   ]
  },
  {
   "cell_type": "code",
   "execution_count": 26,
   "id": "f53ee5da",
   "metadata": {},
   "outputs": [
    {
     "data": {
      "image/png": "[encoded data removed]",
      "text/plain": [
       "<Figure size 432x288 with 2 Axes>"
      ]
     },
     "metadata": {
      "needs_background": "light"
     },
     "output_type": "display_data"
    }
   ],
   "source": [
    "import seaborn as sns\n",
    "\n",
    "font = {\n",
    "    'family': 'Times New Roman',\n",
    "    'size': 12\n",
    "}\n",
    "plt.rc('font', **font)\n",
    "mat = confusion_matrix(y_true_Adam, y_pred_Adam)\n",
    "sns.heatmap(mat, annot=True, fmt=\"d\")\n",
    "\n",
    "plt.xlabel(\"Predicted Label\", fontsize= 12)\n",
    "plt.ylabel(\"True Label\", fontsize= 12)\n",
    "\n",
    "plt.show()\n",
    "\n"
   ]
  },
  {
   "cell_type": "code",
   "execution_count": 27,
   "id": "2fb0be2f",
   "metadata": {},
   "outputs": [
    {
     "name": "stdout",
     "output_type": "stream",
     "text": [
      " The recall of model is: 0.8743589743589744\n",
      "The precision of the model is: 0.6279926335174953\n"
     ]
    }
   ],
   "source": [
    "import sklearn.metrics\n",
    "\n",
    "#Recall = TruePositives / (TruePositives + FalseNegatives)\n",
    "#precision = TruePositives/(TruePositives+FalsePositives)\n",
    "\n",
    "recall = sklearn.metrics.recall_score(y_true_Adam, y_pred_Adam, pos_label=1)\n",
    "print(\" The recall of model is:\" ,recall)\n",
    "\n",
    "precision = sklearn.metrics.precision_score(y_true_Adam, y_pred_Adam, pos_label=1)\n",
    "print(\"The precision of the model is:\" ,precision)"
   ]
  },
  {
   "cell_type": "markdown",
   "id": "9437edfc",
   "metadata": {},
   "source": [
    "### Section number D"
   ]
  },
  {
   "cell_type": "markdown",
   "id": "b436c087",
   "metadata": {},
   "source": [
    "#### Defining a convolution model  - (model 2)"
   ]
  },
  {
   "cell_type": "code",
   "execution_count": 28,
   "id": "34c8470b",
   "metadata": {},
   "outputs": [],
   "source": [
    "tf.keras.backend.clear_session()"
   ]
  },
  {
   "cell_type": "code",
   "execution_count": 29,
   "id": "281015e4",
   "metadata": {},
   "outputs": [
    {
     "name": "stdout",
     "output_type": "stream",
     "text": [
      "Model: \"sequential\"\n",
      "_________________________________________________________________\n",
      " Layer (type)                Output Shape              Param #   \n",
      "=================================================================\n",
      " conv2d (Conv2D)             (None, 224, 224, 32)      320       \n",
      "                                                                 \n",
      " max_pooling2d (MaxPooling2D  (None, 112, 112, 32)     0         \n",
      " )                                                               \n",
      "                                                                 \n",
      " conv2d_1 (Conv2D)           (None, 112, 112, 64)      18496     \n",
      "                                                                 \n",
      " max_pooling2d_1 (MaxPooling  (None, 56, 56, 64)       0         \n",
      " 2D)                                                             \n",
      "                                                                 \n",
      " flatten (Flatten)           (None, 200704)            0         \n",
      "                                                                 \n",
      " dropout (Dropout)           (None, 200704)            0         \n",
      "                                                                 \n",
      " dense (Dense)               (None, 1)                 200705    \n",
      "                                                                 \n",
      "=================================================================\n",
      "Total params: 219,521\n",
      "Trainable params: 219,521\n",
      "Non-trainable params: 0\n",
      "_________________________________________________________________\n"
     ]
    }
   ],
   "source": [
    "num_classes = 1\n",
    "input_shape = (224, 224, 1)\n",
    "epochs = 50\n",
    "\n",
    "model2 = keras.Sequential(\n",
    "    [\n",
    "        keras.Input(shape=input_shape),\n",
    "        layers.Conv2D(32, kernel_size=(3, 3), activation=\"relu\", padding = \"same\"),\n",
    "        layers.MaxPooling2D(pool_size=(2, 2)),\n",
    "        layers.Conv2D(64, kernel_size=(3, 3), activation=\"relu\" ,padding = \"same\"),\n",
    "        layers.MaxPooling2D(pool_size=(2, 2)),\n",
    "        layers.Flatten(),\n",
    "        layers.Dropout(0.5),\n",
    "        layers.Dense(num_classes, activation=\"sigmoid\"),\n",
    "    ]\n",
    ")\n",
    "\n",
    "model2.summary()\n"
   ]
  },
  {
   "cell_type": "code",
   "execution_count": 30,
   "id": "cff216d0",
   "metadata": {},
   "outputs": [
    {
     "name": "stdout",
     "output_type": "stream",
     "text": [
      "Epoch 1/50\n",
      "87/87 [==============================] - 143s 2s/step - loss: 0.3048 - accuracy: 0.8645 - val_loss: 0.5377 - val_accuracy: 0.7500\n",
      "Epoch 2/50\n",
      "87/87 [==============================] - 145s 2s/step - loss: 0.0959 - accuracy: 0.9628 - val_loss: 0.4161 - val_accuracy: 0.8125\n",
      "Epoch 3/50\n",
      "87/87 [==============================] - 143s 2s/step - loss: 0.0809 - accuracy: 0.9682 - val_loss: 0.1353 - val_accuracy: 0.9375\n",
      "Epoch 4/50\n",
      "87/87 [==============================] - 144s 2s/step - loss: 0.0632 - accuracy: 0.9772 - val_loss: 0.4509 - val_accuracy: 0.6875\n",
      "Epoch 5/50\n",
      "87/87 [==============================] - 145s 2s/step - loss: 0.0631 - accuracy: 0.9753 - val_loss: 0.0759 - val_accuracy: 1.0000\n",
      "Epoch 6/50\n",
      "87/87 [==============================] - 144s 2s/step - loss: 0.0510 - accuracy: 0.9814 - val_loss: 0.1079 - val_accuracy: 0.9375\n",
      "Epoch 7/50\n",
      "87/87 [==============================] - 145s 2s/step - loss: 0.0429 - accuracy: 0.9837 - val_loss: 0.0792 - val_accuracy: 1.0000\n",
      "Epoch 8/50\n",
      "87/87 [==============================] - 143s 2s/step - loss: 0.0386 - accuracy: 0.9860 - val_loss: 0.1709 - val_accuracy: 0.8750\n",
      "Epoch 9/50\n",
      "87/87 [==============================] - 146s 2s/step - loss: 0.0260 - accuracy: 0.9912 - val_loss: 0.2379 - val_accuracy: 0.8750\n",
      "Epoch 10/50\n",
      "87/87 [==============================] - 145s 2s/step - loss: 0.0240 - accuracy: 0.9916 - val_loss: 0.3392 - val_accuracy: 0.8125\n",
      "Epoch 11/50\n",
      "87/87 [==============================] - 144s 2s/step - loss: 0.0154 - accuracy: 0.9956 - val_loss: 0.1796 - val_accuracy: 0.9375\n",
      "Epoch 12/50\n",
      "87/87 [==============================] - 149s 2s/step - loss: 0.0108 - accuracy: 0.9969 - val_loss: 0.0285 - val_accuracy: 1.0000\n",
      "Epoch 13/50\n",
      "87/87 [==============================] - 147s 2s/step - loss: 0.0096 - accuracy: 0.9979 - val_loss: 0.2611 - val_accuracy: 0.8750\n",
      "Epoch 14/50\n",
      "87/87 [==============================] - 146s 2s/step - loss: 0.0084 - accuracy: 0.9987 - val_loss: 0.0654 - val_accuracy: 1.0000\n",
      "Epoch 15/50\n",
      "87/87 [==============================] - 143s 2s/step - loss: 0.0058 - accuracy: 0.9992 - val_loss: 0.0379 - val_accuracy: 1.0000\n",
      "Epoch 16/50\n",
      "87/87 [==============================] - 144s 2s/step - loss: 0.0041 - accuracy: 0.9994 - val_loss: 0.0915 - val_accuracy: 0.9375\n",
      "Epoch 17/50\n",
      "87/87 [==============================] - 142s 2s/step - loss: 0.0099 - accuracy: 0.9964 - val_loss: 0.0116 - val_accuracy: 1.0000\n",
      "Epoch 18/50\n",
      "87/87 [==============================] - 144s 2s/step - loss: 0.0105 - accuracy: 0.9952 - val_loss: 0.0909 - val_accuracy: 1.0000\n",
      "Epoch 19/50\n",
      "87/87 [==============================] - 142s 2s/step - loss: 0.0042 - accuracy: 0.9994 - val_loss: 0.0837 - val_accuracy: 1.0000\n",
      "Epoch 20/50\n",
      "87/87 [==============================] - 143s 2s/step - loss: 0.0034 - accuracy: 0.9992 - val_loss: 0.0575 - val_accuracy: 1.0000\n",
      "Epoch 21/50\n",
      "87/87 [==============================] - 148s 2s/step - loss: 0.0025 - accuracy: 1.0000 - val_loss: 0.0784 - val_accuracy: 1.0000\n",
      "Epoch 22/50\n",
      "87/87 [==============================] - 159s 2s/step - loss: 0.0011 - accuracy: 1.0000 - val_loss: 0.1857 - val_accuracy: 0.8750\n",
      "Epoch 23/50\n",
      "87/87 [==============================] - 150s 2s/step - loss: 0.0013 - accuracy: 0.9998 - val_loss: 0.0676 - val_accuracy: 1.0000\n",
      "Epoch 24/50\n",
      "87/87 [==============================] - 143s 2s/step - loss: 0.0011 - accuracy: 1.0000 - val_loss: 0.1489 - val_accuracy: 0.8750\n",
      "Epoch 25/50\n",
      "87/87 [==============================] - 145s 2s/step - loss: 0.0026 - accuracy: 0.9992 - val_loss: 0.1371 - val_accuracy: 0.9375\n",
      "Epoch 26/50\n",
      "87/87 [==============================] - 146s 2s/step - loss: 0.0025 - accuracy: 0.9996 - val_loss: 0.3388 - val_accuracy: 0.8125\n",
      "Epoch 27/50\n",
      "87/87 [==============================] - 143s 2s/step - loss: 0.0027 - accuracy: 0.9996 - val_loss: 0.2279 - val_accuracy: 0.8750\n",
      "Epoch 28/50\n",
      "87/87 [==============================] - 142s 2s/step - loss: 0.0127 - accuracy: 0.9956 - val_loss: 0.2288 - val_accuracy: 0.9375\n",
      "Epoch 29/50\n",
      "87/87 [==============================] - 142s 2s/step - loss: 0.0098 - accuracy: 0.9967 - val_loss: 0.2997 - val_accuracy: 0.8750\n",
      "Epoch 30/50\n",
      "87/87 [==============================] - 143s 2s/step - loss: 0.0032 - accuracy: 0.9994 - val_loss: 0.0527 - val_accuracy: 0.9375\n",
      "Epoch 31/50\n",
      "87/87 [==============================] - 142s 2s/step - loss: 0.0012 - accuracy: 1.0000 - val_loss: 0.1971 - val_accuracy: 0.8750\n",
      "Epoch 32/50\n",
      "87/87 [==============================] - 142s 2s/step - loss: 0.0018 - accuracy: 0.9998 - val_loss: 0.0720 - val_accuracy: 0.9375\n",
      "Epoch 33/50\n",
      "87/87 [==============================] - 141s 2s/step - loss: 0.0044 - accuracy: 0.9988 - val_loss: 0.2299 - val_accuracy: 0.8125\n",
      "Epoch 34/50\n",
      "87/87 [==============================] - 141s 2s/step - loss: 0.0038 - accuracy: 0.9990 - val_loss: 0.2017 - val_accuracy: 0.9375\n",
      "Epoch 35/50\n",
      "87/87 [==============================] - 143s 2s/step - loss: 0.0139 - accuracy: 0.9952 - val_loss: 0.8188 - val_accuracy: 0.7500\n",
      "Epoch 36/50\n",
      "87/87 [==============================] - 140s 2s/step - loss: 0.0030 - accuracy: 0.9990 - val_loss: 0.7047 - val_accuracy: 0.7500\n",
      "Epoch 37/50\n",
      "87/87 [==============================] - 141s 2s/step - loss: 0.0024 - accuracy: 0.9996 - val_loss: 0.2125 - val_accuracy: 0.9375\n",
      "Epoch 38/50\n",
      "87/87 [==============================] - 141s 2s/step - loss: 7.4423e-04 - accuracy: 0.9998 - val_loss: 0.2956 - val_accuracy: 0.8750\n",
      "Epoch 39/50\n",
      "87/87 [==============================] - 143s 2s/step - loss: 8.5426e-04 - accuracy: 0.9998 - val_loss: 0.0307 - val_accuracy: 1.0000\n",
      "Epoch 40/50\n",
      "87/87 [==============================] - 141s 2s/step - loss: 3.1495e-04 - accuracy: 1.0000 - val_loss: 0.1235 - val_accuracy: 0.9375\n",
      "Epoch 41/50\n",
      "87/87 [==============================] - 142s 2s/step - loss: 2.3235e-04 - accuracy: 1.0000 - val_loss: 0.0630 - val_accuracy: 0.9375\n",
      "Epoch 42/50\n",
      "87/87 [==============================] - 142s 2s/step - loss: 2.6971e-04 - accuracy: 1.0000 - val_loss: 0.4134 - val_accuracy: 0.8125\n",
      "Epoch 43/50\n",
      "87/87 [==============================] - 144s 2s/step - loss: 0.0010 - accuracy: 0.9998 - val_loss: 0.2656 - val_accuracy: 0.8750\n",
      "Epoch 44/50\n",
      "87/87 [==============================] - 142s 2s/step - loss: 2.4699e-04 - accuracy: 1.0000 - val_loss: 0.0384 - val_accuracy: 1.0000\n",
      "Epoch 45/50\n",
      "87/87 [==============================] - 142s 2s/step - loss: 1.9573e-04 - accuracy: 1.0000 - val_loss: 0.1827 - val_accuracy: 0.8750\n",
      "Epoch 46/50\n",
      "87/87 [==============================] - 143s 2s/step - loss: 1.1738e-04 - accuracy: 1.0000 - val_loss: 0.1481 - val_accuracy: 0.9375\n",
      "Epoch 47/50\n",
      "87/87 [==============================] - 151s 2s/step - loss: 2.6960e-04 - accuracy: 1.0000 - val_loss: 0.1924 - val_accuracy: 0.8750\n",
      "Epoch 48/50\n",
      "87/87 [==============================] - 147s 2s/step - loss: 1.3474e-04 - accuracy: 1.0000 - val_loss: 0.1361 - val_accuracy: 0.8750\n",
      "Epoch 49/50\n",
      "87/87 [==============================] - 141s 2s/step - loss: 1.4392e-04 - accuracy: 1.0000 - val_loss: 0.2230 - val_accuracy: 0.8750\n",
      "Epoch 50/50\n",
      "87/87 [==============================] - 141s 2s/step - loss: 8.5716e-05 - accuracy: 1.0000 - val_loss: 0.2328 - val_accuracy: 0.8750\n"
     ]
    }
   ],
   "source": [
    "model2.compile(loss='binary_crossentropy', optimizer = Adam(learning_rate=1e-3), metrics=['accuracy'])\n",
    "\n",
    "history_CNN = model2.fit(train_data,validation_data = val_data, epochs = epochs ,batch_size = BATCH_SIZE)"
   ]
  },
  {
   "cell_type": "markdown",
   "id": "a70b1040",
   "metadata": {},
   "source": [
    "### Section number D - section B"
   ]
  },
  {
   "cell_type": "code",
   "execution_count": 40,
   "id": "8995f87a",
   "metadata": {},
   "outputs": [
    {
     "name": "stdout",
     "output_type": "stream",
     "text": [
      "dict_keys(['loss', 'accuracy', 'val_loss', 'val_accuracy'])\n"
     ]
    },
    {
     "data": {
      "image/png": "[encoded data removed]",
      "text/plain": [
       "<Figure size 432x288 with 1 Axes>"
      ]
     },
     "metadata": {
      "needs_background": "light"
     },
     "output_type": "display_data"
    },
    {
     "data": {
      "image/png": "[encoded data removed]",
      "text/plain": [
       "<Figure size 432x288 with 1 Axes>"
      ]
     },
     "metadata": {
      "needs_background": "light"
     },
     "output_type": "display_data"
    }
   ],
   "source": [
    "print(history_CNN.history.keys())\n",
    "plt.plot(history_CNN.history['accuracy'])\n",
    "plt.plot(history_CNN.history['val_accuracy'])\n",
    "plt.title('model accuracy')\n",
    "plt.ylabel('accuracy')\n",
    "plt.xlabel('epoch')\n",
    "plt.legend(['train', 'Val'], loc='upper left')\n",
    "\n",
    "plt.show()\n",
    "\n",
    "\n",
    "# summarize history for loss\n",
    "\n",
    "plt.plot(history_CNN.history['loss'])\n",
    "plt.plot(history_CNN.history['val_loss'])\n",
    "plt.title('model loss')\n",
    "plt.ylabel('loss')\n",
    "plt.xlabel('epoch')\n",
    "plt.legend(['train', 'Val'], loc='upper left')\n",
    "plt.show()"
   ]
  },
  {
   "cell_type": "code",
   "execution_count": 32,
   "id": "de50f2c2",
   "metadata": {},
   "outputs": [
    {
     "data": {
      "image/png": "[encoded data removed]",
      "text/plain": [
       "<Figure size 432x288 with 2 Axes>"
      ]
     },
     "metadata": {
      "needs_background": "light"
     },
     "output_type": "display_data"
    }
   ],
   "source": [
    "predictions_CNN = model2.predict(test_data) \n",
    "y_pred = predictions_CNN > 0.5\n",
    "y_true = test_data.classes \n",
    "\n",
    "import seaborn as sns\n",
    "\n",
    "font = {\n",
    "    'family': 'Times New Roman',\n",
    "    'size': 12\n",
    "}\n",
    "plt.rc('font', **font)\n",
    "mat = confusion_matrix(y_true, y_pred)\n",
    "sns.heatmap(mat, annot=True, fmt=\"d\")\n",
    "\n",
    "plt.xlabel(\"Predicted Label\", fontsize= 12)\n",
    "plt.ylabel(\"True Label\", fontsize= 12)\n",
    "\n",
    "plt.show()"
   ]
  },
  {
   "cell_type": "code",
   "execution_count": 33,
   "id": "f896270b",
   "metadata": {},
   "outputs": [
    {
     "name": "stdout",
     "output_type": "stream",
     "text": [
      " The recall of model is: 0.8717948717948718\n",
      "The precision of the model is: 0.6227106227106227\n"
     ]
    }
   ],
   "source": [
    "import sklearn.metrics\n",
    "\n",
    "#Recall = TruePositives / (TruePositives + FalseNegatives)\n",
    "#precision = TruePositives/(TruePositives+FalsePositives)\n",
    "\n",
    "recall = sklearn.metrics.recall_score(y_true, y_pred, pos_label=1)\n",
    "print(\" The recall of model is:\" ,recall)\n",
    "\n",
    "precision = sklearn.metrics.precision_score(y_true, y_pred, pos_label=1)\n",
    "print(\"The precision of the model is:\" ,precision)"
   ]
  },
  {
   "cell_type": "markdown",
   "id": "080007a2",
   "metadata": {},
   "source": [
    "### Section number F "
   ]
  },
  {
   "cell_type": "code",
   "execution_count": 34,
   "id": "c46ab6a9",
   "metadata": {},
   "outputs": [],
   "source": [
    "IMG_SIZE = 224\n",
    "\n",
    "resize_and_rescale = tf.keras.Sequential([\n",
    "  layers.Resizing(IMG_SIZE, IMG_SIZE),\n",
    "  layers.Rescaling(1./255)\n",
    "])"
   ]
  },
  {
   "cell_type": "code",
   "execution_count": 35,
   "id": "c928aea1",
   "metadata": {},
   "outputs": [],
   "source": [
    "data_augmentation = keras.Sequential(\n",
    "  [\n",
    "    layers.experimental.preprocessing.RandomFlip(\"horizontal\", \n",
    "                                                 input_shape=(224, \n",
    "                                                              224,\n",
    "                                                              1)),\n",
    "    layers.experimental.preprocessing.RandomRotation(0.1),\n",
    "    layers.experimental.preprocessing.RandomZoom(0.1),\n",
    "  ]\n",
    ")"
   ]
  },
  {
   "cell_type": "code",
   "execution_count": 36,
   "id": "2077a2ed",
   "metadata": {},
   "outputs": [
    {
     "name": "stdout",
     "output_type": "stream",
     "text": [
      "Epoch 1/50\n",
      "87/87 [==============================] - 117s 1s/step - loss: 0.4863 - accuracy: 0.7816 - val_loss: 0.4613 - val_accuracy: 0.7500\n",
      "Epoch 2/50\n",
      "87/87 [==============================] - 114s 1s/step - loss: 0.2501 - accuracy: 0.9009 - val_loss: 0.4489 - val_accuracy: 0.8125\n",
      "Epoch 3/50\n",
      "87/87 [==============================] - 112s 1s/step - loss: 0.1886 - accuracy: 0.9294 - val_loss: 0.4122 - val_accuracy: 0.8750\n",
      "Epoch 4/50\n",
      "87/87 [==============================] - 112s 1s/step - loss: 0.1514 - accuracy: 0.9419 - val_loss: 0.9486 - val_accuracy: 0.5625\n",
      "Epoch 5/50\n",
      "87/87 [==============================] - 112s 1s/step - loss: 0.1427 - accuracy: 0.9440 - val_loss: 0.8190 - val_accuracy: 0.6250\n",
      "Epoch 6/50\n",
      "87/87 [==============================] - 112s 1s/step - loss: 0.1339 - accuracy: 0.9492 - val_loss: 0.6390 - val_accuracy: 0.7500\n",
      "Epoch 7/50\n",
      "87/87 [==============================] - 113s 1s/step - loss: 0.1308 - accuracy: 0.9526 - val_loss: 0.6015 - val_accuracy: 0.6875\n",
      "Epoch 8/50\n",
      "87/87 [==============================] - 112s 1s/step - loss: 0.1233 - accuracy: 0.9509 - val_loss: 1.5256 - val_accuracy: 0.5625\n",
      "Epoch 9/50\n",
      "87/87 [==============================] - 119s 1s/step - loss: 0.1183 - accuracy: 0.9523 - val_loss: 1.1537 - val_accuracy: 0.6875\n",
      "Epoch 10/50\n",
      "87/87 [==============================] - 115s 1s/step - loss: 0.1152 - accuracy: 0.9565 - val_loss: 0.9125 - val_accuracy: 0.6250\n",
      "Epoch 11/50\n",
      "87/87 [==============================] - 115s 1s/step - loss: 0.1363 - accuracy: 0.9480 - val_loss: 0.7800 - val_accuracy: 0.6875\n",
      "Epoch 12/50\n",
      "87/87 [==============================] - 120s 1s/step - loss: 0.1137 - accuracy: 0.9546 - val_loss: 0.9229 - val_accuracy: 0.6250\n",
      "Epoch 13/50\n",
      "87/87 [==============================] - 118s 1s/step - loss: 0.1134 - accuracy: 0.9553 - val_loss: 0.7643 - val_accuracy: 0.6875\n",
      "Epoch 14/50\n",
      "87/87 [==============================] - 116s 1s/step - loss: 0.1068 - accuracy: 0.9594 - val_loss: 0.4051 - val_accuracy: 0.8125\n",
      "Epoch 15/50\n",
      "87/87 [==============================] - 116s 1s/step - loss: 0.0993 - accuracy: 0.9615 - val_loss: 0.5437 - val_accuracy: 0.6875\n",
      "Epoch 16/50\n",
      "87/87 [==============================] - 115s 1s/step - loss: 0.0939 - accuracy: 0.9643 - val_loss: 0.9845 - val_accuracy: 0.6875\n",
      "Epoch 17/50\n",
      "87/87 [==============================] - 120s 1s/step - loss: 0.0932 - accuracy: 0.9630 - val_loss: 0.9266 - val_accuracy: 0.5625\n",
      "Epoch 18/50\n",
      "87/87 [==============================] - 116s 1s/step - loss: 0.0886 - accuracy: 0.9645 - val_loss: 0.5087 - val_accuracy: 0.6875\n",
      "Epoch 19/50\n",
      "87/87 [==============================] - 115s 1s/step - loss: 0.0973 - accuracy: 0.9626 - val_loss: 1.0665 - val_accuracy: 0.6250\n",
      "Epoch 20/50\n",
      "87/87 [==============================] - 116s 1s/step - loss: 0.0903 - accuracy: 0.9693 - val_loss: 1.0242 - val_accuracy: 0.5625\n",
      "Epoch 21/50\n",
      "87/87 [==============================] - 116s 1s/step - loss: 0.0908 - accuracy: 0.9641 - val_loss: 1.1242 - val_accuracy: 0.6250\n",
      "Epoch 22/50\n",
      "87/87 [==============================] - 115s 1s/step - loss: 0.0794 - accuracy: 0.9691 - val_loss: 0.8408 - val_accuracy: 0.6875\n",
      "Epoch 23/50\n",
      "87/87 [==============================] - 115s 1s/step - loss: 0.0805 - accuracy: 0.9688 - val_loss: 0.8304 - val_accuracy: 0.5625\n",
      "Epoch 24/50\n",
      "87/87 [==============================] - 113s 1s/step - loss: 0.0841 - accuracy: 0.9684 - val_loss: 0.6459 - val_accuracy: 0.6875\n",
      "Epoch 25/50\n",
      "87/87 [==============================] - 113s 1s/step - loss: 0.0831 - accuracy: 0.9711 - val_loss: 0.7946 - val_accuracy: 0.5625\n",
      "Epoch 26/50\n",
      "87/87 [==============================] - 119s 1s/step - loss: 0.0880 - accuracy: 0.9659 - val_loss: 0.6466 - val_accuracy: 0.6250\n",
      "Epoch 27/50\n",
      "87/87 [==============================] - 116s 1s/step - loss: 0.0758 - accuracy: 0.9711 - val_loss: 0.8755 - val_accuracy: 0.6875\n",
      "Epoch 28/50\n",
      "87/87 [==============================] - 118s 1s/step - loss: 0.0814 - accuracy: 0.9707 - val_loss: 0.9499 - val_accuracy: 0.6875\n",
      "Epoch 29/50\n",
      "87/87 [==============================] - 112s 1s/step - loss: 0.0735 - accuracy: 0.9730 - val_loss: 0.9812 - val_accuracy: 0.6875\n",
      "Epoch 30/50\n",
      "87/87 [==============================] - 112s 1s/step - loss: 0.0771 - accuracy: 0.9701 - val_loss: 0.6762 - val_accuracy: 0.6250\n",
      "Epoch 31/50\n",
      "87/87 [==============================] - 112s 1s/step - loss: 0.0742 - accuracy: 0.9724 - val_loss: 0.6690 - val_accuracy: 0.6875\n",
      "Epoch 32/50\n",
      "87/87 [==============================] - 114s 1s/step - loss: 0.0790 - accuracy: 0.9697 - val_loss: 1.1266 - val_accuracy: 0.6250\n",
      "Epoch 33/50\n",
      "87/87 [==============================] - 117s 1s/step - loss: 0.0762 - accuracy: 0.9712 - val_loss: 0.3830 - val_accuracy: 0.8125\n",
      "Epoch 34/50\n",
      "87/87 [==============================] - 120s 1s/step - loss: 0.0707 - accuracy: 0.9728 - val_loss: 0.4428 - val_accuracy: 0.8125\n",
      "Epoch 35/50\n",
      "87/87 [==============================] - 116s 1s/step - loss: 0.0684 - accuracy: 0.9735 - val_loss: 0.9048 - val_accuracy: 0.6250\n",
      "Epoch 36/50\n",
      "87/87 [==============================] - 113s 1s/step - loss: 0.0682 - accuracy: 0.9745 - val_loss: 0.3991 - val_accuracy: 0.6875\n",
      "Epoch 37/50\n",
      "87/87 [==============================] - 112s 1s/step - loss: 0.0612 - accuracy: 0.9780 - val_loss: 0.3836 - val_accuracy: 0.7500\n",
      "Epoch 38/50\n",
      "87/87 [==============================] - 119s 1s/step - loss: 0.0600 - accuracy: 0.9772 - val_loss: 1.0128 - val_accuracy: 0.5625\n",
      "Epoch 39/50\n",
      "87/87 [==============================] - 115s 1s/step - loss: 0.0658 - accuracy: 0.9735 - val_loss: 0.6764 - val_accuracy: 0.7500\n",
      "Epoch 40/50\n",
      "87/87 [==============================] - 113s 1s/step - loss: 0.0675 - accuracy: 0.9737 - val_loss: 0.9938 - val_accuracy: 0.5625\n",
      "Epoch 41/50\n",
      "87/87 [==============================] - 118s 1s/step - loss: 0.0631 - accuracy: 0.9785 - val_loss: 0.8967 - val_accuracy: 0.6875\n",
      "Epoch 42/50\n",
      "87/87 [==============================] - 121s 1s/step - loss: 0.0591 - accuracy: 0.9780 - val_loss: 0.3729 - val_accuracy: 0.8750\n",
      "Epoch 43/50\n",
      "87/87 [==============================] - 117s 1s/step - loss: 0.0604 - accuracy: 0.9776 - val_loss: 0.9141 - val_accuracy: 0.5625\n",
      "Epoch 44/50\n",
      "87/87 [==============================] - 116s 1s/step - loss: 0.0631 - accuracy: 0.9751 - val_loss: 0.8034 - val_accuracy: 0.6250\n",
      "Epoch 45/50\n",
      "87/87 [==============================] - 117s 1s/step - loss: 0.0609 - accuracy: 0.9781 - val_loss: 0.9126 - val_accuracy: 0.6250\n",
      "Epoch 46/50\n",
      "87/87 [==============================] - 124s 1s/step - loss: 0.0609 - accuracy: 0.9791 - val_loss: 0.4660 - val_accuracy: 0.7500\n",
      "Epoch 47/50\n",
      "87/87 [==============================] - 128s 1s/step - loss: 0.0678 - accuracy: 0.9762 - val_loss: 0.4053 - val_accuracy: 0.6875\n",
      "Epoch 48/50\n",
      "87/87 [==============================] - 142s 2s/step - loss: 0.0564 - accuracy: 0.9780 - val_loss: 0.9313 - val_accuracy: 0.6250\n",
      "Epoch 49/50\n",
      "87/87 [==============================] - 139s 2s/step - loss: 0.0623 - accuracy: 0.9753 - val_loss: 0.5248 - val_accuracy: 0.6875\n",
      "Epoch 50/50\n",
      "87/87 [==============================] - 134s 2s/step - loss: 0.0578 - accuracy: 0.9789 - val_loss: 0.7641 - val_accuracy: 0.6875\n"
     ]
    }
   ],
   "source": [
    "num_classes = 2\n",
    "epochs = 50\n",
    "\n",
    "model_num_3 = Sequential([\n",
    "  data_augmentation,\n",
    "  layers.Conv2D(16, 3, padding='same', activation='relu'),\n",
    "  layers.MaxPooling2D(),\n",
    "  layers.Conv2D(32, 3, padding='same', activation='relu'),\n",
    "  layers.MaxPooling2D(),\n",
    "  layers.Conv2D(64, 3, padding='same', activation='relu'),\n",
    "  layers.MaxPooling2D(),\n",
    "  layers.Dropout(0.2),\n",
    "  layers.Flatten(),\n",
    "  layers.Dense(128, activation='sigmoid'),\n",
    "  layers.Dense(num_classes)\n",
    "])\n",
    "\n",
    "#model_num_3.compile(loss='binary_crossentropy', optimizer = Adam(learning_rate=1e-4), metrics=['accuracy'])\n",
    "\n",
    "model_num_3.compile(optimizer = Adam(learning_rate=1e-3),\n",
    "              loss=tf.keras.losses.SparseCategoricalCrossentropy(from_logits=True),\n",
    "              metrics=['accuracy'])\n",
    "              \n",
    "model_num_3_fit=model_num_3.fit(train_data,validation_data = val_data, epochs=epochs, batch_size=BATCH_SIZE)  "
   ]
  },
  {
   "cell_type": "code",
   "execution_count": 37,
   "id": "263f1bae",
   "metadata": {
    "scrolled": true
   },
   "outputs": [
    {
     "name": "stdout",
     "output_type": "stream",
     "text": [
      "dict_keys(['loss', 'accuracy', 'val_loss', 'val_accuracy'])\n"
     ]
    },
    {
     "data": {
      "image/png": "[encoded data removed]",
      "text/plain": [
       "<Figure size 432x288 with 1 Axes>"
      ]
     },
     "metadata": {
      "needs_background": "light"
     },
     "output_type": "display_data"
    },
    {
     "data": {
      "image/png": "[encoded data removed]",
      "text/plain": [
       "<Figure size 432x288 with 1 Axes>"
      ]
     },
     "metadata": {
      "needs_background": "light"
     },
     "output_type": "display_data"
    }
   ],
   "source": [
    "print(model_num_3_fit.history.keys())\n",
    "plt.plot(model_num_3_fit.history['accuracy'])\n",
    "plt.plot(model_num_3_fit.history['val_accuracy'])\n",
    "plt.title('model accuracy')\n",
    "plt.ylabel('accuracy')\n",
    "plt.xlabel('epoch')\n",
    "plt.legend(['train', 'Val'], loc='upper left')\n",
    "plt.show()\n",
    "\n",
    "# summarize history for loss\n",
    "\n",
    "plt.plot(model_num_3_fit.history['loss'])\n",
    "plt.plot(model_num_3_fit.history['val_loss'])\n",
    "plt.title('model loss')\n",
    "plt.ylabel('loss')\n",
    "plt.xlabel('epoch')\n",
    "plt.legend(['train', 'Val'], loc='upper left')\n",
    "plt.show()"
   ]
  },
  {
   "cell_type": "code",
   "execution_count": null,
   "id": "642227bc",
   "metadata": {},
   "outputs": [],
   "source": []
  }
 ],
 "metadata": {
  "celltoolbar": "Raw Cell Format",
  "kernelspec": {
   "display_name": "Python 3",
   "language": "python",
   "name": "python3"
  },
  "language_info": {
   "codemirror_mode": {
    "name": "ipython",
    "version": 3
   },
   "file_extension": ".py",
   "mimetype": "text/x-python",
   "name": "python",
   "nbconvert_exporter": "python",
   "pygments_lexer": "ipython3",
   "version": "3.8.8"
  }
 },
 "nbformat": 4,
 "nbformat_minor": 5
}
