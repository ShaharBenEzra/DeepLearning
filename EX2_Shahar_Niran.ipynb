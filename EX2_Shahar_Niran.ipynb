{
 "cells": [
  {
   "cell_type": "markdown",
   "id": "31abfcef",
   "metadata": {},
   "source": [
    "### import "
   ]
  },
  {
   "cell_type": "code",
   "execution_count": 26,
   "id": "7e07c3db",
   "metadata": {},
   "outputs": [
    {
     "name": "stdout",
     "output_type": "stream",
     "text": [
      "2.7.0\n",
      "2.7.0\n"
     ]
    }
   ],
   "source": [
    "import tensorflow as tf\n",
    "from tensorflow.keras.models import Sequential\n",
    "from tensorflow.keras.layers import Dense, Flatten\n",
    "from tensorflow.keras.preprocessing.image import ImageDataGenerator\n",
    "from tensorflow.keras.optimizers import Adam\n",
    "from tensorflow.keras.optimizers import RMSprop,Adam\n",
    "from tensorflow.keras import layers\n",
    "from tensorflow.keras import datasets, layers, models\n",
    "from tensorflow import keras\n",
    "from tensorflow.keras.applications.resnet50 import ResNet50\n",
    "\n",
    "import keras\n",
    "from keras.layers import Activation\n",
    "from keras.models import Sequential\n",
    "from keras.layers import Conv2D\n",
    "from keras.layers import MaxPooling2D\n",
    "from keras.layers import Flatten\n",
    "from keras.layers import Dense\n",
    "from keras.preprocessing.image import ImageDataGenerator, load_img\n",
    "from keras.models import Sequential\n",
    "from keras.layers import Dense, Dropout, Flatten\n",
    "from keras.layers import Conv2D, MaxPooling2D\n",
    "from keras.preprocessing import image\n",
    "from keras import optimizers\n",
    "from sklearn.metrics import classification_report, confusion_matrix\n",
    "from sklearn.model_selection import train_test_split\n",
    "import sklearn.metrics\n",
    "\n",
    "\n",
    "import numpy as np\n",
    "import pandas as pd\n",
    "import matplotlib.pyplot as plt\n",
    "import os\n",
    "import random\n",
    "from glob import glob\n",
    "import seaborn as sns\n",
    "import datetime\n",
    "\n",
    "print(tf.__version__)\n",
    "print(keras.__version__)"
   ]
  },
  {
   "cell_type": "markdown",
   "id": "6599e612",
   "metadata": {},
   "source": [
    "### uploading files"
   ]
  },
  {
   "cell_type": "code",
   "execution_count": 27,
   "id": "2c21e58f",
   "metadata": {},
   "outputs": [],
   "source": [
    "train_dir=(r'C:\\Users\\benez\\Desktop\\deep learning\\File\\chest_xray\\train')\n",
    "val_dir=(r'C:\\Users\\benez\\Desktop\\deep learning\\File\\chest_xray\\val')\n",
    "test_dir=(r'C:\\Users\\benez\\Desktop\\deep learning\\File\\chest_xray\\test')\n",
    "\n",
    "train_normal_dir=(r'C:\\Users\\benez\\Desktop\\deep learning\\File\\chest_xray\\train\\NORMAL')\n",
    "train_pneumonia_dir=(r'C:\\Users\\benez\\Desktop\\deep learning\\File\\chest_xray\\train\\PNEUMONIA')\n",
    "val_normal_dir=(r'C:\\Users\\benez\\Desktop\\deep learning\\File\\chest_xray\\val\\NORMAL')\n",
    "val_pneumonia_dir=(r'C:\\Users\\benez\\Desktop\\deep learning\\File\\chest_xray\\val\\PNEUMONIA')\n"
   ]
  },
  {
   "cell_type": "markdown",
   "id": "9a3d43f7",
   "metadata": {},
   "source": [
    "### Division into variables, normalization, definition of values ​​for model creation"
   ]
  },
  {
   "cell_type": "code",
   "execution_count": 28,
   "id": "f9a5753b",
   "metadata": {},
   "outputs": [
    {
     "name": "stdout",
     "output_type": "stream",
     "text": [
      "Found 5216 files belonging to 2 classes.\n",
      "Using 4173 files for training.\n",
      "Found 5216 files belonging to 2 classes.\n",
      "Using 1043 files for validation.\n",
      "Found 624 files belonging to 2 classes.\n"
     ]
    }
   ],
   "source": [
    "image_size=(180, 180)\n",
    "\n",
    "seed = np.random.randint(50, dtype=int)\n",
    "\n",
    "# these are all default input values from documentation\n",
    "training_datagen1 = tf.keras.utils.image_dataset_from_directory(\n",
    "    train_dir, labels='inferred', label_mode='categorical',\n",
    "    class_names=None, color_mode='rgb', batch_size=32, image_size=image_size,\n",
    "    shuffle=True, seed=seed, validation_split=0.20, subset='training',\n",
    "    interpolation='bilinear', follow_links=False,\n",
    "    crop_to_aspect_ratio=False\n",
    ")\n",
    "\n",
    "validation_datagen1 = tf.keras.utils.image_dataset_from_directory(\n",
    "    train_dir, labels='inferred', label_mode='categorical',\n",
    "    class_names=None, color_mode='rgb', batch_size=32, image_size=image_size, \n",
    "    shuffle=True, seed=seed, validation_split=0.20, subset='validation',\n",
    "    interpolation='bilinear', follow_links=False,\n",
    "    crop_to_aspect_ratio=False\n",
    ")\n",
    "\n",
    "# these are all default input values from documentation\n",
    "test_datagen1 = tf.keras.utils.image_dataset_from_directory(\n",
    "    test_dir, labels='inferred', label_mode='categorical',\n",
    "    class_names=None, color_mode='rgb', batch_size=32, image_size=image_size,\n",
    "    shuffle=True, seed=None, validation_split=None, subset=None,\n",
    "    interpolation='bilinear', follow_links=False,\n",
    "    crop_to_aspect_ratio=False\n",
    "\n",
    "    \n",
    ")"
   ]
  },
  {
   "cell_type": "code",
   "execution_count": 29,
   "id": "87007b63",
   "metadata": {},
   "outputs": [],
   "source": [
    "pretrained_model1 = ResNet50(weights= 'imagenet', include_top=False, input_shape= (180,180,3))\n",
    "\n",
    "for layers in pretrained_model1.layers:\n",
    "    layers.trainable = False   "
   ]
  },
  {
   "cell_type": "code",
   "execution_count": 30,
   "id": "99e763f1",
   "metadata": {},
   "outputs": [
    {
     "name": "stdout",
     "output_type": "stream",
     "text": [
      "Model: \"model_3\"\n",
      "__________________________________________________________________________________________________\n",
      " Layer (type)                   Output Shape         Param #     Connected to                     \n",
      "==================================================================================================\n",
      " input_4 (InputLayer)           [(None, 180, 180, 3  0           []                               \n",
      "                                )]                                                                \n",
      "                                                                                                  \n",
      " conv1_pad (ZeroPadding2D)      (None, 186, 186, 3)  0           ['input_4[0][0]']                \n",
      "                                                                                                  \n",
      " conv1_conv (Conv2D)            (None, 90, 90, 64)   9472        ['conv1_pad[0][0]']              \n",
      "                                                                                                  \n",
      " conv1_bn (BatchNormalization)  (None, 90, 90, 64)   256         ['conv1_conv[0][0]']             \n",
      "                                                                                                  \n",
      " conv1_relu (Activation)        (None, 90, 90, 64)   0           ['conv1_bn[0][0]']               \n",
      "                                                                                                  \n",
      " pool1_pad (ZeroPadding2D)      (None, 92, 92, 64)   0           ['conv1_relu[0][0]']             \n",
      "                                                                                                  \n",
      " pool1_pool (MaxPooling2D)      (None, 45, 45, 64)   0           ['pool1_pad[0][0]']              \n",
      "                                                                                                  \n",
      " conv2_block1_1_conv (Conv2D)   (None, 45, 45, 64)   4160        ['pool1_pool[0][0]']             \n",
      "                                                                                                  \n",
      " conv2_block1_1_bn (BatchNormal  (None, 45, 45, 64)  256         ['conv2_block1_1_conv[0][0]']    \n",
      " ization)                                                                                         \n",
      "                                                                                                  \n",
      " conv2_block1_1_relu (Activatio  (None, 45, 45, 64)  0           ['conv2_block1_1_bn[0][0]']      \n",
      " n)                                                                                               \n",
      "                                                                                                  \n",
      " conv2_block1_2_conv (Conv2D)   (None, 45, 45, 64)   36928       ['conv2_block1_1_relu[0][0]']    \n",
      "                                                                                                  \n",
      " conv2_block1_2_bn (BatchNormal  (None, 45, 45, 64)  256         ['conv2_block1_2_conv[0][0]']    \n",
      " ization)                                                                                         \n",
      "                                                                                                  \n",
      " conv2_block1_2_relu (Activatio  (None, 45, 45, 64)  0           ['conv2_block1_2_bn[0][0]']      \n",
      " n)                                                                                               \n",
      "                                                                                                  \n",
      " conv2_block1_0_conv (Conv2D)   (None, 45, 45, 256)  16640       ['pool1_pool[0][0]']             \n",
      "                                                                                                  \n",
      " conv2_block1_3_conv (Conv2D)   (None, 45, 45, 256)  16640       ['conv2_block1_2_relu[0][0]']    \n",
      "                                                                                                  \n",
      " conv2_block1_0_bn (BatchNormal  (None, 45, 45, 256)  1024       ['conv2_block1_0_conv[0][0]']    \n",
      " ization)                                                                                         \n",
      "                                                                                                  \n",
      " conv2_block1_3_bn (BatchNormal  (None, 45, 45, 256)  1024       ['conv2_block1_3_conv[0][0]']    \n",
      " ization)                                                                                         \n",
      "                                                                                                  \n",
      " conv2_block1_add (Add)         (None, 45, 45, 256)  0           ['conv2_block1_0_bn[0][0]',      \n",
      "                                                                  'conv2_block1_3_bn[0][0]']      \n",
      "                                                                                                  \n",
      " conv2_block1_out (Activation)  (None, 45, 45, 256)  0           ['conv2_block1_add[0][0]']       \n",
      "                                                                                                  \n",
      " conv2_block2_1_conv (Conv2D)   (None, 45, 45, 64)   16448       ['conv2_block1_out[0][0]']       \n",
      "                                                                                                  \n",
      " conv2_block2_1_bn (BatchNormal  (None, 45, 45, 64)  256         ['conv2_block2_1_conv[0][0]']    \n",
      " ization)                                                                                         \n",
      "                                                                                                  \n",
      " conv2_block2_1_relu (Activatio  (None, 45, 45, 64)  0           ['conv2_block2_1_bn[0][0]']      \n",
      " n)                                                                                               \n",
      "                                                                                                  \n",
      " conv2_block2_2_conv (Conv2D)   (None, 45, 45, 64)   36928       ['conv2_block2_1_relu[0][0]']    \n",
      "                                                                                                  \n",
      " conv2_block2_2_bn (BatchNormal  (None, 45, 45, 64)  256         ['conv2_block2_2_conv[0][0]']    \n",
      " ization)                                                                                         \n",
      "                                                                                                  \n",
      " conv2_block2_2_relu (Activatio  (None, 45, 45, 64)  0           ['conv2_block2_2_bn[0][0]']      \n",
      " n)                                                                                               \n",
      "                                                                                                  \n",
      " conv2_block2_3_conv (Conv2D)   (None, 45, 45, 256)  16640       ['conv2_block2_2_relu[0][0]']    \n",
      "                                                                                                  \n",
      " conv2_block2_3_bn (BatchNormal  (None, 45, 45, 256)  1024       ['conv2_block2_3_conv[0][0]']    \n",
      " ization)                                                                                         \n",
      "                                                                                                  \n",
      " conv2_block2_add (Add)         (None, 45, 45, 256)  0           ['conv2_block1_out[0][0]',       \n",
      "                                                                  'conv2_block2_3_bn[0][0]']      \n",
      "                                                                                                  \n",
      " conv2_block2_out (Activation)  (None, 45, 45, 256)  0           ['conv2_block2_add[0][0]']       \n",
      "                                                                                                  \n",
      " conv2_block3_1_conv (Conv2D)   (None, 45, 45, 64)   16448       ['conv2_block2_out[0][0]']       \n",
      "                                                                                                  \n",
      " conv2_block3_1_bn (BatchNormal  (None, 45, 45, 64)  256         ['conv2_block3_1_conv[0][0]']    \n",
      " ization)                                                                                         \n",
      "                                                                                                  \n",
      " conv2_block3_1_relu (Activatio  (None, 45, 45, 64)  0           ['conv2_block3_1_bn[0][0]']      \n",
      " n)                                                                                               \n",
      "                                                                                                  \n",
      " conv2_block3_2_conv (Conv2D)   (None, 45, 45, 64)   36928       ['conv2_block3_1_relu[0][0]']    \n",
      "                                                                                                  \n",
      " conv2_block3_2_bn (BatchNormal  (None, 45, 45, 64)  256         ['conv2_block3_2_conv[0][0]']    \n",
      " ization)                                                                                         \n",
      "                                                                                                  \n",
      " conv2_block3_2_relu (Activatio  (None, 45, 45, 64)  0           ['conv2_block3_2_bn[0][0]']      \n",
      " n)                                                                                               \n",
      "                                                                                                  \n",
      " conv2_block3_3_conv (Conv2D)   (None, 45, 45, 256)  16640       ['conv2_block3_2_relu[0][0]']    \n",
      "                                                                                                  \n",
      " conv2_block3_3_bn (BatchNormal  (None, 45, 45, 256)  1024       ['conv2_block3_3_conv[0][0]']    \n",
      " ization)                                                                                         \n",
      "                                                                                                  \n",
      " conv2_block3_add (Add)         (None, 45, 45, 256)  0           ['conv2_block2_out[0][0]',       \n",
      "                                                                  'conv2_block3_3_bn[0][0]']      \n",
      "                                                                                                  \n",
      " conv2_block3_out (Activation)  (None, 45, 45, 256)  0           ['conv2_block3_add[0][0]']       \n",
      "                                                                                                  \n",
      " conv3_block1_1_conv (Conv2D)   (None, 23, 23, 128)  32896       ['conv2_block3_out[0][0]']       \n",
      "                                                                                                  \n",
      " conv3_block1_1_bn (BatchNormal  (None, 23, 23, 128)  512        ['conv3_block1_1_conv[0][0]']    \n",
      " ization)                                                                                         \n",
      "                                                                                                  \n",
      " conv3_block1_1_relu (Activatio  (None, 23, 23, 128)  0          ['conv3_block1_1_bn[0][0]']      \n",
      " n)                                                                                               \n",
      "                                                                                                  \n",
      " conv3_block1_2_conv (Conv2D)   (None, 23, 23, 128)  147584      ['conv3_block1_1_relu[0][0]']    \n",
      "                                                                                                  \n",
      " conv3_block1_2_bn (BatchNormal  (None, 23, 23, 128)  512        ['conv3_block1_2_conv[0][0]']    \n",
      " ization)                                                                                         \n",
      "                                                                                                  \n",
      " conv3_block1_2_relu (Activatio  (None, 23, 23, 128)  0          ['conv3_block1_2_bn[0][0]']      \n",
      " n)                                                                                               \n",
      "                                                                                                  \n",
      " conv3_block1_0_conv (Conv2D)   (None, 23, 23, 512)  131584      ['conv2_block3_out[0][0]']       \n",
      "                                                                                                  \n",
      " conv3_block1_3_conv (Conv2D)   (None, 23, 23, 512)  66048       ['conv3_block1_2_relu[0][0]']    \n",
      "                                                                                                  \n",
      " conv3_block1_0_bn (BatchNormal  (None, 23, 23, 512)  2048       ['conv3_block1_0_conv[0][0]']    \n",
      " ization)                                                                                         \n",
      "                                                                                                  \n",
      " conv3_block1_3_bn (BatchNormal  (None, 23, 23, 512)  2048       ['conv3_block1_3_conv[0][0]']    \n",
      " ization)                                                                                         \n",
      "                                                                                                  \n",
      " conv3_block1_add (Add)         (None, 23, 23, 512)  0           ['conv3_block1_0_bn[0][0]',      \n",
      "                                                                  'conv3_block1_3_bn[0][0]']      \n",
      "                                                                                                  \n",
      " conv3_block1_out (Activation)  (None, 23, 23, 512)  0           ['conv3_block1_add[0][0]']       \n",
      "                                                                                                  \n",
      " conv3_block2_1_conv (Conv2D)   (None, 23, 23, 128)  65664       ['conv3_block1_out[0][0]']       \n",
      "                                                                                                  \n",
      " conv3_block2_1_bn (BatchNormal  (None, 23, 23, 128)  512        ['conv3_block2_1_conv[0][0]']    \n",
      " ization)                                                                                         \n",
      "                                                                                                  \n",
      " conv3_block2_1_relu (Activatio  (None, 23, 23, 128)  0          ['conv3_block2_1_bn[0][0]']      \n",
      " n)                                                                                               \n",
      "                                                                                                  \n",
      " conv3_block2_2_conv (Conv2D)   (None, 23, 23, 128)  147584      ['conv3_block2_1_relu[0][0]']    \n",
      "                                                                                                  \n",
      " conv3_block2_2_bn (BatchNormal  (None, 23, 23, 128)  512        ['conv3_block2_2_conv[0][0]']    \n",
      " ization)                                                                                         \n",
      "                                                                                                  \n",
      " conv3_block2_2_relu (Activatio  (None, 23, 23, 128)  0          ['conv3_block2_2_bn[0][0]']      \n",
      " n)                                                                                               \n",
      "                                                                                                  \n",
      " conv3_block2_3_conv (Conv2D)   (None, 23, 23, 512)  66048       ['conv3_block2_2_relu[0][0]']    \n",
      "                                                                                                  \n",
      " conv3_block2_3_bn (BatchNormal  (None, 23, 23, 512)  2048       ['conv3_block2_3_conv[0][0]']    \n",
      " ization)                                                                                         \n",
      "                                                                                                  \n",
      " conv3_block2_add (Add)         (None, 23, 23, 512)  0           ['conv3_block1_out[0][0]',       \n",
      "                                                                  'conv3_block2_3_bn[0][0]']      \n",
      "                                                                                                  \n",
      " conv3_block2_out (Activation)  (None, 23, 23, 512)  0           ['conv3_block2_add[0][0]']       \n",
      "                                                                                                  \n",
      " conv3_block3_1_conv (Conv2D)   (None, 23, 23, 128)  65664       ['conv3_block2_out[0][0]']       \n",
      "                                                                                                  \n",
      " conv3_block3_1_bn (BatchNormal  (None, 23, 23, 128)  512        ['conv3_block3_1_conv[0][0]']    \n",
      " ization)                                                                                         \n",
      "                                                                                                  \n",
      " conv3_block3_1_relu (Activatio  (None, 23, 23, 128)  0          ['conv3_block3_1_bn[0][0]']      \n",
      " n)                                                                                               \n",
      "                                                                                                  \n",
      " conv3_block3_2_conv (Conv2D)   (None, 23, 23, 128)  147584      ['conv3_block3_1_relu[0][0]']    \n",
      "                                                                                                  \n",
      " conv3_block3_2_bn (BatchNormal  (None, 23, 23, 128)  512        ['conv3_block3_2_conv[0][0]']    \n",
      " ization)                                                                                         \n",
      "                                                                                                  \n",
      " conv3_block3_2_relu (Activatio  (None, 23, 23, 128)  0          ['conv3_block3_2_bn[0][0]']      \n",
      " n)                                                                                               \n",
      "                                                                                                  \n",
      " conv3_block3_3_conv (Conv2D)   (None, 23, 23, 512)  66048       ['conv3_block3_2_relu[0][0]']    \n",
      "                                                                                                  \n",
      " conv3_block3_3_bn (BatchNormal  (None, 23, 23, 512)  2048       ['conv3_block3_3_conv[0][0]']    \n",
      " ization)                                                                                         \n",
      "                                                                                                  \n",
      " conv3_block3_add (Add)         (None, 23, 23, 512)  0           ['conv3_block2_out[0][0]',       \n",
      "                                                                  'conv3_block3_3_bn[0][0]']      \n",
      "                                                                                                  \n",
      " conv3_block3_out (Activation)  (None, 23, 23, 512)  0           ['conv3_block3_add[0][0]']       \n",
      "                                                                                                  \n",
      " conv3_block4_1_conv (Conv2D)   (None, 23, 23, 128)  65664       ['conv3_block3_out[0][0]']       \n",
      "                                                                                                  \n",
      " conv3_block4_1_bn (BatchNormal  (None, 23, 23, 128)  512        ['conv3_block4_1_conv[0][0]']    \n",
      " ization)                                                                                         \n",
      "                                                                                                  \n",
      " conv3_block4_1_relu (Activatio  (None, 23, 23, 128)  0          ['conv3_block4_1_bn[0][0]']      \n",
      " n)                                                                                               \n",
      "                                                                                                  \n",
      " conv3_block4_2_conv (Conv2D)   (None, 23, 23, 128)  147584      ['conv3_block4_1_relu[0][0]']    \n",
      "                                                                                                  \n",
      " conv3_block4_2_bn (BatchNormal  (None, 23, 23, 128)  512        ['conv3_block4_2_conv[0][0]']    \n",
      " ization)                                                                                         \n",
      "                                                                                                  \n",
      " conv3_block4_2_relu (Activatio  (None, 23, 23, 128)  0          ['conv3_block4_2_bn[0][0]']      \n",
      " n)                                                                                               \n",
      "                                                                                                  \n",
      " conv3_block4_3_conv (Conv2D)   (None, 23, 23, 512)  66048       ['conv3_block4_2_relu[0][0]']    \n",
      "                                                                                                  \n",
      " conv3_block4_3_bn (BatchNormal  (None, 23, 23, 512)  2048       ['conv3_block4_3_conv[0][0]']    \n",
      " ization)                                                                                         \n",
      "                                                                                                  \n",
      " conv3_block4_add (Add)         (None, 23, 23, 512)  0           ['conv3_block3_out[0][0]',       \n",
      "                                                                  'conv3_block4_3_bn[0][0]']      \n",
      "                                                                                                  \n",
      " conv3_block4_out (Activation)  (None, 23, 23, 512)  0           ['conv3_block4_add[0][0]']       \n",
      "                                                                                                  \n",
      " conv4_block1_1_conv (Conv2D)   (None, 12, 12, 256)  131328      ['conv3_block4_out[0][0]']       \n",
      "                                                                                                  \n",
      " conv4_block1_1_bn (BatchNormal  (None, 12, 12, 256)  1024       ['conv4_block1_1_conv[0][0]']    \n",
      " ization)                                                                                         \n",
      "                                                                                                  \n",
      " conv4_block1_1_relu (Activatio  (None, 12, 12, 256)  0          ['conv4_block1_1_bn[0][0]']      \n",
      " n)                                                                                               \n",
      "                                                                                                  \n",
      " conv4_block1_2_conv (Conv2D)   (None, 12, 12, 256)  590080      ['conv4_block1_1_relu[0][0]']    \n",
      "                                                                                                  \n",
      " conv4_block1_2_bn (BatchNormal  (None, 12, 12, 256)  1024       ['conv4_block1_2_conv[0][0]']    \n",
      " ization)                                                                                         \n",
      "                                                                                                  \n",
      " conv4_block1_2_relu (Activatio  (None, 12, 12, 256)  0          ['conv4_block1_2_bn[0][0]']      \n",
      " n)                                                                                               \n",
      "                                                                                                  \n",
      " conv4_block1_0_conv (Conv2D)   (None, 12, 12, 1024  525312      ['conv3_block4_out[0][0]']       \n",
      "                                )                                                                 \n",
      "                                                                                                  \n",
      " conv4_block1_3_conv (Conv2D)   (None, 12, 12, 1024  263168      ['conv4_block1_2_relu[0][0]']    \n",
      "                                )                                                                 \n",
      "                                                                                                  \n",
      " conv4_block1_0_bn (BatchNormal  (None, 12, 12, 1024  4096       ['conv4_block1_0_conv[0][0]']    \n",
      " ization)                       )                                                                 \n",
      "                                                                                                  \n",
      " conv4_block1_3_bn (BatchNormal  (None, 12, 12, 1024  4096       ['conv4_block1_3_conv[0][0]']    \n",
      " ization)                       )                                                                 \n",
      "                                                                                                  \n",
      " conv4_block1_add (Add)         (None, 12, 12, 1024  0           ['conv4_block1_0_bn[0][0]',      \n",
      "                                )                                 'conv4_block1_3_bn[0][0]']      \n",
      "                                                                                                  \n",
      " conv4_block1_out (Activation)  (None, 12, 12, 1024  0           ['conv4_block1_add[0][0]']       \n",
      "                                )                                                                 \n",
      "                                                                                                  \n",
      " conv4_block2_1_conv (Conv2D)   (None, 12, 12, 256)  262400      ['conv4_block1_out[0][0]']       \n",
      "                                                                                                  \n",
      " conv4_block2_1_bn (BatchNormal  (None, 12, 12, 256)  1024       ['conv4_block2_1_conv[0][0]']    \n",
      " ization)                                                                                         \n",
      "                                                                                                  \n",
      " conv4_block2_1_relu (Activatio  (None, 12, 12, 256)  0          ['conv4_block2_1_bn[0][0]']      \n",
      " n)                                                                                               \n",
      "                                                                                                  \n",
      " conv4_block2_2_conv (Conv2D)   (None, 12, 12, 256)  590080      ['conv4_block2_1_relu[0][0]']    \n",
      "                                                                                                  \n",
      " conv4_block2_2_bn (BatchNormal  (None, 12, 12, 256)  1024       ['conv4_block2_2_conv[0][0]']    \n",
      " ization)                                                                                         \n",
      "                                                                                                  \n",
      " conv4_block2_2_relu (Activatio  (None, 12, 12, 256)  0          ['conv4_block2_2_bn[0][0]']      \n",
      " n)                                                                                               \n",
      "                                                                                                  \n",
      " conv4_block2_3_conv (Conv2D)   (None, 12, 12, 1024  263168      ['conv4_block2_2_relu[0][0]']    \n",
      "                                )                                                                 \n",
      "                                                                                                  \n",
      " conv4_block2_3_bn (BatchNormal  (None, 12, 12, 1024  4096       ['conv4_block2_3_conv[0][0]']    \n",
      " ization)                       )                                                                 \n",
      "                                                                                                  \n",
      " conv4_block2_add (Add)         (None, 12, 12, 1024  0           ['conv4_block1_out[0][0]',       \n",
      "                                )                                 'conv4_block2_3_bn[0][0]']      \n",
      "                                                                                                  \n",
      " conv4_block2_out (Activation)  (None, 12, 12, 1024  0           ['conv4_block2_add[0][0]']       \n",
      "                                )                                                                 \n",
      "                                                                                                  \n",
      " conv4_block3_1_conv (Conv2D)   (None, 12, 12, 256)  262400      ['conv4_block2_out[0][0]']       \n",
      "                                                                                                  \n",
      " conv4_block3_1_bn (BatchNormal  (None, 12, 12, 256)  1024       ['conv4_block3_1_conv[0][0]']    \n",
      " ization)                                                                                         \n",
      "                                                                                                  \n",
      " conv4_block3_1_relu (Activatio  (None, 12, 12, 256)  0          ['conv4_block3_1_bn[0][0]']      \n",
      " n)                                                                                               \n",
      "                                                                                                  \n",
      " conv4_block3_2_conv (Conv2D)   (None, 12, 12, 256)  590080      ['conv4_block3_1_relu[0][0]']    \n",
      "                                                                                                  \n",
      " conv4_block3_2_bn (BatchNormal  (None, 12, 12, 256)  1024       ['conv4_block3_2_conv[0][0]']    \n",
      " ization)                                                                                         \n",
      "                                                                                                  \n",
      " conv4_block3_2_relu (Activatio  (None, 12, 12, 256)  0          ['conv4_block3_2_bn[0][0]']      \n",
      " n)                                                                                               \n",
      "                                                                                                  \n",
      " conv4_block3_3_conv (Conv2D)   (None, 12, 12, 1024  263168      ['conv4_block3_2_relu[0][0]']    \n",
      "                                )                                                                 \n",
      "                                                                                                  \n",
      " conv4_block3_3_bn (BatchNormal  (None, 12, 12, 1024  4096       ['conv4_block3_3_conv[0][0]']    \n",
      " ization)                       )                                                                 \n",
      "                                                                                                  \n",
      " conv4_block3_add (Add)         (None, 12, 12, 1024  0           ['conv4_block2_out[0][0]',       \n",
      "                                )                                 'conv4_block3_3_bn[0][0]']      \n",
      "                                                                                                  \n",
      " conv4_block3_out (Activation)  (None, 12, 12, 1024  0           ['conv4_block3_add[0][0]']       \n",
      "                                )                                                                 \n",
      "                                                                                                  \n",
      " conv4_block4_1_conv (Conv2D)   (None, 12, 12, 256)  262400      ['conv4_block3_out[0][0]']       \n",
      "                                                                                                  \n",
      " conv4_block4_1_bn (BatchNormal  (None, 12, 12, 256)  1024       ['conv4_block4_1_conv[0][0]']    \n",
      " ization)                                                                                         \n",
      "                                                                                                  \n",
      " conv4_block4_1_relu (Activatio  (None, 12, 12, 256)  0          ['conv4_block4_1_bn[0][0]']      \n",
      " n)                                                                                               \n",
      "                                                                                                  \n",
      " conv4_block4_2_conv (Conv2D)   (None, 12, 12, 256)  590080      ['conv4_block4_1_relu[0][0]']    \n",
      "                                                                                                  \n",
      " conv4_block4_2_bn (BatchNormal  (None, 12, 12, 256)  1024       ['conv4_block4_2_conv[0][0]']    \n",
      " ization)                                                                                         \n",
      "                                                                                                  \n",
      " conv4_block4_2_relu (Activatio  (None, 12, 12, 256)  0          ['conv4_block4_2_bn[0][0]']      \n",
      " n)                                                                                               \n",
      "                                                                                                  \n",
      " conv4_block4_3_conv (Conv2D)   (None, 12, 12, 1024  263168      ['conv4_block4_2_relu[0][0]']    \n",
      "                                )                                                                 \n",
      "                                                                                                  \n",
      " conv4_block4_3_bn (BatchNormal  (None, 12, 12, 1024  4096       ['conv4_block4_3_conv[0][0]']    \n",
      " ization)                       )                                                                 \n",
      "                                                                                                  \n",
      " conv4_block4_add (Add)         (None, 12, 12, 1024  0           ['conv4_block3_out[0][0]',       \n",
      "                                )                                 'conv4_block4_3_bn[0][0]']      \n",
      "                                                                                                  \n",
      " conv4_block4_out (Activation)  (None, 12, 12, 1024  0           ['conv4_block4_add[0][0]']       \n",
      "                                )                                                                 \n",
      "                                                                                                  \n",
      " conv4_block5_1_conv (Conv2D)   (None, 12, 12, 256)  262400      ['conv4_block4_out[0][0]']       \n",
      "                                                                                                  \n",
      " conv4_block5_1_bn (BatchNormal  (None, 12, 12, 256)  1024       ['conv4_block5_1_conv[0][0]']    \n",
      " ization)                                                                                         \n",
      "                                                                                                  \n",
      " conv4_block5_1_relu (Activatio  (None, 12, 12, 256)  0          ['conv4_block5_1_bn[0][0]']      \n",
      " n)                                                                                               \n",
      "                                                                                                  \n",
      " conv4_block5_2_conv (Conv2D)   (None, 12, 12, 256)  590080      ['conv4_block5_1_relu[0][0]']    \n",
      "                                                                                                  \n",
      " conv4_block5_2_bn (BatchNormal  (None, 12, 12, 256)  1024       ['conv4_block5_2_conv[0][0]']    \n",
      " ization)                                                                                         \n",
      "                                                                                                  \n",
      " conv4_block5_2_relu (Activatio  (None, 12, 12, 256)  0          ['conv4_block5_2_bn[0][0]']      \n",
      " n)                                                                                               \n",
      "                                                                                                  \n",
      " conv4_block5_3_conv (Conv2D)   (None, 12, 12, 1024  263168      ['conv4_block5_2_relu[0][0]']    \n",
      "                                )                                                                 \n",
      "                                                                                                  \n",
      " conv4_block5_3_bn (BatchNormal  (None, 12, 12, 1024  4096       ['conv4_block5_3_conv[0][0]']    \n",
      " ization)                       )                                                                 \n",
      "                                                                                                  \n",
      " conv4_block5_add (Add)         (None, 12, 12, 1024  0           ['conv4_block4_out[0][0]',       \n",
      "                                )                                 'conv4_block5_3_bn[0][0]']      \n",
      "                                                                                                  \n",
      " conv4_block5_out (Activation)  (None, 12, 12, 1024  0           ['conv4_block5_add[0][0]']       \n",
      "                                )                                                                 \n",
      "                                                                                                  \n",
      " conv4_block6_1_conv (Conv2D)   (None, 12, 12, 256)  262400      ['conv4_block5_out[0][0]']       \n",
      "                                                                                                  \n",
      " conv4_block6_1_bn (BatchNormal  (None, 12, 12, 256)  1024       ['conv4_block6_1_conv[0][0]']    \n",
      " ization)                                                                                         \n",
      "                                                                                                  \n",
      " conv4_block6_1_relu (Activatio  (None, 12, 12, 256)  0          ['conv4_block6_1_bn[0][0]']      \n",
      " n)                                                                                               \n",
      "                                                                                                  \n",
      " conv4_block6_2_conv (Conv2D)   (None, 12, 12, 256)  590080      ['conv4_block6_1_relu[0][0]']    \n",
      "                                                                                                  \n",
      " conv4_block6_2_bn (BatchNormal  (None, 12, 12, 256)  1024       ['conv4_block6_2_conv[0][0]']    \n",
      " ization)                                                                                         \n",
      "                                                                                                  \n",
      " conv4_block6_2_relu (Activatio  (None, 12, 12, 256)  0          ['conv4_block6_2_bn[0][0]']      \n",
      " n)                                                                                               \n",
      "                                                                                                  \n",
      " conv4_block6_3_conv (Conv2D)   (None, 12, 12, 1024  263168      ['conv4_block6_2_relu[0][0]']    \n",
      "                                )                                                                 \n",
      "                                                                                                  \n",
      " conv4_block6_3_bn (BatchNormal  (None, 12, 12, 1024  4096       ['conv4_block6_3_conv[0][0]']    \n",
      " ization)                       )                                                                 \n",
      "                                                                                                  \n",
      " conv4_block6_add (Add)         (None, 12, 12, 1024  0           ['conv4_block5_out[0][0]',       \n",
      "                                )                                 'conv4_block6_3_bn[0][0]']      \n",
      "                                                                                                  \n",
      " conv4_block6_out (Activation)  (None, 12, 12, 1024  0           ['conv4_block6_add[0][0]']       \n",
      "                                )                                                                 \n",
      "                                                                                                  \n",
      " conv5_block1_1_conv (Conv2D)   (None, 6, 6, 512)    524800      ['conv4_block6_out[0][0]']       \n",
      "                                                                                                  \n",
      " conv5_block1_1_bn (BatchNormal  (None, 6, 6, 512)   2048        ['conv5_block1_1_conv[0][0]']    \n",
      " ization)                                                                                         \n",
      "                                                                                                  \n",
      " conv5_block1_1_relu (Activatio  (None, 6, 6, 512)   0           ['conv5_block1_1_bn[0][0]']      \n",
      " n)                                                                                               \n",
      "                                                                                                  \n",
      " conv5_block1_2_conv (Conv2D)   (None, 6, 6, 512)    2359808     ['conv5_block1_1_relu[0][0]']    \n",
      "                                                                                                  \n",
      " conv5_block1_2_bn (BatchNormal  (None, 6, 6, 512)   2048        ['conv5_block1_2_conv[0][0]']    \n",
      " ization)                                                                                         \n",
      "                                                                                                  \n",
      " conv5_block1_2_relu (Activatio  (None, 6, 6, 512)   0           ['conv5_block1_2_bn[0][0]']      \n",
      " n)                                                                                               \n",
      "                                                                                                  \n",
      " conv5_block1_0_conv (Conv2D)   (None, 6, 6, 2048)   2099200     ['conv4_block6_out[0][0]']       \n",
      "                                                                                                  \n",
      " conv5_block1_3_conv (Conv2D)   (None, 6, 6, 2048)   1050624     ['conv5_block1_2_relu[0][0]']    \n",
      "                                                                                                  \n",
      " conv5_block1_0_bn (BatchNormal  (None, 6, 6, 2048)  8192        ['conv5_block1_0_conv[0][0]']    \n",
      " ization)                                                                                         \n",
      "                                                                                                  \n",
      " conv5_block1_3_bn (BatchNormal  (None, 6, 6, 2048)  8192        ['conv5_block1_3_conv[0][0]']    \n",
      " ization)                                                                                         \n",
      "                                                                                                  \n",
      " conv5_block1_add (Add)         (None, 6, 6, 2048)   0           ['conv5_block1_0_bn[0][0]',      \n",
      "                                                                  'conv5_block1_3_bn[0][0]']      \n",
      "                                                                                                  \n",
      " conv5_block1_out (Activation)  (None, 6, 6, 2048)   0           ['conv5_block1_add[0][0]']       \n",
      "                                                                                                  \n",
      " conv5_block2_1_conv (Conv2D)   (None, 6, 6, 512)    1049088     ['conv5_block1_out[0][0]']       \n",
      "                                                                                                  \n",
      " conv5_block2_1_bn (BatchNormal  (None, 6, 6, 512)   2048        ['conv5_block2_1_conv[0][0]']    \n",
      " ization)                                                                                         \n",
      "                                                                                                  \n",
      " conv5_block2_1_relu (Activatio  (None, 6, 6, 512)   0           ['conv5_block2_1_bn[0][0]']      \n",
      " n)                                                                                               \n",
      "                                                                                                  \n",
      " conv5_block2_2_conv (Conv2D)   (None, 6, 6, 512)    2359808     ['conv5_block2_1_relu[0][0]']    \n",
      "                                                                                                  \n",
      " conv5_block2_2_bn (BatchNormal  (None, 6, 6, 512)   2048        ['conv5_block2_2_conv[0][0]']    \n",
      " ization)                                                                                         \n",
      "                                                                                                  \n",
      " conv5_block2_2_relu (Activatio  (None, 6, 6, 512)   0           ['conv5_block2_2_bn[0][0]']      \n",
      " n)                                                                                               \n",
      "                                                                                                  \n",
      " conv5_block2_3_conv (Conv2D)   (None, 6, 6, 2048)   1050624     ['conv5_block2_2_relu[0][0]']    \n",
      "                                                                                                  \n",
      " conv5_block2_3_bn (BatchNormal  (None, 6, 6, 2048)  8192        ['conv5_block2_3_conv[0][0]']    \n",
      " ization)                                                                                         \n",
      "                                                                                                  \n",
      " conv5_block2_add (Add)         (None, 6, 6, 2048)   0           ['conv5_block1_out[0][0]',       \n",
      "                                                                  'conv5_block2_3_bn[0][0]']      \n",
      "                                                                                                  \n",
      " conv5_block2_out (Activation)  (None, 6, 6, 2048)   0           ['conv5_block2_add[0][0]']       \n",
      "                                                                                                  \n",
      " conv5_block3_1_conv (Conv2D)   (None, 6, 6, 512)    1049088     ['conv5_block2_out[0][0]']       \n",
      "                                                                                                  \n",
      " conv5_block3_1_bn (BatchNormal  (None, 6, 6, 512)   2048        ['conv5_block3_1_conv[0][0]']    \n",
      " ization)                                                                                         \n",
      "                                                                                                  \n",
      " conv5_block3_1_relu (Activatio  (None, 6, 6, 512)   0           ['conv5_block3_1_bn[0][0]']      \n",
      " n)                                                                                               \n",
      "                                                                                                  \n",
      " flatten_3 (Flatten)            (None, 18432)        0           ['conv5_block3_1_relu[0][0]']    \n",
      "                                                                                                  \n",
      " dense_9 (Dense)                (None, 32)           589856      ['flatten_3[0][0]']              \n",
      "                                                                                                  \n",
      " dropout_6 (Dropout)            (None, 32)           0           ['dense_9[0][0]']                \n",
      "                                                                                                  \n",
      " dense_10 (Dense)               (None, 8)            264         ['dropout_6[0][0]']              \n",
      "                                                                                                  \n",
      " dropout_7 (Dropout)            (None, 8)            0           ['dense_10[0][0]']               \n",
      "                                                                                                  \n",
      " dense_11 (Dense)               (None, 2)            18          ['dropout_7[0][0]']              \n",
      "                                                                                                  \n",
      "==================================================================================================\n",
      "Total params: 20,757,178\n",
      "Trainable params: 590,138\n",
      "Non-trainable params: 20,167,040\n",
      "__________________________________________________________________________________________________\n",
      "The num of our layers in the model is: 174\n"
     ]
    }
   ],
   "source": [
    "last_layer=pretrained_model1.get_layer('conv5_block3_1_relu')\n",
    "last_output = last_layer.output\n",
    "\n",
    "x=tf.keras.layers.Flatten()(last_output)\n",
    "x=tf.keras.layers.Dense(32,activation='relu')(x)\n",
    "x=tf.keras.layers.Dropout(0.2)(x)\n",
    "x=tf.keras.layers.Dense(8,activation='relu')(x)\n",
    "x=tf.keras.layers.Dropout(0.2)(x)\n",
    "x=tf.keras.layers.Dense(2,activation='sigmoid')(x)\n",
    "\n",
    "model1=tf.keras.Model(pretrained_model1.input,x)\n",
    "\n",
    "model1.compile(optimizer=Adam(lr=0.00001),\n",
    "              loss='binary_crossentropy',\n",
    "               metrics=['accuracy','Precision','Recall'])\n",
    "\n",
    "model1.summary()\n",
    "print (\"The num of our layers in the model is:\",len(model1.layers))"
   ]
  },
  {
   "cell_type": "code",
   "execution_count": 31,
   "id": "e6448e6d",
   "metadata": {},
   "outputs": [],
   "source": [
    "from keras.callbacks import LearningRateScheduler\n",
    "def ir_scheduler(epoch, lr):\n",
    "   decay_rate=0.8\n",
    "   decay_step=1\n",
    "   if epoch % decay_step == 0 and epoch:\n",
    "        return lr * pow(decay_rate,np.floor(epoch / decay_step))\n",
    "   return lr "
   ]
  },
  {
   "cell_type": "code",
   "execution_count": 32,
   "id": "9b83f092",
   "metadata": {},
   "outputs": [],
   "source": [
    "epochs=15\n",
    "learning_rate=LearningRateScheduler(ir_scheduler,verbose=1)\n",
    "Stop_befor=tf.keras.callbacks.EarlyStopping(patience=5,restore_best_weights=True)\n",
    "call_Back=[learning_rate,Stop_befor]\n",
    "\n"
   ]
  },
  {
   "cell_type": "code",
   "execution_count": 33,
   "id": "da6b0a20",
   "metadata": {},
   "outputs": [
    {
     "name": "stdout",
     "output_type": "stream",
     "text": [
      "\n",
      "Epoch 00001: LearningRateScheduler setting learning rate to 9.999999747378752e-06.\n",
      "Epoch 1/15\n",
      "131/131 - 242s - loss: 0.6758 - accuracy: 0.6722 - precision: 0.5448 - recall: 0.4091 - val_loss: 0.6118 - val_accuracy: 0.9051 - val_precision: 0.7946 - val_recall: 0.4267 - lr: 1.0000e-05 - 242s/epoch - 2s/step\n",
      "\n",
      "Epoch 00002: LearningRateScheduler setting learning rate to 7.999999797903002e-06.\n",
      "Epoch 2/15\n",
      "131/131 - 255s - loss: 0.6079 - accuracy: 0.8308 - precision: 0.6682 - recall: 0.5155 - val_loss: 0.5535 - val_accuracy: 0.9223 - val_precision: 0.8807 - val_recall: 0.5024 - lr: 8.0000e-06 - 255s/epoch - 2s/step\n",
      "\n",
      "Epoch 00003: LearningRateScheduler setting learning rate to 5.119999987073244e-06.\n",
      "Epoch 3/15\n",
      "131/131 - 258s - loss: 0.5809 - accuracy: 0.8555 - precision: 0.6925 - recall: 0.5624 - val_loss: 0.5302 - val_accuracy: 0.9377 - val_precision: 0.9107 - val_recall: 0.6059 - lr: 5.1200e-06 - 258s/epoch - 2s/step\n",
      "\n",
      "Epoch 00004: LearningRateScheduler setting learning rate to 2.6214399840682753e-06.\n",
      "Epoch 4/15\n",
      "131/131 - 270s - loss: 0.5658 - accuracy: 0.8627 - precision: 0.7223 - recall: 0.5991 - val_loss: 0.5175 - val_accuracy: 0.9377 - val_precision: 0.9212 - val_recall: 0.6500 - lr: 2.6214e-06 - 270s/epoch - 2s/step\n",
      "\n",
      "Epoch 00005: LearningRateScheduler setting learning rate to 1.0737418197095396e-06.\n",
      "Epoch 5/15\n",
      "131/131 - 249s - loss: 0.5589 - accuracy: 0.8725 - precision: 0.7305 - recall: 0.6075 - val_loss: 0.5127 - val_accuracy: 0.9377 - val_precision: 0.9238 - val_recall: 0.6855 - lr: 1.0737e-06 - 249s/epoch - 2s/step\n",
      "\n",
      "Epoch 00006: LearningRateScheduler setting learning rate to 3.5184372216463097e-07.\n",
      "Epoch 6/15\n",
      "131/131 - 247s - loss: 0.5598 - accuracy: 0.8696 - precision: 0.7293 - recall: 0.6154 - val_loss: 0.5115 - val_accuracy: 0.9377 - val_precision: 0.9247 - val_recall: 0.6951 - lr: 3.5184e-07 - 247s/epoch - 2s/step\n",
      "\n",
      "Epoch 00007: LearningRateScheduler setting learning rate to 9.223371744155887e-08.\n",
      "Epoch 7/15\n",
      "131/131 - 254s - loss: 0.5580 - accuracy: 0.8689 - precision: 0.7365 - recall: 0.6175 - val_loss: 0.5111 - val_accuracy: 0.9386 - val_precision: 0.9253 - val_recall: 0.7009 - lr: 9.2234e-08 - 254s/epoch - 2s/step\n",
      "\n",
      "Epoch 00008: LearningRateScheduler setting learning rate to 1.934281289577485e-08.\n",
      "Epoch 8/15\n",
      "131/131 - 248s - loss: 0.5591 - accuracy: 0.8670 - precision: 0.7299 - recall: 0.6082 - val_loss: 0.5111 - val_accuracy: 0.9386 - val_precision: 0.9255 - val_recall: 0.7028 - lr: 1.9343e-08 - 248s/epoch - 2s/step\n",
      "\n",
      "Epoch 00009: LearningRateScheduler setting learning rate to 3.245185613632204e-09.\n",
      "Epoch 9/15\n",
      "131/131 - 261s - loss: 0.5552 - accuracy: 0.8759 - precision: 0.7379 - recall: 0.6228 - val_loss: 0.5110 - val_accuracy: 0.9386 - val_precision: 0.9255 - val_recall: 0.7028 - lr: 3.2452e-09 - 261s/epoch - 2s/step\n",
      "\n",
      "Epoch 00010: LearningRateScheduler setting learning rate to 4.3556144833564777e-10.\n",
      "Epoch 10/15\n",
      "131/131 - 252s - loss: 0.5567 - accuracy: 0.8780 - precision: 0.7446 - recall: 0.6190 - val_loss: 0.5110 - val_accuracy: 0.9386 - val_precision: 0.9255 - val_recall: 0.7028 - lr: 4.3556e-10 - 252s/epoch - 2s/step\n",
      "\n",
      "Epoch 00011: LearningRateScheduler setting learning rate to 4.676805436611178e-11.\n",
      "Epoch 11/15\n",
      "131/131 - 267s - loss: 0.5576 - accuracy: 0.8723 - precision: 0.7328 - recall: 0.6231 - val_loss: 0.5110 - val_accuracy: 0.9386 - val_precision: 0.9255 - val_recall: 0.7028 - lr: 4.6768e-11 - 267s/epoch - 2s/step\n",
      "\n",
      "Epoch 00012: LearningRateScheduler setting learning rate to 4.01734530925751e-12.\n",
      "Epoch 12/15\n",
      "131/131 - 271s - loss: 0.5553 - accuracy: 0.8826 - precision: 0.7413 - recall: 0.6161 - val_loss: 0.5110 - val_accuracy: 0.9386 - val_precision: 0.9255 - val_recall: 0.7028 - lr: 4.0173e-12 - 271s/epoch - 2s/step\n",
      "\n",
      "Epoch 00013: LearningRateScheduler setting learning rate to 2.7606987953186053e-13.\n",
      "Epoch 13/15\n",
      "131/131 - 270s - loss: 0.5553 - accuracy: 0.8773 - precision: 0.7346 - recall: 0.6068 - val_loss: 0.5110 - val_accuracy: 0.9386 - val_precision: 0.9255 - val_recall: 0.7028 - lr: 2.7607e-13 - 270s/epoch - 2s/step\n",
      "\n",
      "Epoch 00014: LearningRateScheduler setting learning rate to 1.5177102386951457e-14.\n",
      "Epoch 14/15\n",
      "131/131 - 266s - loss: 0.5586 - accuracy: 0.8670 - precision: 0.7293 - recall: 0.6257 - val_loss: 0.5110 - val_accuracy: 0.9386 - val_precision: 0.9255 - val_recall: 0.7028 - lr: 1.5177e-14 - 266s/epoch - 2s/step\n",
      "\n",
      "Epoch 00015: LearningRateScheduler setting learning rate to 6.674960255622869e-16.\n",
      "Epoch 15/15\n",
      "131/131 - 249s - loss: 0.5574 - accuracy: 0.8692 - precision: 0.7362 - recall: 0.6187 - val_loss: 0.5110 - val_accuracy: 0.9386 - val_precision: 0.9255 - val_recall: 0.7028 - lr: 6.6750e-16 - 249s/epoch - 2s/step\n"
     ]
    }
   ],
   "source": [
    "history1=model1.fit(training_datagen1,validation_data=validation_datagen1,epochs=epochs, callbacks=call_Back, verbose=2)"
   ]
  },
  {
   "cell_type": "code",
   "execution_count": 34,
   "id": "3b661427",
   "metadata": {},
   "outputs": [
    {
     "name": "stdout",
     "output_type": "stream",
     "text": [
      "dict_keys(['loss', 'accuracy', 'precision', 'recall', 'val_loss', 'val_accuracy', 'val_precision', 'val_recall', 'lr'])\n"
     ]
    },
    {
     "data": {
      "image/png": "[encoded data removed]",
      "text/plain": [
       "<Figure size 432x288 with 1 Axes>"
      ]
     },
     "metadata": {
      "needs_background": "light"
     },
     "output_type": "display_data"
    },
    {
     "data": {
      "image/png": "[encoded data removed]",
      "text/plain": [
       "<Figure size 432x288 with 1 Axes>"
      ]
     },
     "metadata": {
      "needs_background": "light"
     },
     "output_type": "display_data"
    }
   ],
   "source": [
    "print(history1.history.keys())\n",
    "plt.plot(history1.history['accuracy'],'r')\n",
    "plt.plot(history1.history['val_accuracy'],'b')\n",
    "plt.title('model accuracy')\n",
    "plt.ylabel('accuracy')\n",
    "\n",
    "plt.xlabel('epoch')\n",
    "plt.legend(['train', 'Val'], loc='upper left')\n",
    "\n",
    "plt.show()\n",
    "plt.plot(history1.history['loss'],'r')\n",
    "plt.plot(history1.history['val_loss'],'b')\n",
    "plt.title('model loss')\n",
    "plt.ylabel('loss')\n",
    "plt.xlabel('epoch')\n",
    "plt.legend(['train', 'Val'], loc='upper left')\n",
    "\n",
    "plt.show()\n",
    "\n",
    "\n"
   ]
  },
  {
   "cell_type": "code",
   "execution_count": 35,
   "id": "6c5eda22",
   "metadata": {},
   "outputs": [
    {
     "name": "stdout",
     "output_type": "stream",
     "text": [
      "(624,)\n",
      "(624,)\n"
     ]
    }
   ],
   "source": [
    "# Get predictions and Original labels\n",
    "import numpy as np \n",
    "predictions = np.array([])\n",
    "test_labels =  np.array([])\n",
    "for x, y in test_datagen1:\n",
    "    predictions = np.concatenate([predictions, np.argmax(model1.predict(x), axis = -1)])\n",
    "    test_labels = np.concatenate([test_labels, np.argmax(y.numpy(), axis=-1)])\n",
    "\n",
    "print(test_labels.shape)\n",
    "print(predictions.shape)\n"
   ]
  },
  {
   "cell_type": "code",
   "execution_count": 36,
   "id": "4f41f32a",
   "metadata": {},
   "outputs": [
    {
     "data": {
      "image/png": "[encoded data removed]",
      "text/plain": [
       "<Figure size 864x576 with 2 Axes>"
      ]
     },
     "metadata": {
      "needs_background": "light"
     },
     "output_type": "display_data"
    }
   ],
   "source": [
    "# Get the confusion matrix\n",
    "cm  = confusion_matrix(test_labels, predictions)\n",
    "f,ax = plt.subplots(figsize=(12, 8))\n",
    "sns.heatmap(cm, annot=True, linewidths=0.01, cmap=plt.cm.Reds, linecolor=\"gray\", fmt='.1f', ax=ax)\n",
    "plt.xticks(np.arange(0, 2, step=0.5), ['', 'Normal(0)', '', 'Pneumonia(1)'], fontsize=16)\n",
    "plt.yticks(np.arange(0, 2, step=0.5), ['', 'Normal(0)', '', 'Pneumonia(1)'], fontsize=16)\n",
    "plt.xlabel(\"Predicted Label\")\n",
    "plt.ylabel(\"True Label\")\n",
    "plt.title(\"Confusion Matrix\")\n",
    "plt.show()"
   ]
  },
  {
   "cell_type": "code",
   "execution_count": 37,
   "id": "168d88d4",
   "metadata": {},
   "outputs": [
    {
     "name": "stdout",
     "output_type": "stream",
     "text": [
      " The recall of model is: 0.9487179487179487\n",
      "The precision of the model is: 0.8114035087719298\n"
     ]
    }
   ],
   "source": [
    "recall = sklearn.metrics.recall_score(test_labels, predictions, pos_label=1)\n",
    "print(\" The recall of model is:\" ,recall)\n",
    "#Recall = TruePositives / (TruePositives + FalseNegatives)\n",
    "\n",
    "precision = sklearn.metrics.precision_score(test_labels, predictions, pos_label=1)\n",
    "print(\"The precision of the model is:\" ,precision)\n",
    "#precision = TruePositives/(TruePositives+FalsePositives)"
   ]
  },
  {
   "cell_type": "code",
   "execution_count": 38,
   "id": "240f05e0",
   "metadata": {},
   "outputs": [
    {
     "name": "stdout",
     "output_type": "stream",
     "text": [
      "The num of our layers in the model is: 174\n"
     ]
    }
   ],
   "source": [
    "print (\"The num of our layers in the model is:\",len(model1.layers))"
   ]
  },
  {
   "cell_type": "markdown",
   "id": "edd6fd4d",
   "metadata": {},
   "source": [
    "## Model 2"
   ]
  },
  {
   "cell_type": "code",
   "execution_count": 39,
   "id": "ad44baf2",
   "metadata": {},
   "outputs": [],
   "source": [
    "model_2 = ResNet50(weights= 'imagenet', include_top=False, input_shape= (180,180,3))\n",
    "\n",
    "\n",
    "for layers in model_2.layers:\n",
    "    layers.trainable = False\n",
    "\n",
    "i = 1\n",
    "for layer in model_2.layers:\n",
    "  if i==int(i/87):\n",
    "    layer.trainable = True\n",
    "  i+=1\n"
   ]
  },
  {
   "cell_type": "code",
   "execution_count": 40,
   "id": "d1baf428",
   "metadata": {},
   "outputs": [
    {
     "name": "stderr",
     "output_type": "stream",
     "text": [
      "C:\\Users\\benez\\anaconda3\\lib\\site-packages\\keras\\optimizer_v2\\adam.py:105: UserWarning: The `lr` argument is deprecated, use `learning_rate` instead.\n",
      "  super(Adam, self).__init__(name, **kwargs)\n"
     ]
    }
   ],
   "source": [
    "Mid_layer=model_2.get_layer('conv5_block3_1_relu')\n",
    "Mid_output = Mid_layer.output\n",
    "\n",
    "x=tf.keras.layers.Flatten()(Mid_output)\n",
    "x=tf.keras.layers.Dense(32,activation='relu')(x)\n",
    "x=tf.keras.layers.Dropout(0.2)(x)\n",
    "x=tf.keras.layers.Dense(8,activation='relu')(x)\n",
    "x=tf.keras.layers.Dropout(0.2)(x)\n",
    "x=tf.keras.layers.Dense(2,activation='sigmoid')(x)\n",
    "\n",
    "model2=tf.keras.Model(model_2.input,x)\n",
    "\n",
    "model2.compile(optimizer=Adam(lr=0.00001),\n",
    "              loss='binary_crossentropy',\n",
    "               metrics=['accuracy','Precision','Recall'])\n",
    "# model2.summary()"
   ]
  },
  {
   "cell_type": "code",
   "execution_count": 41,
   "id": "355b920a",
   "metadata": {},
   "outputs": [
    {
     "name": "stdout",
     "output_type": "stream",
     "text": [
      "\n",
      "Epoch 00001: LearningRateScheduler setting learning rate to 9.999999747378752e-06.\n",
      "Epoch 1/15\n",
      "131/131 - 255s - loss: 0.5355 - accuracy: 0.7244 - precision: 0.7218 - recall: 0.6801 - val_loss: 0.4122 - val_accuracy: 0.8188 - val_precision: 0.8019 - val_recall: 0.8265 - lr: 1.0000e-05 - 255s/epoch - 2s/step\n",
      "\n",
      "Epoch 00002: LearningRateScheduler setting learning rate to 7.999999797903002e-06.\n",
      "Epoch 2/15\n",
      "131/131 - 248s - loss: 0.3853 - accuracy: 0.8524 - precision: 0.8220 - recall: 0.8059 - val_loss: 0.2968 - val_accuracy: 0.9099 - val_precision: 0.8867 - val_recall: 0.9233 - lr: 8.0000e-06 - 248s/epoch - 2s/step\n",
      "\n",
      "Epoch 00003: LearningRateScheduler setting learning rate to 5.119999987073244e-06.\n",
      "Epoch 3/15\n",
      "131/131 - 246s - loss: 0.3270 - accuracy: 0.8919 - precision: 0.8665 - recall: 0.8589 - val_loss: 0.2566 - val_accuracy: 0.9338 - val_precision: 0.9151 - val_recall: 0.9406 - lr: 5.1200e-06 - 246s/epoch - 2s/step\n",
      "\n",
      "Epoch 00004: LearningRateScheduler setting learning rate to 2.6214399840682753e-06.\n",
      "Epoch 4/15\n",
      "131/131 - 243s - loss: 0.3005 - accuracy: 0.9046 - precision: 0.8804 - recall: 0.8785 - val_loss: 0.2405 - val_accuracy: 0.9348 - val_precision: 0.9260 - val_recall: 0.9473 - lr: 2.6214e-06 - 243s/epoch - 2s/step\n",
      "\n",
      "Epoch 00005: LearningRateScheduler setting learning rate to 1.0737418197095396e-06.\n",
      "Epoch 5/15\n",
      "131/131 - 261s - loss: 0.2905 - accuracy: 0.9034 - precision: 0.8862 - recall: 0.8811 - val_loss: 0.2340 - val_accuracy: 0.9386 - val_precision: 0.9280 - val_recall: 0.9511 - lr: 1.0737e-06 - 261s/epoch - 2s/step\n",
      "\n",
      "Epoch 00006: LearningRateScheduler setting learning rate to 3.5184372216463097e-07.\n",
      "Epoch 6/15\n",
      "131/131 - 252s - loss: 0.2879 - accuracy: 0.9015 - precision: 0.8849 - recall: 0.8828 - val_loss: 0.2319 - val_accuracy: 0.9406 - val_precision: 0.9280 - val_recall: 0.9521 - lr: 3.5184e-07 - 252s/epoch - 2s/step\n",
      "\n",
      "Epoch 00007: LearningRateScheduler setting learning rate to 9.223371744155887e-08.\n",
      "Epoch 7/15\n",
      "131/131 - 252s - loss: 0.2908 - accuracy: 0.8994 - precision: 0.8778 - recall: 0.8763 - val_loss: 0.2314 - val_accuracy: 0.9406 - val_precision: 0.9289 - val_recall: 0.9521 - lr: 9.2234e-08 - 252s/epoch - 2s/step\n",
      "\n",
      "Epoch 00008: LearningRateScheduler setting learning rate to 1.934281289577485e-08.\n",
      "Epoch 8/15\n",
      "131/131 - 247s - loss: 0.2897 - accuracy: 0.9070 - precision: 0.8870 - recall: 0.8823 - val_loss: 0.2313 - val_accuracy: 0.9406 - val_precision: 0.9289 - val_recall: 0.9521 - lr: 1.9343e-08 - 247s/epoch - 2s/step\n",
      "\n",
      "Epoch 00009: LearningRateScheduler setting learning rate to 3.245185613632204e-09.\n",
      "Epoch 9/15\n",
      "131/131 - 244s - loss: 0.2846 - accuracy: 0.9068 - precision: 0.8852 - recall: 0.8907 - val_loss: 0.2313 - val_accuracy: 0.9406 - val_precision: 0.9289 - val_recall: 0.9521 - lr: 3.2452e-09 - 244s/epoch - 2s/step\n",
      "\n",
      "Epoch 00010: LearningRateScheduler setting learning rate to 4.3556144833564777e-10.\n",
      "Epoch 10/15\n",
      "131/131 - 246s - loss: 0.2853 - accuracy: 0.9049 - precision: 0.8824 - recall: 0.8864 - val_loss: 0.2313 - val_accuracy: 0.9406 - val_precision: 0.9289 - val_recall: 0.9521 - lr: 4.3556e-10 - 246s/epoch - 2s/step\n",
      "\n",
      "Epoch 00011: LearningRateScheduler setting learning rate to 4.676805436611178e-11.\n",
      "Epoch 11/15\n",
      "131/131 - 245s - loss: 0.2825 - accuracy: 0.9070 - precision: 0.8835 - recall: 0.8924 - val_loss: 0.2313 - val_accuracy: 0.9406 - val_precision: 0.9289 - val_recall: 0.9521 - lr: 4.6768e-11 - 245s/epoch - 2s/step\n",
      "\n",
      "Epoch 00012: LearningRateScheduler setting learning rate to 4.01734530925751e-12.\n",
      "Epoch 12/15\n",
      "131/131 - 247s - loss: 0.2847 - accuracy: 0.9099 - precision: 0.8882 - recall: 0.8799 - val_loss: 0.2313 - val_accuracy: 0.9406 - val_precision: 0.9289 - val_recall: 0.9521 - lr: 4.0173e-12 - 247s/epoch - 2s/step\n",
      "\n",
      "Epoch 00013: LearningRateScheduler setting learning rate to 2.7606987953186053e-13.\n",
      "Epoch 13/15\n",
      "131/131 - 256s - loss: 0.2857 - accuracy: 0.9094 - precision: 0.8824 - recall: 0.8914 - val_loss: 0.2313 - val_accuracy: 0.9406 - val_precision: 0.9289 - val_recall: 0.9521 - lr: 2.7607e-13 - 256s/epoch - 2s/step\n",
      "\n",
      "Epoch 00014: LearningRateScheduler setting learning rate to 1.5177102386951457e-14.\n",
      "Epoch 14/15\n",
      "131/131 - 253s - loss: 0.2828 - accuracy: 0.9053 - precision: 0.8855 - recall: 0.8826 - val_loss: 0.2313 - val_accuracy: 0.9406 - val_precision: 0.9289 - val_recall: 0.9521 - lr: 1.5177e-14 - 253s/epoch - 2s/step\n",
      "\n",
      "Epoch 00015: LearningRateScheduler setting learning rate to 6.674960255622869e-16.\n",
      "Epoch 15/15\n",
      "131/131 - 247s - loss: 0.2865 - accuracy: 0.9017 - precision: 0.8814 - recall: 0.8847 - val_loss: 0.2313 - val_accuracy: 0.9406 - val_precision: 0.9289 - val_recall: 0.9521 - lr: 6.6750e-16 - 247s/epoch - 2s/step\n"
     ]
    }
   ],
   "source": [
    "history2=model2.fit(training_datagen1,validation_data=validation_datagen1,epochs=epochs, callbacks=call_Back, verbose=2)"
   ]
  },
  {
   "cell_type": "code",
   "execution_count": 42,
   "id": "8353e19e",
   "metadata": {},
   "outputs": [
    {
     "name": "stdout",
     "output_type": "stream",
     "text": [
      "dict_keys(['loss', 'accuracy', 'precision', 'recall', 'val_loss', 'val_accuracy', 'val_precision', 'val_recall', 'lr'])\n"
     ]
    },
    {
     "data": {
      "image/png": "[encoded data removed]",
      "text/plain": [
       "<Figure size 432x288 with 1 Axes>"
      ]
     },
     "metadata": {
      "needs_background": "light"
     },
     "output_type": "display_data"
    },
    {
     "data": {
      "image/png": "[encoded data removed]",
      "text/plain": [
       "<Figure size 432x288 with 1 Axes>"
      ]
     },
     "metadata": {
      "needs_background": "light"
     },
     "output_type": "display_data"
    }
   ],
   "source": [
    "print(history2.history.keys())\n",
    "plt.plot(history2.history['accuracy'],'r')\n",
    "plt.plot(history2.history['val_accuracy'],'b')\n",
    "plt.title('model accuracy')\n",
    "plt.ylabel('accuracy')\n",
    "#plt.ylim(0,2)\n",
    "\n",
    "plt.xlabel('epoch')\n",
    "plt.legend(['train', 'Val'], loc='upper left')\n",
    "\n",
    "plt.show()\n",
    "plt.plot(history2.history['loss'],'r')\n",
    "plt.plot(history2.history['val_loss'],'b')\n",
    "plt.title('model loss')\n",
    "plt.ylabel('loss')\n",
    "#plt.ylim(0,2)\n",
    "plt.xlabel('epoch')\n",
    "plt.legend(['train', 'Val'], loc='upper left')\n",
    "\n",
    "plt.show()"
   ]
  },
  {
   "cell_type": "code",
   "execution_count": 43,
   "id": "9e2a4048",
   "metadata": {},
   "outputs": [
    {
     "name": "stdout",
     "output_type": "stream",
     "text": [
      "(624,)\n",
      "(624,)\n"
     ]
    },
    {
     "data": {
      "image/png": "[encoded data removed]",
      "text/plain": [
       "<Figure size 864x576 with 2 Axes>"
      ]
     },
     "metadata": {
      "needs_background": "light"
     },
     "output_type": "display_data"
    }
   ],
   "source": [
    "# Get predictions and Original labels\n",
    "import numpy as np \n",
    "predictions = np.array([])\n",
    "test_labels =  np.array([])\n",
    "for x, y in test_datagen1:\n",
    "    predictions = np.concatenate([predictions, np.argmax(model2.predict(x), axis = -1)])\n",
    "    test_labels = np.concatenate([test_labels, np.argmax(y.numpy(), axis=-1)])\n",
    "\n",
    "print(test_labels.shape)\n",
    "print(predictions.shape)\n",
    "\n",
    "\n",
    "# Get the confusion matrix\n",
    "cm  = confusion_matrix(test_labels, predictions)\n",
    "f,ax = plt.subplots(figsize=(12, 8))\n",
    "sns.heatmap(cm, annot=True, linewidths=0.01, cmap=plt.cm.Reds, linecolor=\"gray\", fmt='.1f', ax=ax)\n",
    "plt.xticks(np.arange(0, 2, step=0.5), ['', 'Normal(0)', '', 'Pneumonia(1)'], fontsize=16)\n",
    "plt.yticks(np.arange(0, 2, step=0.5), ['', 'Normal(0)', '', 'Pneumonia(1)'], fontsize=16)\n",
    "plt.xlabel(\"Predicted Label\")\n",
    "plt.ylabel(\"True Label\")\n",
    "plt.title(\"Confusion Matrix\")\n",
    "plt.show()\n",
    "\n"
   ]
  },
  {
   "cell_type": "code",
   "execution_count": 44,
   "id": "6ae29b93",
   "metadata": {},
   "outputs": [
    {
     "name": "stdout",
     "output_type": "stream",
     "text": [
      " The recall of model is: 0.9871794871794872\n",
      "The precision of the model is: 0.7064220183486238\n"
     ]
    }
   ],
   "source": [
    "recall = sklearn.metrics.recall_score(test_labels, predictions, pos_label=1)\n",
    "print(\" The recall of model is:\" ,recall)\n",
    "#Recall = TruePositives / (TruePositives + FalseNegatives)\n",
    "\n",
    "precision = sklearn.metrics.precision_score(test_labels, predictions, pos_label=1)\n",
    "print(\"The precision of the model is:\" ,precision)\n",
    "#precision = TruePositives/(TruePositives+FalsePositives)"
   ]
  },
  {
   "cell_type": "code",
   "execution_count": 63,
   "id": "0a57229b",
   "metadata": {},
   "outputs": [
    {
     "name": "stdout",
     "output_type": "stream",
     "text": [
      "(637,)\n",
      "(637,)\n"
     ]
    },
    {
     "data": {
      "image/png": "[encoded data removed]",
      "text/plain": [
       "<Figure size 864x576 with 2 Axes>"
      ]
     },
     "metadata": {
      "needs_background": "light"
     },
     "output_type": "display_data"
    }
   ],
   "source": [
    "# Get predictions and Original labels\n",
    "import numpy as np \n",
    "predictions_model_2 = np.array([])\n",
    "training_labels =  np.array([])\n",
    "for x, y in training_datagen1:\n",
    "    predictions_model_2 = np.concatenate([predictions, np.argmax(model2.predict(x), axis = -1)])\n",
    "    training_labels = np.concatenate([test_labels, np.argmax(y.numpy(), axis=-1)])\n",
    "\n",
    "print(training_labels.shape)\n",
    "print(predictions_model_2.shape)\n",
    "\n",
    "\n",
    "# Get the confusion matrix\n",
    "cm  = confusion_matrix(training_labels, predictions_model_2)\n",
    "f,ax = plt.subplots(figsize=(12, 8))\n",
    "sns.heatmap(cm, annot=True, linewidths=0.01, cmap=plt.cm.Reds, linecolor=\"gray\", fmt='.1f', ax=ax)\n",
    "plt.xticks(np.arange(0, 2, step=0.5), ['', 'Normal(0)', '', 'Pneumonia(1)'], fontsize=16)\n",
    "plt.yticks(np.arange(0, 2, step=0.5), ['', 'Normal(0)', '', 'Pneumonia(1)'], fontsize=16)\n",
    "plt.xlabel(\"Predicted Label\")\n",
    "plt.ylabel(\"True Label\")\n",
    "plt.title(\"Confusion Matrix\")\n",
    "plt.show()\n"
   ]
  },
  {
   "cell_type": "code",
   "execution_count": 64,
   "id": "7c86b7e0",
   "metadata": {},
   "outputs": [
    {
     "name": "stdout",
     "output_type": "stream",
     "text": [
      " The recall of model is: 1.0\n",
      "The precision of the model is: 0.6326530612244898\n"
     ]
    }
   ],
   "source": [
    "recall = sklearn.metrics.recall_score(training_labels, predictions_model_2, pos_label=1)\n",
    "print(\" The recall of model is:\" ,recall)\n",
    "#Recall = TruePositives / (TruePositives + FalseNegatives)\n",
    "\n",
    "precision = sklearn.metrics.precision_score(training_labels, predictions_model_2, pos_label=1)\n",
    "print(\"The precision of the model is:\" ,precision)\n",
    "#precision = TruePositives/(TruePositives+FalsePositives)"
   ]
  },
  {
   "cell_type": "markdown",
   "id": "79e767ab",
   "metadata": {},
   "source": [
    "## Model 3 "
   ]
  },
  {
   "cell_type": "code",
   "execution_count": 45,
   "id": "fe7f27b2",
   "metadata": {},
   "outputs": [],
   "source": [
    "model_3 = ResNet50(weights= 'imagenet', include_top=False, input_shape= (180,180,3))\n",
    "\n",
    "\n",
    "for layers in model_3.layers:\n",
    "    layers.trainable = False\n",
    "\n",
    "i = 1\n",
    "for layer in model_3.layers:\n",
    "  if i==int(i/174): \n",
    "    layer.trainable = True\n",
    "  i+=1"
   ]
  },
  {
   "cell_type": "code",
   "execution_count": 46,
   "id": "33fa40ef",
   "metadata": {},
   "outputs": [
    {
     "name": "stderr",
     "output_type": "stream",
     "text": [
      "C:\\Users\\benez\\anaconda3\\lib\\site-packages\\keras\\optimizer_v2\\adam.py:105: UserWarning: The `lr` argument is deprecated, use `learning_rate` instead.\n",
      "  super(Adam, self).__init__(name, **kwargs)\n"
     ]
    }
   ],
   "source": [
    "last_layer=model_3.get_layer('conv5_block3_1_relu')\n",
    "last_output = last_layer.output\n",
    "\n",
    "x=tf.keras.layers.Flatten()(last_output)\n",
    "x=tf.keras.layers.Dense(32,activation='relu')(x)\n",
    "x=tf.keras.layers.Dropout(0.2)(x)\n",
    "x=tf.keras.layers.Dense(8,activation='relu')(x)\n",
    "x=tf.keras.layers.Dropout(0.2)(x)\n",
    "x=tf.keras.layers.Dense(2,activation='sigmoid')(x)\n",
    "\n",
    "model3=tf.keras.Model(model_3.input,x)\n",
    "\n",
    "model3.compile(optimizer=Adam(lr=0.00001),\n",
    "              loss='binary_crossentropy',\n",
    "               metrics=['accuracy','Precision','Recall'])"
   ]
  },
  {
   "cell_type": "code",
   "execution_count": 47,
   "id": "83238e6d",
   "metadata": {},
   "outputs": [
    {
     "name": "stdout",
     "output_type": "stream",
     "text": [
      "\n",
      "Epoch 00001: LearningRateScheduler setting learning rate to 9.999999747378752e-06.\n",
      "Epoch 1/15\n",
      "131/131 - 252s - loss: 0.5457 - accuracy: 0.7474 - precision: 0.7165 - recall: 0.7958 - val_loss: 0.4262 - val_accuracy: 0.8015 - val_precision: 0.7669 - val_recall: 0.8706 - lr: 1.0000e-05 - 252s/epoch - 2s/step\n",
      "\n",
      "Epoch 00002: LearningRateScheduler setting learning rate to 7.999999797903002e-06.\n",
      "Epoch 2/15\n",
      "131/131 - 245s - loss: 0.4034 - accuracy: 0.8476 - precision: 0.7770 - recall: 0.8958 - val_loss: 0.3187 - val_accuracy: 0.9185 - val_precision: 0.8933 - val_recall: 0.9310 - lr: 8.0000e-06 - 245s/epoch - 2s/step\n",
      "\n",
      "Epoch 00003: LearningRateScheduler setting learning rate to 5.119999987073244e-06.\n",
      "Epoch 3/15\n",
      "131/131 - 242s - loss: 0.3342 - accuracy: 0.8994 - precision: 0.8607 - recall: 0.9104 - val_loss: 0.2608 - val_accuracy: 0.9348 - val_precision: 0.9377 - val_recall: 0.9386 - lr: 5.1200e-06 - 242s/epoch - 2s/step\n",
      "\n",
      "Epoch 00004: LearningRateScheduler setting learning rate to 2.6214399840682753e-06.\n",
      "Epoch 4/15\n",
      "131/131 - 243s - loss: 0.3015 - accuracy: 0.9173 - precision: 0.8787 - recall: 0.9216 - val_loss: 0.2427 - val_accuracy: 0.9444 - val_precision: 0.9453 - val_recall: 0.9444 - lr: 2.6214e-06 - 243s/epoch - 2s/step\n",
      "\n",
      "Epoch 00005: LearningRateScheduler setting learning rate to 1.0737418197095396e-06.\n",
      "Epoch 5/15\n",
      "131/131 - 251s - loss: 0.2916 - accuracy: 0.9231 - precision: 0.8888 - recall: 0.9214 - val_loss: 0.2363 - val_accuracy: 0.9453 - val_precision: 0.9474 - val_recall: 0.9501 - lr: 1.0737e-06 - 251s/epoch - 2s/step\n",
      "\n",
      "Epoch 00006: LearningRateScheduler setting learning rate to 3.5184372216463097e-07.\n",
      "Epoch 6/15\n",
      "131/131 - 243s - loss: 0.2866 - accuracy: 0.9212 - precision: 0.8865 - recall: 0.9212 - val_loss: 0.2343 - val_accuracy: 0.9453 - val_precision: 0.9474 - val_recall: 0.9501 - lr: 3.5184e-07 - 243s/epoch - 2s/step\n",
      "\n",
      "Epoch 00007: LearningRateScheduler setting learning rate to 9.223371744155887e-08.\n",
      "Epoch 7/15\n",
      "131/131 - 245s - loss: 0.2832 - accuracy: 0.9231 - precision: 0.8954 - recall: 0.9231 - val_loss: 0.2337 - val_accuracy: 0.9463 - val_precision: 0.9483 - val_recall: 0.9501 - lr: 9.2234e-08 - 245s/epoch - 2s/step\n",
      "\n",
      "Epoch 00008: LearningRateScheduler setting learning rate to 1.934281289577485e-08.\n",
      "Epoch 8/15\n",
      "131/131 - 243s - loss: 0.2859 - accuracy: 0.9214 - precision: 0.8825 - recall: 0.9197 - val_loss: 0.2335 - val_accuracy: 0.9463 - val_precision: 0.9483 - val_recall: 0.9492 - lr: 1.9343e-08 - 243s/epoch - 2s/step\n",
      "\n",
      "Epoch 00009: LearningRateScheduler setting learning rate to 3.245185613632204e-09.\n",
      "Epoch 9/15\n",
      "131/131 - 243s - loss: 0.2844 - accuracy: 0.9236 - precision: 0.8908 - recall: 0.9231 - val_loss: 0.2335 - val_accuracy: 0.9463 - val_precision: 0.9483 - val_recall: 0.9492 - lr: 3.2452e-09 - 243s/epoch - 2s/step\n",
      "\n",
      "Epoch 00010: LearningRateScheduler setting learning rate to 4.3556144833564777e-10.\n",
      "Epoch 10/15\n",
      "131/131 - 251s - loss: 0.2923 - accuracy: 0.9214 - precision: 0.8850 - recall: 0.9164 - val_loss: 0.2335 - val_accuracy: 0.9463 - val_precision: 0.9483 - val_recall: 0.9492 - lr: 4.3556e-10 - 251s/epoch - 2s/step\n",
      "\n",
      "Epoch 00011: LearningRateScheduler setting learning rate to 4.676805436611178e-11.\n",
      "Epoch 11/15\n",
      "131/131 - 242s - loss: 0.2868 - accuracy: 0.9209 - precision: 0.8848 - recall: 0.9224 - val_loss: 0.2335 - val_accuracy: 0.9463 - val_precision: 0.9483 - val_recall: 0.9492 - lr: 4.6768e-11 - 242s/epoch - 2s/step\n",
      "\n",
      "Epoch 00012: LearningRateScheduler setting learning rate to 4.01734530925751e-12.\n",
      "Epoch 12/15\n",
      "131/131 - 246s - loss: 0.2926 - accuracy: 0.9142 - precision: 0.8821 - recall: 0.9147 - val_loss: 0.2335 - val_accuracy: 0.9463 - val_precision: 0.9483 - val_recall: 0.9492 - lr: 4.0173e-12 - 246s/epoch - 2s/step\n",
      "\n",
      "Epoch 00013: LearningRateScheduler setting learning rate to 2.7606987953186053e-13.\n",
      "Epoch 13/15\n",
      "131/131 - 255s - loss: 0.2914 - accuracy: 0.9147 - precision: 0.8861 - recall: 0.9154 - val_loss: 0.2335 - val_accuracy: 0.9463 - val_precision: 0.9483 - val_recall: 0.9492 - lr: 2.7607e-13 - 255s/epoch - 2s/step\n",
      "\n",
      "Epoch 00014: LearningRateScheduler setting learning rate to 1.5177102386951457e-14.\n",
      "Epoch 14/15\n",
      "131/131 - 246s - loss: 0.2859 - accuracy: 0.9243 - precision: 0.8899 - recall: 0.9255 - val_loss: 0.2335 - val_accuracy: 0.9463 - val_precision: 0.9483 - val_recall: 0.9492 - lr: 1.5177e-14 - 246s/epoch - 2s/step\n",
      "\n",
      "Epoch 00015: LearningRateScheduler setting learning rate to 6.674960255622869e-16.\n",
      "Epoch 15/15\n",
      "131/131 - 244s - loss: 0.2842 - accuracy: 0.9231 - precision: 0.8857 - recall: 0.9209 - val_loss: 0.2335 - val_accuracy: 0.9463 - val_precision: 0.9483 - val_recall: 0.9492 - lr: 6.6750e-16 - 244s/epoch - 2s/step\n"
     ]
    }
   ],
   "source": [
    "history3=model3.fit(training_datagen1,validation_data=validation_datagen1,epochs=epochs, callbacks=call_Back, verbose=2)"
   ]
  },
  {
   "cell_type": "code",
   "execution_count": 48,
   "id": "fa000491",
   "metadata": {},
   "outputs": [
    {
     "name": "stdout",
     "output_type": "stream",
     "text": [
      "dict_keys(['loss', 'accuracy', 'precision', 'recall', 'val_loss', 'val_accuracy', 'val_precision', 'val_recall', 'lr'])\n"
     ]
    },
    {
     "data": {
      "image/png": "[encoded data removed]",
      "text/plain": [
       "<Figure size 432x288 with 1 Axes>"
      ]
     },
     "metadata": {
      "needs_background": "light"
     },
     "output_type": "display_data"
    },
    {
     "data": {
      "image/png": "[encoded data removed]",
      "text/plain": [
       "<Figure size 432x288 with 1 Axes>"
      ]
     },
     "metadata": {
      "needs_background": "light"
     },
     "output_type": "display_data"
    }
   ],
   "source": [
    "print(history3.history.keys())\n",
    "plt.plot(history3.history['accuracy'],'r')\n",
    "plt.plot(history3.history['val_accuracy'],'b')\n",
    "plt.title('model accuracy')\n",
    "plt.ylabel('accuracy')\n",
    "\n",
    "plt.xlabel('epoch')\n",
    "plt.legend(['train', 'Val'], loc='upper left')\n",
    "\n",
    "plt.show()\n",
    "plt.plot(history3.history['loss'],'r')\n",
    "plt.plot(history3.history['val_loss'],'b')\n",
    "plt.title('model loss')\n",
    "plt.ylabel('loss')\n",
    "plt.xlabel('epoch')\n",
    "plt.legend(['train', 'Val'], loc='upper left')\n",
    "\n",
    "plt.show()"
   ]
  },
  {
   "cell_type": "code",
   "execution_count": 49,
   "id": "37f67c5c",
   "metadata": {},
   "outputs": [
    {
     "name": "stdout",
     "output_type": "stream",
     "text": [
      "(624,)\n",
      "(624,)\n"
     ]
    },
    {
     "data": {
      "image/png": "[encoded data removed]",
      "text/plain": [
       "<Figure size 864x576 with 2 Axes>"
      ]
     },
     "metadata": {
      "needs_background": "light"
     },
     "output_type": "display_data"
    }
   ],
   "source": [
    "# Get predictions and Original labels\n",
    "import numpy as np \n",
    "predictions = np.array([])\n",
    "test_labels =  np.array([])\n",
    "for x, y in test_datagen1:\n",
    "    predictions = np.concatenate([predictions, np.argmax(model3.predict(x), axis = -1)])\n",
    "    test_labels = np.concatenate([test_labels, np.argmax(y.numpy(), axis=-1)])\n",
    "\n",
    "print(test_labels.shape)\n",
    "print(predictions.shape)\n",
    "\n",
    "\n",
    "# Get the confusion matrix\n",
    "cm  = confusion_matrix(test_labels, predictions)\n",
    "f,ax = plt.subplots(figsize=(12, 8))\n",
    "sns.heatmap(cm, annot=True, linewidths=0.01, cmap=plt.cm.Reds, linecolor=\"gray\", fmt='.1f', ax=ax)\n",
    "plt.xticks(np.arange(0, 2, step=0.5), ['', 'Normal(0)', '', 'Pneumonia(1)'], fontsize=16)\n",
    "plt.yticks(np.arange(0, 2, step=0.5), ['', 'Normal(0)', '', 'Pneumonia(1)'], fontsize=16)\n",
    "plt.xlabel(\"Predicted Label\")\n",
    "plt.ylabel(\"True Label\")\n",
    "plt.title(\"Confusion Matrix\")\n",
    "plt.show()\n",
    "\n"
   ]
  },
  {
   "cell_type": "code",
   "execution_count": 50,
   "id": "8fb71ae9",
   "metadata": {},
   "outputs": [
    {
     "name": "stdout",
     "output_type": "stream",
     "text": [
      " The recall of model is: 0.9871794871794872\n",
      "The precision of the model is: 0.7156133828996283\n"
     ]
    }
   ],
   "source": [
    "recall = sklearn.metrics.recall_score(test_labels, predictions, pos_label=1)\n",
    "print(\" The recall of model is:\" ,recall)\n",
    "#Recall = TruePositives / (TruePositives + FalseNegatives)\n",
    "\n",
    "precision = sklearn.metrics.precision_score(test_labels, predictions, pos_label=1)\n",
    "print(\"The precision of the model is:\" ,precision)\n",
    "#precision = TruePositives/(TruePositives+FalsePositives)"
   ]
  },
  {
   "cell_type": "markdown",
   "id": "009c3d9f",
   "metadata": {},
   "source": [
    "## model  4 "
   ]
  },
  {
   "cell_type": "code",
   "execution_count": 51,
   "id": "002f48ba",
   "metadata": {},
   "outputs": [],
   "source": [
    "model_4 = ResNet50(weights= 'imagenet', include_top=False, input_shape= (180,180,3))\n",
    "\n",
    "for layers in model_4.layers:\n",
    "    layers.trainable = False"
   ]
  },
  {
   "cell_type": "code",
   "execution_count": 52,
   "id": "4fb9d740",
   "metadata": {},
   "outputs": [
    {
     "name": "stderr",
     "output_type": "stream",
     "text": [
      "C:\\Users\\benez\\anaconda3\\lib\\site-packages\\keras\\optimizer_v2\\adam.py:105: UserWarning: The `lr` argument is deprecated, use `learning_rate` instead.\n",
      "  super(Adam, self).__init__(name, **kwargs)\n"
     ]
    }
   ],
   "source": [
    "last_layer=model_4.get_layer('conv5_block3_1_relu')\n",
    "last_output = last_layer.output\n",
    "\n",
    "x=tf.keras.layers.Flatten()(last_output)\n",
    "x=tXXf.keras.layers.Dense(32,activation='relu')(x)\n",
    "x=tf.keras.layers.Dropout(0.2)(x)\n",
    "x=tf.keras.layers.Dense(8,activation='relu')(x)\n",
    "x=tf.keras.layers.Dropout(0.2)(x)\n",
    "x=tf.keras.layers.Dense(2,activation='sigmoid')(x)\n",
    "\n",
    "model4=tf.keras.Model(model_4.input,x)\n",
    "\n",
    "model4.compile(optimizer=Adam(lr=0.00001),\n",
    "              loss='binary_crossentropy',\n",
    "               metrics=['accuracy','Precision','Recall'])"
   ]
  },
  {
   "cell_type": "code",
   "execution_count": 53,
   "id": "3d2f4099",
   "metadata": {},
   "outputs": [
    {
     "name": "stdout",
     "output_type": "stream",
     "text": [
      "\n",
      "Epoch 00001: LearningRateScheduler setting learning rate to 9.999999747378752e-06.\n",
      "Epoch 1/15\n",
      "131/131 - 252s - loss: 0.2284 - accuracy: 0.7776 - precision: 0.7434 - recall: 0.7735 - val_loss: 0.4342 - val_accuracy: 0.9022 - val_precision: 0.8947 - val_recall: 0.8802 - lr: 1.0000e-05 - 252s/epoch - 2s/step\n",
      "\n",
      "Epoch 00002: LearningRateScheduler setting learning rate to 7.999999797903002e-06.\n",
      "Epoch 2/15\n",
      "131/131 - 253s - loss: 0.1849 - accuracy: 0.8838 - precision: 0.8827 - recall: 0.8749 - val_loss: 0.3320 - val_accuracy: 0.9492 - val_precision: 0.9529 - val_recall: 0.9310 - lr: 8.0000e-06 - 253s/epoch - 2s/step\n",
      "\n",
      "Epoch 00003: LearningRateScheduler setting learning rate to 5.119999987073244e-06.\n",
      "Epoch 3/15\n",
      "131/131 - 242s - loss: 0.1701 - accuracy: 0.9075 - precision: 0.9119 - recall: 0.8900 - val_loss: 0.3030 - val_accuracy: 0.9501 - val_precision: 0.9561 - val_recall: 0.9386 - lr: 5.1200e-06 - 242s/epoch - 2s/step\n",
      "\n",
      "Epoch 00004: LearningRateScheduler setting learning rate to 2.6214399840682753e-06.\n",
      "Epoch 4/15\n",
      "131/131 - 252s - loss: 0.1630 - accuracy: 0.9133 - precision: 0.9148 - recall: 0.9056 - val_loss: 0.2904 - val_accuracy: 0.9492 - val_precision: 0.9572 - val_recall: 0.9425 - lr: 2.6214e-06 - 252s/epoch - 2s/step\n",
      "\n",
      "Epoch 00005: LearningRateScheduler setting learning rate to 1.0737418197095396e-06.\n",
      "Epoch 5/15\n",
      "131/131 - 242s - loss: 0.1619 - accuracy: 0.9173 - precision: 0.9213 - recall: 0.9027 - val_loss: 0.2865 - val_accuracy: 0.9482 - val_precision: 0.9581 - val_recall: 0.9425 - lr: 1.0737e-06 - 242s/epoch - 2s/step\n",
      "\n",
      "Epoch 00006: LearningRateScheduler setting learning rate to 3.5184372216463097e-07.\n",
      "Epoch 6/15\n",
      "131/131 - 242s - loss: 0.1603 - accuracy: 0.9156 - precision: 0.9238 - recall: 0.9041 - val_loss: 0.2855 - val_accuracy: 0.9492 - val_precision: 0.9581 - val_recall: 0.9425 - lr: 3.5184e-07 - 242s/epoch - 2s/step\n",
      "\n",
      "Epoch 00007: LearningRateScheduler setting learning rate to 9.223371744155887e-08.\n",
      "Epoch 7/15\n",
      "131/131 - 244s - loss: 0.1591 - accuracy: 0.9224 - precision: 0.9245 - recall: 0.9070 - val_loss: 0.2851 - val_accuracy: 0.9492 - val_precision: 0.9581 - val_recall: 0.9425 - lr: 9.2234e-08 - 244s/epoch - 2s/step\n",
      "\n",
      "Epoch 00008: LearningRateScheduler setting learning rate to 1.934281289577485e-08.\n",
      "Epoch 8/15\n",
      "131/131 - 242s - loss: 0.1592 - accuracy: 0.9159 - precision: 0.9232 - recall: 0.9039 - val_loss: 0.2851 - val_accuracy: 0.9492 - val_precision: 0.9581 - val_recall: 0.9425 - lr: 1.9343e-08 - 242s/epoch - 2s/step\n",
      "\n",
      "Epoch 00009: LearningRateScheduler setting learning rate to 3.245185613632204e-09.\n",
      "Epoch 9/15\n",
      "131/131 - 250s - loss: 0.1596 - accuracy: 0.9185 - precision: 0.9223 - recall: 0.9046 - val_loss: 0.2851 - val_accuracy: 0.9492 - val_precision: 0.9581 - val_recall: 0.9425 - lr: 3.2452e-09 - 250s/epoch - 2s/step\n",
      "\n",
      "Epoch 00010: LearningRateScheduler setting learning rate to 4.3556144833564777e-10.\n",
      "Epoch 10/15\n",
      "131/131 - 241s - loss: 0.1597 - accuracy: 0.9176 - precision: 0.9215 - recall: 0.9032 - val_loss: 0.2851 - val_accuracy: 0.9492 - val_precision: 0.9581 - val_recall: 0.9425 - lr: 4.3556e-10 - 241s/epoch - 2s/step\n",
      "\n",
      "Epoch 00011: LearningRateScheduler setting learning rate to 4.676805436611178e-11.\n",
      "Epoch 11/15\n",
      "131/131 - 248s - loss: 0.1602 - accuracy: 0.9188 - precision: 0.9193 - recall: 0.9041 - val_loss: 0.2851 - val_accuracy: 0.9492 - val_precision: 0.9581 - val_recall: 0.9425 - lr: 4.6768e-11 - 248s/epoch - 2s/step\n",
      "\n",
      "Epoch 00012: LearningRateScheduler setting learning rate to 4.01734530925751e-12.\n",
      "Epoch 12/15\n",
      "131/131 - 247s - loss: 0.1592 - accuracy: 0.9176 - precision: 0.9243 - recall: 0.9044 - val_loss: 0.2851 - val_accuracy: 0.9492 - val_precision: 0.9581 - val_recall: 0.9425 - lr: 4.0173e-12 - 247s/epoch - 2s/step\n",
      "\n",
      "Epoch 00013: LearningRateScheduler setting learning rate to 2.7606987953186053e-13.\n",
      "Epoch 13/15\n",
      "131/131 - 249s - loss: 0.1595 - accuracy: 0.9190 - precision: 0.9259 - recall: 0.9070 - val_loss: 0.2851 - val_accuracy: 0.9492 - val_precision: 0.9581 - val_recall: 0.9425 - lr: 2.7607e-13 - 249s/epoch - 2s/step\n",
      "\n",
      "Epoch 00014: LearningRateScheduler setting learning rate to 1.5177102386951457e-14.\n",
      "Epoch 14/15\n",
      "131/131 - 244s - loss: 0.1598 - accuracy: 0.9212 - precision: 0.9235 - recall: 0.9058 - val_loss: 0.2851 - val_accuracy: 0.9492 - val_precision: 0.9581 - val_recall: 0.9425 - lr: 1.5177e-14 - 244s/epoch - 2s/step\n",
      "\n",
      "Epoch 00015: LearningRateScheduler setting learning rate to 6.674960255622869e-16.\n",
      "Epoch 15/15\n",
      "131/131 - 243s - loss: 0.1587 - accuracy: 0.9212 - precision: 0.9253 - recall: 0.9027 - val_loss: 0.2851 - val_accuracy: 0.9492 - val_precision: 0.9581 - val_recall: 0.9425 - lr: 6.6750e-16 - 243s/epoch - 2s/step\n"
     ]
    }
   ],
   "source": [
    "class_weight = {0: 0.80,\n",
    "                1: 0.20}\n",
    "\n",
    "history4=model4.fit(training_datagen1,validation_data=validation_datagen1,epochs=epochs, callbacks=call_Back, verbose=2,class_weight=class_weight)"
   ]
  },
  {
   "cell_type": "code",
   "execution_count": 54,
   "id": "cdffaef3",
   "metadata": {},
   "outputs": [
    {
     "name": "stdout",
     "output_type": "stream",
     "text": [
      "dict_keys(['loss', 'accuracy', 'precision', 'recall', 'val_loss', 'val_accuracy', 'val_precision', 'val_recall', 'lr'])\n"
     ]
    },
    {
     "data": {
      "image/png": "[encoded data removed]",
      "text/plain": [
       "<Figure size 432x288 with 1 Axes>"
      ]
     },
     "metadata": {
      "needs_background": "light"
     },
     "output_type": "display_data"
    },
    {
     "data": {
      "image/png": "[encoded data removed]",
      "text/plain": [
       "<Figure size 432x288 with 1 Axes>"
      ]
     },
     "metadata": {
      "needs_background": "light"
     },
     "output_type": "display_data"
    }
   ],
   "source": [
    "print(history4.history.keys())\n",
    "plt.plot(history4.history['accuracy'],'r')\n",
    "plt.plot(history4.history['val_accuracy'],'b')\n",
    "plt.title('model accuracy')\n",
    "plt.ylabel('accuracy')\n",
    "\n",
    "plt.xlabel('epoch')\n",
    "plt.legend(['train', 'Val'], loc='upper left')\n",
    "\n",
    "plt.show()\n",
    "# summarize history for loss\n",
    "plt.plot(history4.history['loss'],'r')\n",
    "plt.plot(history4.history['val_loss'],'b')\n",
    "plt.title('model loss')\n",
    "plt.ylabel('loss')\n",
    "plt.xlabel('epoch')\n",
    "plt.legend(['train', 'Val'], loc='upper left')\n",
    "\n",
    "plt.show()"
   ]
  },
  {
   "cell_type": "code",
   "execution_count": 55,
   "id": "fba27897",
   "metadata": {},
   "outputs": [
    {
     "name": "stdout",
     "output_type": "stream",
     "text": [
      "(624,)\n",
      "(624,)\n"
     ]
    },
    {
     "data": {
      "image/png": "[encoded data removed]",
      "text/plain": [
       "<Figure size 864x576 with 2 Axes>"
      ]
     },
     "metadata": {
      "needs_background": "light"
     },
     "output_type": "display_data"
    }
   ],
   "source": [
    "# Get predictions and Original labels\n",
    "import numpy as np \n",
    "predictions = np.array([])\n",
    "test_labels =  np.array([])\n",
    "for x, y in test_datagen1:\n",
    "    predictions = np.concatenate([predictions, np.argmax(model4.predict(x), axis = -1)])\n",
    "    test_labels = np.concatenate([test_labels, np.argmax(y.numpy(), axis=-1)])\n",
    "\n",
    "print(test_labels.shape)\n",
    "print(predictions.shape)\n",
    "\n",
    "\n",
    "# Get the confusion matrix\n",
    "cm  = confusion_matrix(test_labels, predictions)\n",
    "f,ax = plt.subplots(figsize=(12, 8))\n",
    "sns.heatmap(cm, annot=True, linewidths=0.01, cmap=plt.cm.Reds, linecolor=\"gray\", fmt='.1f', ax=ax)\n",
    "plt.xticks(np.arange(0, 2, step=0.5), ['', 'Normal(0)', '', 'Pneumonia(1)'], fontsize=16)\n",
    "plt.yticks(np.arange(0, 2, step=0.5), ['', 'Normal(0)', '', 'Pneumonia(1)'], fontsize=16)\n",
    "plt.xlabel(\"Predicted Label\")\n",
    "plt.ylabel(\"True Label\")\n",
    "plt.title(\"Confusion Matrix\")\n",
    "plt.show()\n",
    "\n"
   ]
  },
  {
   "cell_type": "code",
   "execution_count": 56,
   "id": "08ebb060",
   "metadata": {},
   "outputs": [
    {
     "name": "stdout",
     "output_type": "stream",
     "text": [
      " The recall of model is: 0.9769230769230769\n",
      "The precision of the model is: 0.75\n"
     ]
    }
   ],
   "source": [
    "recall = sklearn.metrics.recall_score(test_labels, predictions, pos_label=1)\n",
    "print(\" The recall of model is:\" ,recall)\n",
    "#Recall = TruePositives / (TruePositives + FalseNegatives)\n",
    "\n",
    "precision = sklearn.metrics.precision_score(test_labels, predictions, pos_label=1)\n",
    "print(\"The precision of the model is:\" ,precision)\n",
    "#precision = TruePositives/(TruePositives+FalsePositives)"
   ]
  },
  {
   "cell_type": "markdown",
   "id": "42cfacf4",
   "metadata": {},
   "source": [
    "## Model 5"
   ]
  },
  {
   "cell_type": "code",
   "execution_count": 57,
   "id": "10319687",
   "metadata": {},
   "outputs": [],
   "source": [
    "model_5 = ResNet50(weights= 'imagenet', include_top=False, input_shape= (180,180,3))\n",
    "\n",
    "for layers in model_5.layers:\n",
    "    layers.trainable = False"
   ]
  },
  {
   "cell_type": "code",
   "execution_count": 58,
   "id": "4585bb12",
   "metadata": {},
   "outputs": [
    {
     "name": "stderr",
     "output_type": "stream",
     "text": [
      "C:\\Users\\benez\\anaconda3\\lib\\site-packages\\keras\\optimizer_v2\\adam.py:105: UserWarning: The `lr` argument is deprecated, use `learning_rate` instead.\n",
      "  super(Adam, self).__init__(name, **kwargs)\n"
     ]
    }
   ],
   "source": [
    "last_layer=model_5.get_layer('conv5_block3_1_relu')\n",
    "last_output = last_layer.output\n",
    "\n",
    "x=tf.keras.layers.Flatten()(last_output)\n",
    "x=tf.keras.layers.Dense(32,activation='relu')(x)\n",
    "x=tf.keras.layers.Dropout(0.2)(x)\n",
    "x=tf.keras.layers.Dense(8,activation='relu')(x)\n",
    "x=tf.keras.layers.Dropout(0.2)(x)\n",
    "x=tf.keras.layers.Dense(2,activation='sigmoid')(x)\n",
    "\n",
    "model5=tf.keras.Model(model_5.input,x)\n",
    "\n",
    "model5.compile(optimizer=Adam(lr=0.00001),\n",
    "              loss='binary_crossentropy',\n",
    "               metrics=['accuracy','Precision','Recall'])"
   ]
  },
  {
   "cell_type": "code",
   "execution_count": 59,
   "id": "22a2908a",
   "metadata": {},
   "outputs": [
    {
     "name": "stdout",
     "output_type": "stream",
     "text": [
      "\n",
      "Epoch 00001: LearningRateScheduler setting learning rate to 9.999999747378752e-06.\n",
      "Epoch 1/15\n",
      "131/131 - 263s - loss: 0.3591 - accuracy: 0.7223 - precision: 0.6134 - recall: 0.7649 - val_loss: 0.5585 - val_accuracy: 0.7354 - val_precision: 0.7354 - val_recall: 0.7354 - lr: 1.0000e-05 - 263s/epoch - 2s/step\n",
      "\n",
      "Epoch 00002: LearningRateScheduler setting learning rate to 7.999999797903002e-06.\n",
      "Epoch 2/15\n",
      "131/131 - 247s - loss: 0.2676 - accuracy: 0.7431 - precision: 0.6613 - recall: 0.7625 - val_loss: 0.5159 - val_accuracy: 0.7354 - val_precision: 0.7354 - val_recall: 0.7354 - lr: 8.0000e-06 - 247s/epoch - 2s/step\n",
      "\n",
      "Epoch 00003: LearningRateScheduler setting learning rate to 5.119999987073244e-06.\n",
      "Epoch 3/15\n",
      "131/131 - 253s - loss: 0.2463 - accuracy: 0.7405 - precision: 0.6656 - recall: 0.7604 - val_loss: 0.4899 - val_accuracy: 0.7354 - val_precision: 0.7354 - val_recall: 0.7354 - lr: 5.1200e-06 - 253s/epoch - 2s/step\n",
      "\n",
      "Epoch 00004: LearningRateScheduler setting learning rate to 2.6214399840682753e-06.\n",
      "Epoch 4/15\n",
      "131/131 - 250s - loss: 0.2364 - accuracy: 0.7434 - precision: 0.6744 - recall: 0.7623 - val_loss: 0.4770 - val_accuracy: 0.7354 - val_precision: 0.7354 - val_recall: 0.7354 - lr: 2.6214e-06 - 250s/epoch - 2s/step\n",
      "\n",
      "Epoch 00005: LearningRateScheduler setting learning rate to 1.0737418197095396e-06.\n",
      "Epoch 5/15\n",
      "131/131 - 246s - loss: 0.2349 - accuracy: 0.7443 - precision: 0.6698 - recall: 0.7690 - val_loss: 0.4720 - val_accuracy: 0.7354 - val_precision: 0.7354 - val_recall: 0.7354 - lr: 1.0737e-06 - 246s/epoch - 2s/step\n",
      "\n",
      "Epoch 00006: LearningRateScheduler setting learning rate to 3.5184372216463097e-07.\n",
      "Epoch 6/15\n",
      "131/131 - 249s - loss: 0.2359 - accuracy: 0.7450 - precision: 0.6714 - recall: 0.7584 - val_loss: 0.4705 - val_accuracy: 0.7354 - val_precision: 0.7354 - val_recall: 0.7354 - lr: 3.5184e-07 - 249s/epoch - 2s/step\n",
      "\n",
      "Epoch 00007: LearningRateScheduler setting learning rate to 9.223371744155887e-08.\n",
      "Epoch 7/15\n",
      "131/131 - 247s - loss: 0.2325 - accuracy: 0.7429 - precision: 0.6727 - recall: 0.7618 - val_loss: 0.4701 - val_accuracy: 0.7354 - val_precision: 0.7354 - val_recall: 0.7354 - lr: 9.2234e-08 - 247s/epoch - 2s/step\n",
      "\n",
      "Epoch 00008: LearningRateScheduler setting learning rate to 1.934281289577485e-08.\n",
      "Epoch 8/15\n",
      "131/131 - 252s - loss: 0.2269 - accuracy: 0.7429 - precision: 0.6811 - recall: 0.7592 - val_loss: 0.4700 - val_accuracy: 0.7354 - val_precision: 0.7354 - val_recall: 0.7354 - lr: 1.9343e-08 - 252s/epoch - 2s/step\n",
      "\n",
      "Epoch 00009: LearningRateScheduler setting learning rate to 3.245185613632204e-09.\n",
      "Epoch 9/15\n",
      "131/131 - 255s - loss: 0.2292 - accuracy: 0.7438 - precision: 0.6799 - recall: 0.7716 - val_loss: 0.4700 - val_accuracy: 0.7354 - val_precision: 0.7354 - val_recall: 0.7354 - lr: 3.2452e-09 - 255s/epoch - 2s/step\n",
      "\n",
      "Epoch 00010: LearningRateScheduler setting learning rate to 4.3556144833564777e-10.\n",
      "Epoch 10/15\n",
      "131/131 - 247s - loss: 0.2357 - accuracy: 0.7436 - precision: 0.6694 - recall: 0.7702 - val_loss: 0.4700 - val_accuracy: 0.7354 - val_precision: 0.7354 - val_recall: 0.7354 - lr: 4.3556e-10 - 247s/epoch - 2s/step\n",
      "\n",
      "Epoch 00011: LearningRateScheduler setting learning rate to 4.676805436611178e-11.\n",
      "Epoch 11/15\n",
      "131/131 - 250s - loss: 0.2334 - accuracy: 0.7436 - precision: 0.6744 - recall: 0.7635 - val_loss: 0.4700 - val_accuracy: 0.7354 - val_precision: 0.7354 - val_recall: 0.7354 - lr: 4.6768e-11 - 250s/epoch - 2s/step\n",
      "\n",
      "Epoch 00012: LearningRateScheduler setting learning rate to 4.01734530925751e-12.\n",
      "Epoch 12/15\n",
      "131/131 - 247s - loss: 0.2347 - accuracy: 0.7431 - precision: 0.6721 - recall: 0.7644 - val_loss: 0.4700 - val_accuracy: 0.7354 - val_precision: 0.7354 - val_recall: 0.7354 - lr: 4.0173e-12 - 247s/epoch - 2s/step\n",
      "\n",
      "Epoch 00013: LearningRateScheduler setting learning rate to 2.7606987953186053e-13.\n",
      "Epoch 13/15\n",
      "131/131 - 255s - loss: 0.2325 - accuracy: 0.7443 - precision: 0.6751 - recall: 0.7575 - val_loss: 0.4700 - val_accuracy: 0.7354 - val_precision: 0.7354 - val_recall: 0.7354 - lr: 2.7607e-13 - 255s/epoch - 2s/step\n",
      "\n",
      "Epoch 00014: LearningRateScheduler setting learning rate to 1.5177102386951457e-14.\n",
      "Epoch 14/15\n",
      "131/131 - 252s - loss: 0.2344 - accuracy: 0.7417 - precision: 0.6713 - recall: 0.7563 - val_loss: 0.4700 - val_accuracy: 0.7354 - val_precision: 0.7354 - val_recall: 0.7354 - lr: 1.5177e-14 - 252s/epoch - 2s/step\n",
      "\n",
      "Epoch 00015: LearningRateScheduler setting learning rate to 6.674960255622869e-16.\n",
      "Epoch 15/15\n",
      "131/131 - 247s - loss: 0.2324 - accuracy: 0.7429 - precision: 0.6757 - recall: 0.7620 - val_loss: 0.4700 - val_accuracy: 0.7354 - val_precision: 0.7354 - val_recall: 0.7354 - lr: 6.6750e-16 - 247s/epoch - 2s/step\n"
     ]
    }
   ],
   "source": [
    "class_weight = {0: 0.20,\n",
    "                1: 0.80}\n",
    "\n",
    "history5=model5.fit(training_datagen1,validation_data=validation_datagen1,epochs=epochs, callbacks=call_Back, verbose=2,class_weight=class_weight)"
   ]
  },
  {
   "cell_type": "code",
   "execution_count": 60,
   "id": "b0243db4",
   "metadata": {},
   "outputs": [
    {
     "name": "stdout",
     "output_type": "stream",
     "text": [
      "dict_keys(['loss', 'accuracy', 'precision', 'recall', 'val_loss', 'val_accuracy', 'val_precision', 'val_recall', 'lr'])\n"
     ]
    },
    {
     "data": {
      "image/png": "[encoded data removed]",
      "text/plain": [
       "<Figure size 432x288 with 1 Axes>"
      ]
     },
     "metadata": {
      "needs_background": "light"
     },
     "output_type": "display_data"
    },
    {
     "data": {
      "image/png": "[encoded data removed]",
      "text/plain": [
       "<Figure size 432x288 with 1 Axes>"
      ]
     },
     "metadata": {
      "needs_background": "light"
     },
     "output_type": "display_data"
    }
   ],
   "source": [
    "print(history5.history.keys())\n",
    "plt.plot(history5.history['accuracy'],'r')\n",
    "plt.plot(history5.history['val_accuracy'],'b')\n",
    "plt.title('model accuracy')\n",
    "plt.ylabel('accuracy')\n",
    "\n",
    "plt.xlabel('epoch')\n",
    "plt.legend(['train', 'Val'], loc='upper left')\n",
    "\n",
    "plt.show()\n",
    "# summarize history for loss\n",
    "plt.plot(history5.history['loss'],'r')\n",
    "plt.plot(history5.history['val_loss'],'b')\n",
    "plt.title('model loss')\n",
    "plt.ylabel('loss')\n",
    "plt.xlabel('epoch')\n",
    "plt.legend(['train', 'Val'], loc='upper left')\n",
    "\n",
    "plt.show()"
   ]
  },
  {
   "cell_type": "code",
   "execution_count": 61,
   "id": "1f88848e",
   "metadata": {},
   "outputs": [
    {
     "name": "stdout",
     "output_type": "stream",
     "text": [
      "(624,)\n",
      "(624,)\n"
     ]
    },
    {
     "data": {
      "image/png": "[encoded data removed]",
      "text/plain": [
       "<Figure size 864x576 with 2 Axes>"
      ]
     },
     "metadata": {
      "needs_background": "light"
     },
     "output_type": "display_data"
    }
   ],
   "source": [
    "# Get predictions and Original labels\n",
    "import numpy as np \n",
    "predictions = np.array([])\n",
    "test_labels =  np.array([])\n",
    "for x, y in test_datagen1:\n",
    "    predictions = np.concatenate([predictions, np.argmax(model5.predict(x), axis = -1)])\n",
    "    test_labels = np.concatenate([test_labels, np.argmax(y.numpy(), axis=-1)])\n",
    "\n",
    "print(test_labels.shape)\n",
    "print(predictions.shape)\n",
    "\n",
    "\n",
    "# Get the confusion matrix\n",
    "cm  = confusion_matrix(test_labels, predictions)\n",
    "f,ax = plt.subplots(figsize=(12, 8))\n",
    "sns.heatmap(cm, annot=True, linewidths=0.01, cmap=plt.cm.Reds, linecolor=\"gray\", fmt='.1f', ax=ax)\n",
    "plt.xticks(np.arange(0, 2, step=0.5), ['', 'Normal(0)', '', 'Pneumonia(1)'], fontsize=16)\n",
    "plt.yticks(np.arange(0, 2, step=0.5), ['', 'Normal(0)', '', 'Pneumonia(1)'], fontsize=16)\n",
    "plt.xlabel(\"Predicted Label\")\n",
    "plt.ylabel(\"True Label\")\n",
    "plt.title(\"Confusion Matrix\")\n",
    "plt.show()\n",
    "\n"
   ]
  },
  {
   "cell_type": "code",
   "execution_count": 62,
   "id": "019182ac",
   "metadata": {},
   "outputs": [
    {
     "name": "stdout",
     "output_type": "stream",
     "text": [
      " The recall of model is: 1.0\n",
      "The precision of the model is: 0.625\n"
     ]
    }
   ],
   "source": [
    "recall = sklearn.metrics.recall_score(test_labels, predictions, pos_label=1)\n",
    "print(\" The recall of model is:\" ,recall)\n",
    "#Recall = TruePositives / (TruePositives + FalseNegatives)\n",
    "\n",
    "precision = sklearn.metrics.precision_score(test_labels, predictions, pos_label=1)\n",
    "print(\"The precision of the model is:\" ,precision)\n",
    "#precision = TruePositives/(TruePositives+FalsePositives)"
   ]
  }
 ],
 "metadata": {
  "celltoolbar": "Raw Cell Format",
  "kernelspec": {
   "display_name": "Python 3",
   "language": "python",
   "name": "python3"
  },
  "language_info": {
   "codemirror_mode": {
    "name": "ipython",
    "version": 3
   },
   "file_extension": ".py",
   "mimetype": "text/x-python",
   "name": "python",
   "nbconvert_exporter": "python",
   "pygments_lexer": "ipython3",
   "version": "3.8.8"
  }
 },
 "nbformat": 4,
 "nbformat_minor": 5
}
