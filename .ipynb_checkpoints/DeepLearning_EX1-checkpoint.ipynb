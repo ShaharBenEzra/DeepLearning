{
 "cells": [
  {
   "cell_type": "code",
   "execution_count": 33,
   "id": "45101032",
   "metadata": {},
   "outputs": [
    {
     "name": "stdout",
     "output_type": "stream",
     "text": [
      "Requirement already satisfied: tensorflow in c:\\users\\benez\\anaconda3\\lib\\site-packages (2.7.0)\n",
      "Requirement already satisfied: h5py>=2.9.0 in c:\\users\\benez\\anaconda3\\lib\\site-packages (from tensorflow) (2.10.0)\n",
      "Requirement already satisfied: six>=1.12.0 in c:\\users\\benez\\anaconda3\\lib\\site-packages (from tensorflow) (1.15.0)\n",
      "Requirement already satisfied: protobuf>=3.9.2 in c:\\users\\benez\\anaconda3\\lib\\site-packages (from tensorflow) (3.19.1)\n",
      "Requirement already satisfied: libclang>=9.0.1 in c:\\users\\benez\\anaconda3\\lib\\site-packages (from tensorflow) (12.0.0)\n",
      "Requirement already satisfied: google-pasta>=0.1.1 in c:\\users\\benez\\anaconda3\\lib\\site-packages (from tensorflow) (0.2.0)\n",
      "Requirement already satisfied: wrapt>=1.11.0 in c:\\users\\benez\\anaconda3\\lib\\site-packages (from tensorflow) (1.12.1)\n",
      "Requirement already satisfied: absl-py>=0.4.0 in c:\\users\\benez\\anaconda3\\lib\\site-packages (from tensorflow) (1.0.0)\n",
      "Requirement already satisfied: keras<2.8,>=2.7.0rc0 in c:\\users\\benez\\anaconda3\\lib\\site-packages (from tensorflow) (2.7.0)\n",
      "Requirement already satisfied: gast<0.5.0,>=0.2.1 in c:\\users\\benez\\anaconda3\\lib\\site-packages (from tensorflow) (0.4.0)\n",
      "Requirement already satisfied: flatbuffers<3.0,>=1.12 in c:\\users\\benez\\anaconda3\\lib\\site-packages (from tensorflow) (2.0)\n",
      "Requirement already satisfied: grpcio<2.0,>=1.24.3 in c:\\users\\benez\\anaconda3\\lib\\site-packages (from tensorflow) (1.42.0)\n",
      "Requirement already satisfied: astunparse>=1.6.0 in c:\\users\\benez\\anaconda3\\lib\\site-packages (from tensorflow) (1.6.3)\n",
      "Requirement already satisfied: keras-preprocessing>=1.1.1 in c:\\users\\benez\\anaconda3\\lib\\site-packages (from tensorflow) (1.1.2)\n",
      "Requirement already satisfied: wheel<1.0,>=0.32.0 in c:\\users\\benez\\anaconda3\\lib\\site-packages (from tensorflow) (0.36.2)\n",
      "Requirement already satisfied: termcolor>=1.1.0 in c:\\users\\benez\\anaconda3\\lib\\site-packages (from tensorflow) (1.1.0)\n",
      "Requirement already satisfied: typing-extensions>=3.6.6 in c:\\users\\benez\\anaconda3\\lib\\site-packages (from tensorflow) (3.7.4.3)\n",
      "Requirement already satisfied: opt-einsum>=2.3.2 in c:\\users\\benez\\anaconda3\\lib\\site-packages (from tensorflow) (3.3.0)\n",
      "Requirement already satisfied: numpy>=1.14.5 in c:\\users\\benez\\anaconda3\\lib\\site-packages (from tensorflow) (1.20.1)\n",
      "Requirement already satisfied: tensorflow-io-gcs-filesystem>=0.21.0 in c:\\users\\benez\\anaconda3\\lib\\site-packages (from tensorflow) (0.22.0)\n",
      "Requirement already satisfied: tensorflow-estimator<2.8,~=2.7.0rc0 in c:\\users\\benez\\anaconda3\\lib\\site-packages (from tensorflow) (2.7.0)\n",
      "Requirement already satisfied: tensorboard~=2.6 in c:\\users\\benez\\anaconda3\\lib\\site-packages (from tensorflow) (2.7.0)\n",
      "Requirement already satisfied: markdown>=2.6.8 in c:\\users\\benez\\anaconda3\\lib\\site-packages (from tensorboard~=2.6->tensorflow) (3.3.6)\n",
      "Requirement already satisfied: requests<3,>=2.21.0 in c:\\users\\benez\\anaconda3\\lib\\site-packages (from tensorboard~=2.6->tensorflow) (2.25.1)\n",
      "Requirement already satisfied: werkzeug>=0.11.15 in c:\\users\\benez\\anaconda3\\lib\\site-packages (from tensorboard~=2.6->tensorflow) (1.0.1)\n",
      "Requirement already satisfied: tensorboard-plugin-wit>=1.6.0 in c:\\users\\benez\\anaconda3\\lib\\site-packages (from tensorboard~=2.6->tensorflow) (1.8.0)\n",
      "Requirement already satisfied: tensorboard-data-server<0.7.0,>=0.6.0 in c:\\users\\benez\\anaconda3\\lib\\site-packages (from tensorboard~=2.6->tensorflow) (0.6.1)\n",
      "Requirement already satisfied: google-auth-oauthlib<0.5,>=0.4.1 in c:\\users\\benez\\anaconda3\\lib\\site-packages (from tensorboard~=2.6->tensorflow) (0.4.6)\n",
      "Requirement already satisfied: google-auth<3,>=1.6.3 in c:\\users\\benez\\anaconda3\\lib\\site-packages (from tensorboard~=2.6->tensorflow) (2.3.3)\n",
      "Requirement already satisfied: setuptools>=41.0.0 in c:\\users\\benez\\anaconda3\\lib\\site-packages (from tensorboard~=2.6->tensorflow) (52.0.0.post20210125)\n",
      "Requirement already satisfied: pyasn1-modules>=0.2.1 in c:\\users\\benez\\anaconda3\\lib\\site-packages (from google-auth<3,>=1.6.3->tensorboard~=2.6->tensorflow) (0.2.8)\n",
      "Requirement already satisfied: rsa<5,>=3.1.4 in c:\\users\\benez\\anaconda3\\lib\\site-packages (from google-auth<3,>=1.6.3->tensorboard~=2.6->tensorflow) (4.8)\n",
      "Requirement already satisfied: cachetools<5.0,>=2.0.0 in c:\\users\\benez\\anaconda3\\lib\\site-packages (from google-auth<3,>=1.6.3->tensorboard~=2.6->tensorflow) (4.2.4)\n",
      "Requirement already satisfied: requests-oauthlib>=0.7.0 in c:\\users\\benez\\anaconda3\\lib\\site-packages (from google-auth-oauthlib<0.5,>=0.4.1->tensorboard~=2.6->tensorflow) (1.3.0)\n",
      "Requirement already satisfied: importlib-metadata>=4.4 in c:\\users\\benez\\anaconda3\\lib\\site-packages (from markdown>=2.6.8->tensorboard~=2.6->tensorflow) (4.8.2)\n",
      "Requirement already satisfied: zipp>=0.5 in c:\\users\\benez\\anaconda3\\lib\\site-packages (from importlib-metadata>=4.4->markdown>=2.6.8->tensorboard~=2.6->tensorflow) (3.4.1)\n",
      "Requirement already satisfied: pyasn1<0.5.0,>=0.4.6 in c:\\users\\benez\\anaconda3\\lib\\site-packages (from pyasn1-modules>=0.2.1->google-auth<3,>=1.6.3->tensorboard~=2.6->tensorflow) (0.4.8)\n",
      "Requirement already satisfied: urllib3<1.27,>=1.21.1 in c:\\users\\benez\\anaconda3\\lib\\site-packages (from requests<3,>=2.21.0->tensorboard~=2.6->tensorflow) (1.26.4)\n",
      "Requirement already satisfied: certifi>=2017.4.17 in c:\\users\\benez\\anaconda3\\lib\\site-packages (from requests<3,>=2.21.0->tensorboard~=2.6->tensorflow) (2020.12.5)\n",
      "Requirement already satisfied: chardet<5,>=3.0.2 in c:\\users\\benez\\anaconda3\\lib\\site-packages (from requests<3,>=2.21.0->tensorboard~=2.6->tensorflow) (4.0.0)\n",
      "Requirement already satisfied: idna<3,>=2.5 in c:\\users\\benez\\anaconda3\\lib\\site-packages (from requests<3,>=2.21.0->tensorboard~=2.6->tensorflow) (2.10)\n",
      "Requirement already satisfied: oauthlib>=3.0.0 in c:\\users\\benez\\anaconda3\\lib\\site-packages (from requests-oauthlib>=0.7.0->google-auth-oauthlib<0.5,>=0.4.1->tensorboard~=2.6->tensorflow) (3.1.1)\n"
     ]
    }
   ],
   "source": [
    "!pip install tensorflow"
   ]
  },
  {
   "cell_type": "code",
   "execution_count": 34,
   "id": "b4d24141",
   "metadata": {},
   "outputs": [
    {
     "name": "stderr",
     "output_type": "stream",
     "text": [
      "ERROR: Could not find a version that satisfies the requirement os\n",
      "ERROR: No matching distribution found for os\n"
     ]
    }
   ],
   "source": [
    "!pip install os"
   ]
  },
  {
   "cell_type": "code",
   "execution_count": 35,
   "id": "1e45e05f",
   "metadata": {
    "scrolled": true
   },
   "outputs": [
    {
     "name": "stdout",
     "output_type": "stream",
     "text": [
      "Requirement already satisfied: matplotlib in c:\\users\\benez\\anaconda3\\lib\\site-packages (3.3.4)\n",
      "Requirement already satisfied: pillow>=6.2.0 in c:\\users\\benez\\anaconda3\\lib\\site-packages (from matplotlib) (8.2.0)\n",
      "Requirement already satisfied: cycler>=0.10 in c:\\users\\benez\\anaconda3\\lib\\site-packages (from matplotlib) (0.10.0)\n",
      "Requirement already satisfied: kiwisolver>=1.0.1 in c:\\users\\benez\\anaconda3\\lib\\site-packages (from matplotlib) (1.3.1)\n",
      "Requirement already satisfied: pyparsing!=2.0.4,!=2.1.2,!=2.1.6,>=2.0.3 in c:\\users\\benez\\anaconda3\\lib\\site-packages (from matplotlib) (2.4.7)\n",
      "Requirement already satisfied: python-dateutil>=2.1 in c:\\users\\benez\\anaconda3\\lib\\site-packages (from matplotlib) (2.8.1)\n",
      "Requirement already satisfied: numpy>=1.15 in c:\\users\\benez\\anaconda3\\lib\\site-packages (from matplotlib) (1.20.1)\n",
      "Requirement already satisfied: six in c:\\users\\benez\\anaconda3\\lib\\site-packages (from cycler>=0.10->matplotlib) (1.15.0)\n"
     ]
    }
   ],
   "source": [
    "!pip install matplotlib"
   ]
  },
  {
   "cell_type": "code",
   "execution_count": 36,
   "id": "e185d3c9",
   "metadata": {},
   "outputs": [
    {
     "name": "stdout",
     "output_type": "stream",
     "text": [
      "Requirement already satisfied: sklearn in c:\\users\\benez\\anaconda3\\lib\\site-packages (0.0)\n",
      "Requirement already satisfied: scikit-learn in c:\\users\\benez\\anaconda3\\lib\\site-packages (from sklearn) (0.24.1)\n",
      "Requirement already satisfied: scipy>=0.19.1 in c:\\users\\benez\\anaconda3\\lib\\site-packages (from scikit-learn->sklearn) (1.6.2)\n",
      "Requirement already satisfied: joblib>=0.11 in c:\\users\\benez\\anaconda3\\lib\\site-packages (from scikit-learn->sklearn) (1.0.1)\n",
      "Requirement already satisfied: threadpoolctl>=2.0.0 in c:\\users\\benez\\anaconda3\\lib\\site-packages (from scikit-learn->sklearn) (2.1.0)\n",
      "Requirement already satisfied: numpy>=1.13.3 in c:\\users\\benez\\anaconda3\\lib\\site-packages (from scikit-learn->sklearn) (1.20.1)\n"
     ]
    }
   ],
   "source": [
    "!pip install sklearn"
   ]
  },
  {
   "cell_type": "markdown",
   "id": "31abfcef",
   "metadata": {},
   "source": [
    "### import "
   ]
  },
  {
   "cell_type": "code",
   "execution_count": 37,
   "id": "7e07c3db",
   "metadata": {},
   "outputs": [],
   "source": [
    "import tensorflow as tf\n",
    "import numpy as np\n",
    "import matplotlib.pyplot as plt\n",
    "import os\n",
    "from tensorflow.keras.models import Sequential\n",
    "from tensorflow.keras.layers import Dense, Flatten\n",
    "from tensorflow.keras.preprocessing.image import ImageDataGenerator\n",
    "from tensorflow.keras.optimizers import Adam\n"
   ]
  },
  {
   "cell_type": "markdown",
   "id": "d4a4777f",
   "metadata": {},
   "source": [
    "### Import Keras Libraries"
   ]
  },
  {
   "cell_type": "code",
   "execution_count": 38,
   "id": "7b4c2586",
   "metadata": {},
   "outputs": [],
   "source": [
    "import keras\n",
    "from keras import optimizers\n",
    "import matplotlib.pyplot as plt\n",
    "from tensorflow.keras import datasets, layers, models\n",
    "from keras.layers import Activation\n",
    "from keras.models import Sequential\n",
    "from keras.layers import Conv2D\n",
    "from keras.layers import MaxPooling2D\n",
    "from keras.layers import Flatten\n",
    "from keras.layers import Dense\n",
    "from keras.preprocessing.image import ImageDataGenerator, load_img\n",
    "from sklearn.metrics import classification_report, confusion_matrix"
   ]
  },
  {
   "cell_type": "markdown",
   "id": "47bf9a41",
   "metadata": {},
   "source": [
    "### Read flle"
   ]
  },
  {
   "cell_type": "code",
   "execution_count": 39,
   "id": "4d340c64",
   "metadata": {},
   "outputs": [
    {
     "name": "stdout",
     "output_type": "stream",
     "text": [
      "Accout train normal is : 1341 and Accout train PNEUMONIA is 3875\n",
      "Accout test normal is : 234 and Accout test PNEUMONIA is 390\n",
      "Total images in the training set:  5216\n",
      "Total images in the test set:  624\n"
     ]
    }
   ],
   "source": [
    "Read_folder = r'C:\\Users\\benez\\Desktop\\EX1 - deep learning\\chest_xray\\chest_xray'\n",
    "train_Read_folder = os.path.join(Read_folder, 'train')\n",
    "test_Read_folder = os.path.join(Read_folder, 'test')\n",
    "val_Read_folder = os.path.join(Read_folder, 'val')\n",
    "train_p_Read_folder = os.path.join(train_Read_folder, 'PNEUMONIA')\n",
    "train_n_Read_folder = os.path.join(train_Read_folder, 'NORMAL')\n",
    "test_p_Read_folder = os.path.join(test_Read_folder, 'PNEUMONIA')\n",
    "test_n_Read_folder = os.path.join(test_Read_folder, 'NORMAL')\n",
    "\n",
    "# Extracting all file names \n",
    "train_PNEUMONIA_files = os.listdir(train_p_Read_folder)\n",
    "train_NORMAL_files = os.listdir(train_n_Read_folder)\n",
    "test_PNEUMONIA_files = os.listdir(test_p_Read_folder)\n",
    "test_NORMAL_files = os.listdir(test_n_Read_folder)\n",
    "\n",
    "# test to show hwo mach fiile we have\n",
    "print (\"Accout train normal is :\",len(train_NORMAL_files), \"and Accout train PNEUMONIA is\" , len(train_PNEUMONIA_files))\n",
    "print (\"Accout test normal is :\",len(test_NORMAL_files), \"and Accout test PNEUMONIA is\" , len(test_PNEUMONIA_files))\n",
    "print(\"Total images in the training set: \", len(train_PNEUMONIA_files+train_NORMAL_files))\n",
    "print(\"Total images in the test set: \", len(test_PNEUMONIA_files+test_NORMAL_files))"
   ]
  },
  {
   "cell_type": "markdown",
   "id": "598d6188",
   "metadata": {},
   "source": [
    "### Section number A"
   ]
  },
  {
   "cell_type": "code",
   "execution_count": 40,
   "id": "5efad043",
   "metadata": {},
   "outputs": [
    {
     "name": "stdout",
     "output_type": "stream",
     "text": [
      "Found 5216 files belonging to 2 classes.\n",
      "Using 4695 files for training.\n",
      "Found 5216 files belonging to 2 classes.\n",
      "Using 521 files for validation.\n",
      "Found 5216 images belonging to 2 classes.\n",
      "Found 624 images belonging to 2 classes.\n",
      "Found 16 images belonging to 2 classes.\n",
      "The shape of image is :  (224, 224, 1)\n",
      "train data BATCH SIZE is 87\n",
      "test data BATCH SIZE is 11\n",
      "the kind of classes model is :  {'NORMAL': 0, 'PNEUMONIA': 1}\n",
      "the number of classes model is :  2\n"
     ]
    }
   ],
   "source": [
    "BATCH_SIZE=60\n",
    "\n",
    "# Normalization\n",
    "\n",
    "train_normalization = ImageDataGenerator(rescale=1./255)\n",
    "test_normalization = ImageDataGenerator(rescale=1./255)\n",
    "val_normalization = ImageDataGenerator(rescale=1./255)\n",
    "\n",
    "# Redefine names\n",
    "train_directory=train_Read_folder\n",
    "test_directory=test_Read_folder\n",
    "val_directory=val_Read_folder\n",
    "\n",
    "\n",
    "\n",
    "# File deviding to train and val\n",
    "train_data = tf.keras.utils.image_dataset_from_directory(\n",
    "    train_directory, seed=3, validation_split=0.1, subset='training')\n",
    "    \n",
    "val_data = tf.keras.utils.image_dataset_from_directory(\n",
    "    train_directory, seed=3, validation_split=0.1, subset='validation')\n",
    "\n",
    "# resizing and dividing to batches\n",
    "train_data=train_normalization.flow_from_directory(train_directory, target_size=(224,224),class_mode='binary', batch_size= BATCH_SIZE, color_mode='grayscale')\n",
    "test_data=test_normalization.flow_from_directory(test_directory, target_size=(224,224),class_mode='binary',batch_size= BATCH_SIZE, color_mode='grayscale')\n",
    "val_data=val_normalization.flow_from_directory(val_directory, target_size=(224,224),class_mode='binary', batch_size= 2, color_mode='grayscale')\n",
    "\n",
    "# data\n",
    "print('The shape of image is : ',test_data.image_shape)\n",
    "print('train data BATCH SIZE is',len(train_data))\n",
    "print('test data BATCH SIZE is',len(test_data))\n",
    "print(\"the kind of classes model is : \",train_data.class_indices)\n",
    "print(\"the number of classes model is : \",train_data.num_classes)"
   ]
  },
  {
   "cell_type": "markdown",
   "id": "b5e7c612",
   "metadata": {},
   "source": [
    "### Model settings"
   ]
  },
  {
   "cell_type": "code",
   "execution_count": 41,
   "id": "b7f160ec",
   "metadata": {},
   "outputs": [
    {
     "name": "stdout",
     "output_type": "stream",
     "text": [
      "Model: \"my_sequential\"\n",
      "_________________________________________________________________\n",
      " Layer (type)                Output Shape              Param #   \n",
      "=================================================================\n",
      " flatten_2 (Flatten)         (None, 50176)             0         \n",
      "                                                                 \n",
      " Dense1 (Dense)              (None, 64)                3211328   \n",
      "                                                                 \n",
      " Dense2 (Dense)              (None, 64)                4160      \n",
      "                                                                 \n",
      " Dense3 (Dense)              (None, 32)                2080      \n",
      "                                                                 \n",
      " Dense4 (Dense)              (None, 1)                 33        \n",
      "                                                                 \n",
      "=================================================================\n",
      "Total params: 3,217,601\n",
      "Trainable params: 3,217,601\n",
      "Non-trainable params: 0\n",
      "_________________________________________________________________\n"
     ]
    }
   ],
   "source": [
    "model = keras.Sequential(name=\"my_sequential\")\n",
    "model.add(layers.Flatten(input_shape=(224,224,1)))\n",
    "model.add(layers.Dense(64, activation='relu', name='Dense1'))\n",
    "model.add(layers.Dense(64, activation='relu', name='Dense2'))\n",
    "model.add(layers.Dense(32, activation='relu', name='Dense3'))\n",
    "model.add(layers.Dense(1, activation='sigmoid', name='Dense4'))\n",
    "model.summary()"
   ]
  },
  {
   "cell_type": "code",
   "execution_count": 42,
   "id": "d7cff7b8",
   "metadata": {},
   "outputs": [],
   "source": [
    "model.compile(loss='binary_crossentropy', optimizer = Adam(learning_rate=1e-6), metrics=['accuracy'])"
   ]
  },
  {
   "cell_type": "markdown",
   "id": "428c115c",
   "metadata": {},
   "source": [
    "### Section number B"
   ]
  },
  {
   "cell_type": "code",
   "execution_count": 43,
   "id": "33ff0245",
   "metadata": {},
   "outputs": [
    {
     "name": "stdout",
     "output_type": "stream",
     "text": [
      "Epoch 1/60\n",
      "87/87 [==============================] - 43s 492ms/step - loss: 0.5490 - accuracy: 0.7429 - val_loss: 0.7762 - val_accuracy: 0.5000\n",
      "Epoch 2/60\n",
      "87/87 [==============================] - 45s 513ms/step - loss: 0.4668 - accuracy: 0.7429 - val_loss: 0.7138 - val_accuracy: 0.5000\n",
      "Epoch 3/60\n",
      "87/87 [==============================] - 46s 528ms/step - loss: 0.4220 - accuracy: 0.7502 - val_loss: 0.7530 - val_accuracy: 0.5000\n",
      "Epoch 4/60\n",
      "87/87 [==============================] - 46s 525ms/step - loss: 0.3926 - accuracy: 0.7908 - val_loss: 0.6923 - val_accuracy: 0.5625\n",
      "Epoch 5/60\n",
      "87/87 [==============================] - 44s 506ms/step - loss: 0.3681 - accuracy: 0.8276 - val_loss: 0.6993 - val_accuracy: 0.5625\n",
      "Epoch 6/60\n",
      "87/87 [==============================] - 45s 514ms/step - loss: 0.3495 - accuracy: 0.8518 - val_loss: 0.6710 - val_accuracy: 0.6250\n",
      "Epoch 7/60\n",
      "87/87 [==============================] - 46s 525ms/step - loss: 0.3311 - accuracy: 0.8652 - val_loss: 0.6436 - val_accuracy: 0.6875\n",
      "Epoch 8/60\n",
      "87/87 [==============================] - 49s 560ms/step - loss: 0.3165 - accuracy: 0.8769 - val_loss: 0.6216 - val_accuracy: 0.6875\n",
      "Epoch 9/60\n",
      "87/87 [==============================] - 46s 525ms/step - loss: 0.3033 - accuracy: 0.8923 - val_loss: 0.6132 - val_accuracy: 0.6875\n",
      "Epoch 10/60\n",
      "87/87 [==============================] - 45s 520ms/step - loss: 0.2920 - accuracy: 0.8997 - val_loss: 0.6060 - val_accuracy: 0.6875\n",
      "Epoch 11/60\n",
      "87/87 [==============================] - 44s 510ms/step - loss: 0.2828 - accuracy: 0.9020 - val_loss: 0.5813 - val_accuracy: 0.7500\n",
      "Epoch 12/60\n",
      "87/87 [==============================] - 44s 506ms/step - loss: 0.2731 - accuracy: 0.9084 - val_loss: 0.6315 - val_accuracy: 0.6875\n",
      "Epoch 13/60\n",
      "87/87 [==============================] - 44s 508ms/step - loss: 0.2650 - accuracy: 0.9114 - val_loss: 0.5582 - val_accuracy: 0.8125\n",
      "Epoch 14/60\n",
      "87/87 [==============================] - 44s 507ms/step - loss: 0.2565 - accuracy: 0.9162 - val_loss: 0.5886 - val_accuracy: 0.6875\n",
      "Epoch 15/60\n",
      "87/87 [==============================] - 44s 509ms/step - loss: 0.2494 - accuracy: 0.9197 - val_loss: 0.5841 - val_accuracy: 0.6875\n",
      "Epoch 16/60\n",
      "87/87 [==============================] - 44s 506ms/step - loss: 0.2428 - accuracy: 0.9214 - val_loss: 0.5438 - val_accuracy: 0.8125\n",
      "Epoch 17/60\n",
      "87/87 [==============================] - ETA: 0s - loss: 0.2368 - accuracy: 0.92 - 47s 538ms/step - loss: 0.2368 - accuracy: 0.9247 - val_loss: 0.5428 - val_accuracy: 0.8125\n",
      "Epoch 18/60\n",
      "87/87 [==============================] - 45s 521ms/step - loss: 0.2304 - accuracy: 0.9275 - val_loss: 0.5157 - val_accuracy: 0.8125\n",
      "Epoch 19/60\n",
      "87/87 [==============================] - 45s 517ms/step - loss: 0.2257 - accuracy: 0.9314 - val_loss: 0.5549 - val_accuracy: 0.8125\n",
      "Epoch 20/60\n",
      "87/87 [==============================] - 44s 506ms/step - loss: 0.2201 - accuracy: 0.9331 - val_loss: 0.4769 - val_accuracy: 0.8125\n",
      "Epoch 21/60\n",
      "87/87 [==============================] - 44s 510ms/step - loss: 0.2153 - accuracy: 0.9331 - val_loss: 0.5440 - val_accuracy: 0.8125\n",
      "Epoch 22/60\n",
      "87/87 [==============================] - 44s 509ms/step - loss: 0.2109 - accuracy: 0.9342 - val_loss: 0.5022 - val_accuracy: 0.8125\n",
      "Epoch 23/60\n",
      "87/87 [==============================] - 44s 506ms/step - loss: 0.2064 - accuracy: 0.9373 - val_loss: 0.4858 - val_accuracy: 0.8125\n",
      "Epoch 24/60\n",
      "87/87 [==============================] - 57s 663ms/step - loss: 0.2031 - accuracy: 0.9365 - val_loss: 0.4632 - val_accuracy: 0.8125\n",
      "Epoch 25/60\n",
      "87/87 [==============================] - 59s 674ms/step - loss: 0.1986 - accuracy: 0.9387 - val_loss: 0.4557 - val_accuracy: 0.8125\n",
      "Epoch 26/60\n",
      "87/87 [==============================] - 53s 602ms/step - loss: 0.1953 - accuracy: 0.9385 - val_loss: 0.4786 - val_accuracy: 0.8125\n",
      "Epoch 27/60\n",
      "87/87 [==============================] - 48s 553ms/step - loss: 0.1919 - accuracy: 0.9417 - val_loss: 0.4417 - val_accuracy: 0.8125\n",
      "Epoch 28/60\n",
      "87/87 [==============================] - 47s 540ms/step - loss: 0.1886 - accuracy: 0.9415 - val_loss: 0.4549 - val_accuracy: 0.8125\n",
      "Epoch 29/60\n",
      "87/87 [==============================] - 48s 557ms/step - loss: 0.1855 - accuracy: 0.9425 - val_loss: 0.4543 - val_accuracy: 0.8125\n",
      "Epoch 30/60\n",
      "87/87 [==============================] - 45s 515ms/step - loss: 0.1824 - accuracy: 0.9440 - val_loss: 0.4649 - val_accuracy: 0.8125\n",
      "Epoch 31/60\n",
      "87/87 [==============================] - 45s 515ms/step - loss: 0.1795 - accuracy: 0.9450 - val_loss: 0.4420 - val_accuracy: 0.8125\n",
      "Epoch 32/60\n",
      "87/87 [==============================] - 45s 516ms/step - loss: 0.1770 - accuracy: 0.9459 - val_loss: 0.4611 - val_accuracy: 0.8125\n",
      "Epoch 33/60\n",
      "87/87 [==============================] - 45s 513ms/step - loss: 0.1750 - accuracy: 0.9452 - val_loss: 0.5072 - val_accuracy: 0.8125\n",
      "Epoch 34/60\n",
      "87/87 [==============================] - 49s 568ms/step - loss: 0.1724 - accuracy: 0.9450 - val_loss: 0.4302 - val_accuracy: 0.8125\n",
      "Epoch 35/60\n",
      "87/87 [==============================] - 45s 518ms/step - loss: 0.1697 - accuracy: 0.9469 - val_loss: 0.4115 - val_accuracy: 0.8125\n",
      "Epoch 36/60\n",
      "87/87 [==============================] - 45s 513ms/step - loss: 0.1675 - accuracy: 0.9469 - val_loss: 0.4296 - val_accuracy: 0.8125\n",
      "Epoch 37/60\n",
      "87/87 [==============================] - 45s 512ms/step - loss: 0.1656 - accuracy: 0.9482 - val_loss: 0.4387 - val_accuracy: 0.8125\n",
      "Epoch 38/60\n",
      "87/87 [==============================] - 45s 518ms/step - loss: 0.1634 - accuracy: 0.9473 - val_loss: 0.4083 - val_accuracy: 0.8125\n",
      "Epoch 39/60\n",
      "87/87 [==============================] - 45s 511ms/step - loss: 0.1616 - accuracy: 0.9488 - val_loss: 0.4317 - val_accuracy: 0.8125\n",
      "Epoch 40/60\n",
      "87/87 [==============================] - 44s 510ms/step - loss: 0.1605 - accuracy: 0.9502 - val_loss: 0.4378 - val_accuracy: 0.8125\n",
      "Epoch 41/60\n",
      "87/87 [==============================] - 44s 508ms/step - loss: 0.1585 - accuracy: 0.9488 - val_loss: 0.3944 - val_accuracy: 0.8125\n",
      "Epoch 42/60\n",
      "87/87 [==============================] - 46s 524ms/step - loss: 0.1568 - accuracy: 0.9496 - val_loss: 0.4222 - val_accuracy: 0.8125\n",
      "Epoch 43/60\n",
      "87/87 [==============================] - 47s 538ms/step - loss: 0.1550 - accuracy: 0.9505 - val_loss: 0.4498 - val_accuracy: 0.8125\n",
      "Epoch 44/60\n",
      "87/87 [==============================] - 45s 518ms/step - loss: 0.1534 - accuracy: 0.9509 - val_loss: 0.4570 - val_accuracy: 0.8125\n",
      "Epoch 45/60\n",
      "87/87 [==============================] - 45s 514ms/step - loss: 0.1516 - accuracy: 0.9525 - val_loss: 0.4354 - val_accuracy: 0.8125\n",
      "Epoch 46/60\n",
      "87/87 [==============================] - 44s 511ms/step - loss: 0.1502 - accuracy: 0.9528 - val_loss: 0.3966 - val_accuracy: 0.8125\n",
      "Epoch 47/60\n",
      "87/87 [==============================] - 44s 509ms/step - loss: 0.1488 - accuracy: 0.9526 - val_loss: 0.3713 - val_accuracy: 0.8125\n",
      "Epoch 48/60\n",
      "87/87 [==============================] - 45s 518ms/step - loss: 0.1472 - accuracy: 0.9528 - val_loss: 0.4089 - val_accuracy: 0.8125\n",
      "Epoch 49/60\n",
      "87/87 [==============================] - 44s 511ms/step - loss: 0.1461 - accuracy: 0.9536 - val_loss: 0.4191 - val_accuracy: 0.8125\n",
      "Epoch 50/60\n",
      "87/87 [==============================] - 44s 510ms/step - loss: 0.1457 - accuracy: 0.9523 - val_loss: 0.3640 - val_accuracy: 0.8125\n",
      "Epoch 51/60\n",
      "87/87 [==============================] - 45s 515ms/step - loss: 0.1436 - accuracy: 0.9548 - val_loss: 0.3689 - val_accuracy: 0.8125\n",
      "Epoch 52/60\n",
      "87/87 [==============================] - 44s 511ms/step - loss: 0.1428 - accuracy: 0.9532 - val_loss: 0.3537 - val_accuracy: 0.8125\n",
      "Epoch 53/60\n",
      "87/87 [==============================] - 44s 510ms/step - loss: 0.1417 - accuracy: 0.9536 - val_loss: 0.4103 - val_accuracy: 0.8125\n",
      "Epoch 54/60\n",
      "87/87 [==============================] - 44s 511ms/step - loss: 0.1403 - accuracy: 0.9534 - val_loss: 0.3757 - val_accuracy: 0.8125\n",
      "Epoch 55/60\n",
      "87/87 [==============================] - 45s 512ms/step - loss: 0.1395 - accuracy: 0.9536 - val_loss: 0.3695 - val_accuracy: 0.8125\n",
      "Epoch 56/60\n",
      "87/87 [==============================] - 47s 539ms/step - loss: 0.1382 - accuracy: 0.9551 - val_loss: 0.3603 - val_accuracy: 0.8125\n",
      "Epoch 57/60\n",
      "87/87 [==============================] - 45s 513ms/step - loss: 0.1374 - accuracy: 0.9549 - val_loss: 0.3490 - val_accuracy: 0.8125\n"
     ]
    },
    {
     "name": "stdout",
     "output_type": "stream",
     "text": [
      "Epoch 58/60\n",
      "87/87 [==============================] - 45s 512ms/step - loss: 0.1363 - accuracy: 0.9555 - val_loss: 0.3659 - val_accuracy: 0.8125\n",
      "Epoch 59/60\n",
      "87/87 [==============================] - 44s 510ms/step - loss: 0.1353 - accuracy: 0.9563 - val_loss: 0.3899 - val_accuracy: 0.8125\n",
      "Epoch 60/60\n",
      "87/87 [==============================] - 45s 515ms/step - loss: 0.1348 - accuracy: 0.9557 - val_loss: 0.3815 - val_accuracy: 0.8125\n"
     ]
    }
   ],
   "source": [
    "epochs = 60\n",
    "model_fit = model.fit(train_data,validation_data = val_data, epochs=epochs, batch_size=BATCH_SIZE )"
   ]
  },
  {
   "cell_type": "code",
   "execution_count": 44,
   "id": "b926e6d6",
   "metadata": {},
   "outputs": [
    {
     "name": "stdout",
     "output_type": "stream",
     "text": [
      "dict_keys(['loss', 'accuracy', 'val_loss', 'val_accuracy'])\n"
     ]
    },
    {
     "data": {
      "image/png": "[encoded data removed]",
      "text/plain": [
       "<Figure size 432x288 with 1 Axes>"
      ]
     },
     "metadata": {
      "needs_background": "light"
     },
     "output_type": "display_data"
    },
    {
     "data": {
      "image/png": "[encoded data removed]",
      "text/plain": [
       "<Figure size 432x288 with 1 Axes>"
      ]
     },
     "metadata": {
      "needs_background": "light"
     },
     "output_type": "display_data"
    }
   ],
   "source": [
    "print(model_fit.history.keys())\n",
    "plt.plot(model_fit.history['accuracy'])\n",
    "plt.plot(model_fit.history['val_accuracy'])\n",
    "plt.title('model accuracy')\n",
    "plt.ylabel('accuracy')\n",
    "plt.xlabel('epoch')\n",
    "plt.legend(['train', 'Val'], loc='upper left')\n",
    "plt.show()\n",
    "# summarize history for loss\n",
    "plt.plot(model_fit.history['loss'])\n",
    "plt.plot(model_fit.history['val_loss'])\n",
    "plt.title('model loss')\n",
    "plt.ylabel('loss')\n",
    "plt.xlabel('epoch')\n",
    "plt.legend(['train', 'Val'], loc='upper left')\n",
    "plt.show()"
   ]
  },
  {
   "cell_type": "markdown",
   "id": "5f4b010e",
   "metadata": {},
   "source": [
    "### Section number C"
   ]
  },
  {
   "cell_type": "code",
   "execution_count": 45,
   "id": "db552126",
   "metadata": {},
   "outputs": [],
   "source": [
    "predictions_DNN = model.predict(test_data) \n",
    "y_pred_Adam = predictions_DNN > 0.5\n",
    "y_true_Adam = test_data.classes "
   ]
  },
  {
   "cell_type": "code",
   "execution_count": 46,
   "id": "f53ee5da",
   "metadata": {},
   "outputs": [
    {
     "data": {
      "image/png": "[encoded data removed]",
      "text/plain": [
       "<Figure size 432x288 with 2 Axes>"
      ]
     },
     "metadata": {
      "needs_background": "light"
     },
     "output_type": "display_data"
    }
   ],
   "source": [
    "import seaborn as sns\n",
    "\n",
    "font = {\n",
    "    'family': 'Times New Roman',\n",
    "    'size': 12\n",
    "}\n",
    "plt.rc('font', **font)\n",
    "mat = confusion_matrix(y_true_Adam, y_pred_Adam)\n",
    "sns.heatmap(mat, annot=True, fmt=\"d\")\n",
    "\n",
    "plt.xlabel(\"Predicted Label\", fontsize= 12)\n",
    "plt.ylabel(\"True Label\", fontsize= 12)\n",
    "\n",
    "plt.show()\n",
    "\n"
   ]
  },
  {
   "cell_type": "code",
   "execution_count": 47,
   "id": "2fb0be2f",
   "metadata": {},
   "outputs": [
    {
     "name": "stdout",
     "output_type": "stream",
     "text": [
      " The recall of model is: 0.8589743589743589\n",
      "The precision of the model is: 0.6273408239700374\n"
     ]
    }
   ],
   "source": [
    "import sklearn.metrics\n",
    "\n",
    "#Recall = TruePositives / (TruePositives + FalseNegatives)\n",
    "#precision = TruePositives/(TruePositives+FalsePositives)\n",
    "\n",
    "recall = sklearn.metrics.recall_score(y_true_Adam, y_pred_Adam, pos_label=1)\n",
    "print(\" The recall of model is:\" ,recall)\n",
    "\n",
    "precision = sklearn.metrics.precision_score(y_true_Adam, y_pred_Adam, pos_label=1)\n",
    "print(\"The precision of the model is:\" ,precision)"
   ]
  },
  {
   "cell_type": "markdown",
   "id": "9437edfc",
   "metadata": {},
   "source": [
    "### Section number D"
   ]
  },
  {
   "cell_type": "markdown",
   "id": "b436c087",
   "metadata": {},
   "source": [
    "#### Defining a convolution model  - (model 2)"
   ]
  },
  {
   "cell_type": "code",
   "execution_count": 48,
   "id": "34c8470b",
   "metadata": {},
   "outputs": [],
   "source": [
    "tf.keras.backend.clear_session()"
   ]
  },
  {
   "cell_type": "code",
   "execution_count": 49,
   "id": "281015e4",
   "metadata": {},
   "outputs": [
    {
     "name": "stdout",
     "output_type": "stream",
     "text": [
      "Model: \"sequential\"\n",
      "_________________________________________________________________\n",
      " Layer (type)                Output Shape              Param #   \n",
      "=================================================================\n",
      " conv2d (Conv2D)             (None, 224, 224, 32)      320       \n",
      "                                                                 \n",
      " max_pooling2d (MaxPooling2D  (None, 112, 112, 32)     0         \n",
      " )                                                               \n",
      "                                                                 \n",
      " conv2d_1 (Conv2D)           (None, 112, 112, 64)      18496     \n",
      "                                                                 \n",
      " max_pooling2d_1 (MaxPooling  (None, 56, 56, 64)       0         \n",
      " 2D)                                                             \n",
      "                                                                 \n",
      " flatten (Flatten)           (None, 200704)            0         \n",
      "                                                                 \n",
      " dropout (Dropout)           (None, 200704)            0         \n",
      "                                                                 \n",
      " dense (Dense)               (None, 1)                 200705    \n",
      "                                                                 \n",
      "=================================================================\n",
      "Total params: 219,521\n",
      "Trainable params: 219,521\n",
      "Non-trainable params: 0\n",
      "_________________________________________________________________\n"
     ]
    }
   ],
   "source": [
    "num_classes = 1\n",
    "input_shape = (224, 224, 1)\n",
    "epochs = 60\n",
    "\n",
    "model2 = keras.Sequential(\n",
    "    [\n",
    "        keras.Input(shape=input_shape),\n",
    "        layers.Conv2D(32, kernel_size=(3, 3), activation=\"relu\", padding = \"same\"),\n",
    "        layers.MaxPooling2D(pool_size=(2, 2)),\n",
    "        layers.Conv2D(64, kernel_size=(3, 3), activation=\"relu\" ,padding = \"same\"),\n",
    "        layers.MaxPooling2D(pool_size=(2, 2)),\n",
    "        layers.Flatten(),\n",
    "        layers.Dropout(0.5),\n",
    "        layers.Dense(num_classes, activation=\"sigmoid\"),\n",
    "    ]\n",
    ")\n",
    "\n",
    "model2.summary()\n"
   ]
  },
  {
   "cell_type": "code",
   "execution_count": 50,
   "id": "cff216d0",
   "metadata": {},
   "outputs": [
    {
     "name": "stdout",
     "output_type": "stream",
     "text": [
      "Epoch 1/60\n",
      "87/87 [==============================] - 148s 2s/step - loss: 0.2630 - accuracy: 0.8831 - val_loss: 0.1853 - val_accuracy: 0.8750\n",
      "Epoch 2/60\n",
      "87/87 [==============================] - 152s 2s/step - loss: 0.0882 - accuracy: 0.9689 - val_loss: 0.1652 - val_accuracy: 0.9375\n",
      "Epoch 3/60\n",
      "87/87 [==============================] - 148s 2s/step - loss: 0.0825 - accuracy: 0.9682 - val_loss: 0.2067 - val_accuracy: 0.9375\n",
      "Epoch 4/60\n",
      "87/87 [==============================] - 147s 2s/step - loss: 0.0716 - accuracy: 0.9730 - val_loss: 0.2963 - val_accuracy: 0.8125\n",
      "Epoch 5/60\n",
      "87/87 [==============================] - 147s 2s/step - loss: 0.0642 - accuracy: 0.9766 - val_loss: 0.3842 - val_accuracy: 0.8125\n",
      "Epoch 6/60\n",
      "87/87 [==============================] - 147s 2s/step - loss: 0.0582 - accuracy: 0.9801 - val_loss: 0.1302 - val_accuracy: 0.9375\n",
      "Epoch 7/60\n",
      "87/87 [==============================] - 147s 2s/step - loss: 0.0400 - accuracy: 0.9847 - val_loss: 0.1776 - val_accuracy: 0.8750\n",
      "Epoch 8/60\n",
      "87/87 [==============================] - 146s 2s/step - loss: 0.0321 - accuracy: 0.9889 - val_loss: 0.0951 - val_accuracy: 0.9375\n",
      "Epoch 9/60\n",
      "87/87 [==============================] - 146s 2s/step - loss: 0.0286 - accuracy: 0.9908 - val_loss: 0.1401 - val_accuracy: 0.8750\n",
      "Epoch 10/60\n",
      "87/87 [==============================] - 147s 2s/step - loss: 0.0189 - accuracy: 0.9941 - val_loss: 0.1522 - val_accuracy: 0.8750\n",
      "Epoch 11/60\n",
      "87/87 [==============================] - 148s 2s/step - loss: 0.0186 - accuracy: 0.9946 - val_loss: 0.1024 - val_accuracy: 0.9375\n",
      "Epoch 12/60\n",
      "87/87 [==============================] - 147s 2s/step - loss: 0.0112 - accuracy: 0.9967 - val_loss: 0.2544 - val_accuracy: 0.9375\n",
      "Epoch 13/60\n",
      "87/87 [==============================] - 146s 2s/step - loss: 0.0216 - accuracy: 0.9919 - val_loss: 0.0590 - val_accuracy: 1.0000\n",
      "Epoch 14/60\n",
      "87/87 [==============================] - 146s 2s/step - loss: 0.0131 - accuracy: 0.9973 - val_loss: 0.0922 - val_accuracy: 0.9375\n",
      "Epoch 15/60\n",
      "87/87 [==============================] - 149s 2s/step - loss: 0.0091 - accuracy: 0.9977 - val_loss: 0.1246 - val_accuracy: 0.9375\n",
      "Epoch 16/60\n",
      "87/87 [==============================] - 150s 2s/step - loss: 0.0163 - accuracy: 0.9941 - val_loss: 0.1071 - val_accuracy: 0.9375\n",
      "Epoch 17/60\n",
      "87/87 [==============================] - 145s 2s/step - loss: 0.0049 - accuracy: 0.9994 - val_loss: 0.1120 - val_accuracy: 0.9375\n",
      "Epoch 18/60\n",
      "87/87 [==============================] - 146s 2s/step - loss: 0.0030 - accuracy: 0.9998 - val_loss: 0.0510 - val_accuracy: 1.0000\n",
      "Epoch 19/60\n",
      "87/87 [==============================] - 146s 2s/step - loss: 0.0030 - accuracy: 0.9996 - val_loss: 0.0973 - val_accuracy: 0.9375\n",
      "Epoch 20/60\n",
      "87/87 [==============================] - 147s 2s/step - loss: 0.0091 - accuracy: 0.9971 - val_loss: 0.0296 - val_accuracy: 1.0000\n",
      "Epoch 21/60\n",
      "87/87 [==============================] - 146s 2s/step - loss: 0.0031 - accuracy: 0.9996 - val_loss: 0.1933 - val_accuracy: 0.8750\n",
      "Epoch 22/60\n",
      "87/87 [==============================] - 145s 2s/step - loss: 0.0023 - accuracy: 0.9992 - val_loss: 0.2109 - val_accuracy: 0.9375\n",
      "Epoch 23/60\n",
      "87/87 [==============================] - 149s 2s/step - loss: 0.0064 - accuracy: 0.9985 - val_loss: 0.0606 - val_accuracy: 1.0000\n",
      "Epoch 24/60\n",
      "87/87 [==============================] - 149s 2s/step - loss: 0.0013 - accuracy: 1.0000 - val_loss: 0.0682 - val_accuracy: 0.9375\n",
      "Epoch 25/60\n",
      "87/87 [==============================] - 145s 2s/step - loss: 0.0016 - accuracy: 1.0000 - val_loss: 0.0763 - val_accuracy: 1.0000\n",
      "Epoch 26/60\n",
      "87/87 [==============================] - 145s 2s/step - loss: 7.2157e-04 - accuracy: 1.0000 - val_loss: 0.0562 - val_accuracy: 1.0000\n",
      "Epoch 27/60\n",
      "87/87 [==============================] - 152s 2s/step - loss: 0.0017 - accuracy: 0.9998 - val_loss: 0.0532 - val_accuracy: 1.0000\n",
      "Epoch 28/60\n",
      "87/87 [==============================] - 148s 2s/step - loss: 5.3792e-04 - accuracy: 1.0000 - val_loss: 0.0317 - val_accuracy: 1.0000\n",
      "Epoch 29/60\n",
      "87/87 [==============================] - 146s 2s/step - loss: 4.0816e-04 - accuracy: 1.0000 - val_loss: 0.0310 - val_accuracy: 1.0000\n",
      "Epoch 30/60\n",
      "87/87 [==============================] - 146s 2s/step - loss: 3.2687e-04 - accuracy: 1.0000 - val_loss: 0.0230 - val_accuracy: 1.0000\n",
      "Epoch 31/60\n",
      "87/87 [==============================] - 146s 2s/step - loss: 5.7157e-04 - accuracy: 1.0000 - val_loss: 0.1634 - val_accuracy: 0.8750\n",
      "Epoch 32/60\n",
      "87/87 [==============================] - 147s 2s/step - loss: 0.0019 - accuracy: 0.9998 - val_loss: 0.0580 - val_accuracy: 0.9375\n",
      "Epoch 33/60\n",
      "87/87 [==============================] - 146s 2s/step - loss: 0.0034 - accuracy: 0.9990 - val_loss: 0.4498 - val_accuracy: 0.7500\n",
      "Epoch 34/60\n",
      "87/87 [==============================] - 145s 2s/step - loss: 0.0047 - accuracy: 0.9990 - val_loss: 0.0531 - val_accuracy: 1.0000\n",
      "Epoch 35/60\n",
      "87/87 [==============================] - 145s 2s/step - loss: 0.0023 - accuracy: 0.9994 - val_loss: 0.0850 - val_accuracy: 0.9375\n",
      "Epoch 36/60\n",
      "87/87 [==============================] - 149s 2s/step - loss: 0.0014 - accuracy: 0.9998 - val_loss: 0.0397 - val_accuracy: 1.0000\n",
      "Epoch 37/60\n",
      "87/87 [==============================] - 145s 2s/step - loss: 0.0020 - accuracy: 0.9994 - val_loss: 0.0454 - val_accuracy: 0.9375\n",
      "Epoch 38/60\n",
      "87/87 [==============================] - 145s 2s/step - loss: 0.0267 - accuracy: 0.9902 - val_loss: 0.0200 - val_accuracy: 1.0000\n",
      "Epoch 39/60\n",
      "87/87 [==============================] - 144s 2s/step - loss: 0.0198 - accuracy: 0.9933 - val_loss: 0.0402 - val_accuracy: 1.0000\n",
      "Epoch 40/60\n",
      "87/87 [==============================] - 148s 2s/step - loss: 0.0077 - accuracy: 0.9975 - val_loss: 0.0496 - val_accuracy: 0.9375\n",
      "Epoch 41/60\n",
      "87/87 [==============================] - 147s 2s/step - loss: 0.0035 - accuracy: 0.9994 - val_loss: 0.0600 - val_accuracy: 1.0000\n",
      "Epoch 42/60\n",
      "87/87 [==============================] - 147s 2s/step - loss: 0.0034 - accuracy: 0.9987 - val_loss: 0.2059 - val_accuracy: 0.8750\n",
      "Epoch 43/60\n",
      "87/87 [==============================] - 146s 2s/step - loss: 0.0041 - accuracy: 0.9985 - val_loss: 0.0828 - val_accuracy: 0.9375\n",
      "Epoch 44/60\n",
      "87/87 [==============================] - 149s 2s/step - loss: 0.0015 - accuracy: 0.9998 - val_loss: 0.0087 - val_accuracy: 1.0000\n",
      "Epoch 45/60\n",
      "87/87 [==============================] - 143s 2s/step - loss: 4.2168e-04 - accuracy: 1.0000 - val_loss: 0.0579 - val_accuracy: 1.0000\n",
      "Epoch 46/60\n",
      "87/87 [==============================] - 155s 2s/step - loss: 3.3332e-04 - accuracy: 1.0000 - val_loss: 0.0215 - val_accuracy: 1.0000\n",
      "Epoch 47/60\n",
      "87/87 [==============================] - 143s 2s/step - loss: 0.0012 - accuracy: 0.9996 - val_loss: 0.1681 - val_accuracy: 0.8750\n",
      "Epoch 48/60\n",
      "87/87 [==============================] - 146s 2s/step - loss: 2.8164e-04 - accuracy: 1.0000 - val_loss: 0.1022 - val_accuracy: 0.9375\n",
      "Epoch 49/60\n",
      "87/87 [==============================] - 149s 2s/step - loss: 2.4120e-04 - accuracy: 1.0000 - val_loss: 0.0996 - val_accuracy: 0.9375\n",
      "Epoch 50/60\n",
      "87/87 [==============================] - 145s 2s/step - loss: 1.4079e-04 - accuracy: 1.0000 - val_loss: 0.0381 - val_accuracy: 1.0000\n",
      "Epoch 51/60\n",
      "87/87 [==============================] - 147s 2s/step - loss: 1.7272e-04 - accuracy: 1.0000 - val_loss: 0.1701 - val_accuracy: 0.9375\n",
      "Epoch 52/60\n",
      "87/87 [==============================] - 148s 2s/step - loss: 1.2848e-04 - accuracy: 1.0000 - val_loss: 0.1328 - val_accuracy: 0.9375\n",
      "Epoch 53/60\n",
      "87/87 [==============================] - 144s 2s/step - loss: 7.5140e-05 - accuracy: 1.0000 - val_loss: 0.0491 - val_accuracy: 1.0000\n",
      "Epoch 54/60\n",
      "87/87 [==============================] - 140s 2s/step - loss: 1.0025e-04 - accuracy: 1.0000 - val_loss: 0.0286 - val_accuracy: 1.0000\n",
      "Epoch 55/60\n",
      "87/87 [==============================] - 141s 2s/step - loss: 8.1082e-05 - accuracy: 1.0000 - val_loss: 0.1024 - val_accuracy: 1.0000\n",
      "Epoch 56/60\n",
      "87/87 [==============================] - 140s 2s/step - loss: 8.5916e-05 - accuracy: 1.0000 - val_loss: 0.0286 - val_accuracy: 1.0000\n",
      "Epoch 57/60\n",
      "87/87 [==============================] - 141s 2s/step - loss: 1.2885e-04 - accuracy: 1.0000 - val_loss: 0.0214 - val_accuracy: 1.0000\n",
      "Epoch 58/60\n"
     ]
    },
    {
     "name": "stdout",
     "output_type": "stream",
     "text": [
      "87/87 [==============================] - 139s 2s/step - loss: 5.0257e-04 - accuracy: 1.0000 - val_loss: 0.1834 - val_accuracy: 0.8750\n",
      "Epoch 59/60\n",
      "87/87 [==============================] - 140s 2s/step - loss: 2.8393e-04 - accuracy: 1.0000 - val_loss: 0.0970 - val_accuracy: 0.9375\n",
      "Epoch 60/60\n",
      "87/87 [==============================] - 139s 2s/step - loss: 6.9350e-05 - accuracy: 1.0000 - val_loss: 0.1166 - val_accuracy: 0.9375\n"
     ]
    }
   ],
   "source": [
    "model2.compile(loss='binary_crossentropy', optimizer = Adam(learning_rate=1e-3), metrics=['accuracy'])\n",
    "\n",
    "history_CNN = model2.fit(train_data,validation_data = val_data, epochs = epochs ,batch_size = BATCH_SIZE)"
   ]
  },
  {
   "cell_type": "markdown",
   "id": "a70b1040",
   "metadata": {},
   "source": [
    "### Section number D - section B"
   ]
  },
  {
   "cell_type": "code",
   "execution_count": 51,
   "id": "8995f87a",
   "metadata": {},
   "outputs": [
    {
     "name": "stdout",
     "output_type": "stream",
     "text": [
      "dict_keys(['loss', 'accuracy', 'val_loss', 'val_accuracy'])\n"
     ]
    },
    {
     "data": {
      "image/png": "[encoded data removed]",
      "text/plain": [
       "<Figure size 432x288 with 1 Axes>"
      ]
     },
     "metadata": {
      "needs_background": "light"
     },
     "output_type": "display_data"
    },
    {
     "data": {
      "image/png": "[encoded data removed]",
      "text/plain": [
       "<Figure size 432x288 with 1 Axes>"
      ]
     },
     "metadata": {
      "needs_background": "light"
     },
     "output_type": "display_data"
    }
   ],
   "source": [
    "print(history_CNN.history.keys())\n",
    "plt.plot(history_CNN.history['accuracy'])\n",
    "plt.plot(history_CNN.history['val_accuracy'])\n",
    "plt.title('model accuracy')\n",
    "plt.ylabel('accuracy')\n",
    "plt.xlabel('epoch')\n",
    "plt.legend(['train', 'Val'], loc='upper left')\n",
    "plt.show()\n",
    "\n",
    "\n",
    "# summarize history for loss\n",
    "\n",
    "plt.plot(history_CNN.history['loss'])\n",
    "plt.plot(history_CNN.history['val_loss'])\n",
    "plt.title('model loss')\n",
    "plt.ylabel('loss')\n",
    "plt.xlabel('epoch')\n",
    "plt.legend(['train', 'Val'], loc='upper left')\n",
    "plt.show()"
   ]
  },
  {
   "cell_type": "code",
   "execution_count": 52,
   "id": "de50f2c2",
   "metadata": {},
   "outputs": [
    {
     "data": {
      "image/png": "[encoded data removed]",
      "text/plain": [
       "<Figure size 432x288 with 2 Axes>"
      ]
     },
     "metadata": {
      "needs_background": "light"
     },
     "output_type": "display_data"
    }
   ],
   "source": [
    "predictions_CNN = model2.predict(test_data) \n",
    "y_pred = predictions_CNN > 0.5\n",
    "y_true = test_data.classes \n",
    "\n",
    "import seaborn as sns\n",
    "\n",
    "font = {\n",
    "    'family': 'Times New Roman',\n",
    "    'size': 12\n",
    "}\n",
    "plt.rc('font', **font)\n",
    "mat = confusion_matrix(y_true, y_pred)\n",
    "sns.heatmap(mat, annot=True, fmt=\"d\")\n",
    "\n",
    "plt.xlabel(\"Predicted Label\", fontsize= 12)\n",
    "plt.ylabel(\"True Label\", fontsize= 12)\n",
    "\n",
    "plt.show()"
   ]
  },
  {
   "cell_type": "code",
   "execution_count": 53,
   "id": "f896270b",
   "metadata": {},
   "outputs": [
    {
     "name": "stdout",
     "output_type": "stream",
     "text": [
      " The recall of model is: 0.8846153846153846\n",
      "The precision of the model is: 0.6160714285714286\n"
     ]
    }
   ],
   "source": [
    "import sklearn.metrics\n",
    "\n",
    "#Recall = TruePositives / (TruePositives + FalseNegatives)\n",
    "#precision = TruePositives/(TruePositives+FalsePositives)\n",
    "\n",
    "recall = sklearn.metrics.recall_score(y_true, y_pred, pos_label=1)\n",
    "print(\" The recall of model is:\" ,recall)\n",
    "\n",
    "precision = sklearn.metrics.precision_score(y_true, y_pred, pos_label=1)\n",
    "print(\"The precision of the model is:\" ,precision)"
   ]
  },
  {
   "cell_type": "markdown",
   "id": "080007a2",
   "metadata": {},
   "source": [
    "### Section number F "
   ]
  },
  {
   "cell_type": "code",
   "execution_count": 54,
   "id": "c46ab6a9",
   "metadata": {},
   "outputs": [],
   "source": [
    "IMG_SIZE = 224\n",
    "\n",
    "resize_and_rescale = tf.keras.Sequential([\n",
    "  layers.Resizing(IMG_SIZE, IMG_SIZE),\n",
    "  layers.Rescaling(1./255)\n",
    "])"
   ]
  },
  {
   "cell_type": "code",
   "execution_count": 55,
   "id": "c928aea1",
   "metadata": {},
   "outputs": [],
   "source": [
    "data_augmentation = keras.Sequential(\n",
    "  [\n",
    "    layers.experimental.preprocessing.RandomFlip(\"horizontal\", \n",
    "                                                 input_shape=(224, \n",
    "                                                              224,\n",
    "                                                              1)),\n",
    "    layers.experimental.preprocessing.RandomRotation(0.1),\n",
    "    layers.experimental.preprocessing.RandomZoom(0.1),\n",
    "  ]\n",
    ")"
   ]
  },
  {
   "cell_type": "code",
   "execution_count": 57,
   "id": "2077a2ed",
   "metadata": {},
   "outputs": [
    {
     "name": "stdout",
     "output_type": "stream",
     "text": [
      "Epoch 1/10\n",
      "87/87 [==============================] - 146s 2s/step - loss: 0.5237 - accuracy: 0.7515 - val_loss: 0.6200 - val_accuracy: 0.6250\n",
      "Epoch 2/10\n",
      "87/87 [==============================] - 135s 2s/step - loss: 0.3461 - accuracy: 0.8560 - val_loss: 0.4870 - val_accuracy: 0.8125\n",
      "Epoch 3/10\n",
      "87/87 [==============================] - 125s 1s/step - loss: 0.2647 - accuracy: 0.8942 - val_loss: 0.4712 - val_accuracy: 0.8125\n",
      "Epoch 4/10\n",
      "87/87 [==============================] - 117s 1s/step - loss: 0.2259 - accuracy: 0.9078 - val_loss: 0.4118 - val_accuracy: 0.9375\n",
      "Epoch 5/10\n",
      "87/87 [==============================] - 122s 1s/step - loss: 0.2158 - accuracy: 0.9145 - val_loss: 0.4763 - val_accuracy: 0.7500\n",
      "Epoch 6/10\n",
      "87/87 [==============================] - 119s 1s/step - loss: 0.2008 - accuracy: 0.9197 - val_loss: 0.6728 - val_accuracy: 0.6250\n",
      "Epoch 7/10\n",
      "87/87 [==============================] - 122s 1s/step - loss: 0.1888 - accuracy: 0.9248 - val_loss: 0.4384 - val_accuracy: 0.7500\n",
      "Epoch 8/10\n",
      "87/87 [==============================] - 126s 1s/step - loss: 0.1885 - accuracy: 0.9245 - val_loss: 0.5209 - val_accuracy: 0.7500\n",
      "Epoch 9/10\n",
      "87/87 [==============================] - 119s 1s/step - loss: 0.1795 - accuracy: 0.9266 - val_loss: 0.4534 - val_accuracy: 0.7500\n",
      "Epoch 10/10\n",
      "87/87 [==============================] - 116s 1s/step - loss: 0.1703 - accuracy: 0.9339 - val_loss: 0.2730 - val_accuracy: 0.9375\n"
     ]
    }
   ],
   "source": [
    "num_classes = 2\n",
    "epochs = 10\n",
    "\n",
    "model_num_3 = Sequential([\n",
    "  data_augmentation,\n",
    "  layers.Conv2D(16, 3, padding='same', activation='relu'),\n",
    "  layers.MaxPooling2D(),\n",
    "  layers.Conv2D(32, 3, padding='same', activation='relu'),\n",
    "  layers.MaxPooling2D(),\n",
    "  layers.Conv2D(64, 3, padding='same', activation='relu'),\n",
    "  layers.MaxPooling2D(),\n",
    "  layers.Dropout(0.2),\n",
    "  layers.Flatten(),\n",
    "  layers.Dense(128, activation='sigmoid'),\n",
    "  layers.Dense(num_classes)\n",
    "])\n",
    "\n",
    "#model_num_3.compile(loss='binary_crossentropy', optimizer = Adam(learning_rate=1e-4), metrics=['accuracy'])\n",
    "\n",
    "model_num_3.compile(optimizer = Adam(learning_rate=1e-4),\n",
    "              loss=tf.keras.losses.SparseCategoricalCrossentropy(from_logits=True),\n",
    "              metrics=['accuracy'])\n",
    "              \n",
    "model_num_3_fit=model_num_3.fit(train_data,validation_data = val_data, epochs=epochs, batch_size=BATCH_SIZE)  "
   ]
  },
  {
   "cell_type": "code",
   "execution_count": 65,
   "id": "263f1bae",
   "metadata": {
    "scrolled": true
   },
   "outputs": [
    {
     "name": "stdout",
     "output_type": "stream",
     "text": [
      "dict_keys(['loss', 'accuracy', 'val_loss', 'val_accuracy'])\n"
     ]
    },
    {
     "data": {
      "image/png": "[encoded data removed]",
      "text/plain": [
       "<Figure size 432x288 with 1 Axes>"
      ]
     },
     "metadata": {
      "needs_background": "light"
     },
     "output_type": "display_data"
    },
    {
     "data": {
      "image/png": "[encoded data removed]",
      "text/plain": [
       "<Figure size 432x288 with 1 Axes>"
      ]
     },
     "metadata": {
      "needs_background": "light"
     },
     "output_type": "display_data"
    }
   ],
   "source": [
    "print(model_num_3_fit.history.keys())\n",
    "plt.plot(model_num_3_fit.history['accuracy'])\n",
    "plt.plot(model_num_3_fit.history['val_accuracy'])\n",
    "plt.title('model accuracy')\n",
    "plt.ylabel('accuracy')\n",
    "plt.xlabel('epoch')\n",
    "plt.legend(['train', 'Val'], loc='upper left')\n",
    "plt.show()\n",
    "\n",
    "# summarize history for loss\n",
    "\n",
    "plt.plot(model_num_3_fit.history['loss'])\n",
    "plt.plot(model_num_3_fit.history['val_loss'])\n",
    "plt.title('model loss')\n",
    "plt.ylabel('loss')\n",
    "plt.xlabel('epoch')\n",
    "plt.legend(['train', 'Val'], loc='upper left')\n",
    "plt.show()"
   ]
  },
  {
   "cell_type": "code",
   "execution_count": null,
   "id": "642227bc",
   "metadata": {},
   "outputs": [],
   "source": []
  }
 ],
 "metadata": {
  "celltoolbar": "Raw Cell Format",
  "kernelspec": {
   "display_name": "Python 3",
   "language": "python",
   "name": "python3"
  }
 },
 "nbformat": 4,
 "nbformat_minor": 5
}
